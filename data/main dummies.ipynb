{
 "cells": [
  {
   "cell_type": "code",
   "execution_count": 1,
   "id": "2f1c06ac",
   "metadata": {},
   "outputs": [],
   "source": [
    "import pandas as pd\n"
   ]
  },
  {
   "cell_type": "code",
   "execution_count": 2,
   "id": "ab0b6c4f",
   "metadata": {},
   "outputs": [],
   "source": [
    "muestra = pd.read_csv(r'C:\\Users\\pablo\\Kaggle_Competition\\data\\muestra.csv',encoding='latin1')\n",
    "salary_data = pd.read_csv(r'C:\\Users\\pablo\\Kaggle_Competition\\data\\salaries_data.csv',encoding='latin1')\n",
    "testeo = pd.read_csv(r'C:\\Users\\pablo\\Kaggle_Competition\\data\\testeo.csv',encoding='latin1')"
   ]
  },
  {
   "cell_type": "code",
   "execution_count": 3,
   "id": "06570e64",
   "metadata": {},
   "outputs": [
    {
     "data": {
      "text/html": [
       "<div>\n",
       "<style scoped>\n",
       "    .dataframe tbody tr th:only-of-type {\n",
       "        vertical-align: middle;\n",
       "    }\n",
       "\n",
       "    .dataframe tbody tr th {\n",
       "        vertical-align: top;\n",
       "    }\n",
       "\n",
       "    .dataframe thead th {\n",
       "        text-align: right;\n",
       "    }\n",
       "</style>\n",
       "<table border=\"1\" class=\"dataframe\">\n",
       "  <thead>\n",
       "    <tr style=\"text-align: right;\">\n",
       "      <th></th>\n",
       "      <th>id</th>\n",
       "      <th>salary_in_usd</th>\n",
       "    </tr>\n",
       "  </thead>\n",
       "  <tbody>\n",
       "    <tr>\n",
       "      <th>0</th>\n",
       "      <td>0</td>\n",
       "      <td>70377</td>\n",
       "    </tr>\n",
       "    <tr>\n",
       "      <th>1</th>\n",
       "      <td>1</td>\n",
       "      <td>85839</td>\n",
       "    </tr>\n",
       "    <tr>\n",
       "      <th>2</th>\n",
       "      <td>2</td>\n",
       "      <td>63613</td>\n",
       "    </tr>\n",
       "    <tr>\n",
       "      <th>3</th>\n",
       "      <td>3</td>\n",
       "      <td>88561</td>\n",
       "    </tr>\n",
       "    <tr>\n",
       "      <th>4</th>\n",
       "      <td>4</td>\n",
       "      <td>37621</td>\n",
       "    </tr>\n",
       "    <tr>\n",
       "      <th>...</th>\n",
       "      <td>...</td>\n",
       "      <td>...</td>\n",
       "    </tr>\n",
       "    <tr>\n",
       "      <th>102</th>\n",
       "      <td>102</td>\n",
       "      <td>70639</td>\n",
       "    </tr>\n",
       "    <tr>\n",
       "      <th>103</th>\n",
       "      <td>103</td>\n",
       "      <td>33678</td>\n",
       "    </tr>\n",
       "    <tr>\n",
       "      <th>104</th>\n",
       "      <td>104</td>\n",
       "      <td>19021</td>\n",
       "    </tr>\n",
       "    <tr>\n",
       "      <th>105</th>\n",
       "      <td>105</td>\n",
       "      <td>21175</td>\n",
       "    </tr>\n",
       "    <tr>\n",
       "      <th>106</th>\n",
       "      <td>106</td>\n",
       "      <td>34801</td>\n",
       "    </tr>\n",
       "  </tbody>\n",
       "</table>\n",
       "<p>107 rows × 2 columns</p>\n",
       "</div>"
      ],
      "text/plain": [
       "      id  salary_in_usd\n",
       "0      0          70377\n",
       "1      1          85839\n",
       "2      2          63613\n",
       "3      3          88561\n",
       "4      4          37621\n",
       "..   ...            ...\n",
       "102  102          70639\n",
       "103  103          33678\n",
       "104  104          19021\n",
       "105  105          21175\n",
       "106  106          34801\n",
       "\n",
       "[107 rows x 2 columns]"
      ]
     },
     "execution_count": 3,
     "metadata": {},
     "output_type": "execute_result"
    }
   ],
   "source": [
    "muestra"
   ]
  },
  {
   "cell_type": "code",
   "execution_count": 4,
   "id": "8dcdd101",
   "metadata": {},
   "outputs": [],
   "source": [
    "X  = salary_data.drop('salary_in_usd',axis = 1)\n",
    "X_testeo = testeo.copy()"
   ]
  },
  {
   "cell_type": "code",
   "execution_count": 5,
   "id": "70bc5ddc",
   "metadata": {},
   "outputs": [],
   "source": [
    "concat = pd.concat([X, X_testeo], axis = 0)"
   ]
  },
  {
   "cell_type": "code",
   "execution_count": 6,
   "id": "1f154d36",
   "metadata": {},
   "outputs": [
    {
     "data": {
      "text/plain": [
       "(607, 10)"
      ]
     },
     "execution_count": 6,
     "metadata": {},
     "output_type": "execute_result"
    }
   ],
   "source": [
    "concat.shape"
   ]
  },
  {
   "cell_type": "code",
   "execution_count": 7,
   "id": "513ee4a5",
   "metadata": {},
   "outputs": [
    {
     "data": {
      "text/html": [
       "<div>\n",
       "<style scoped>\n",
       "    .dataframe tbody tr th:only-of-type {\n",
       "        vertical-align: middle;\n",
       "    }\n",
       "\n",
       "    .dataframe tbody tr th {\n",
       "        vertical-align: top;\n",
       "    }\n",
       "\n",
       "    .dataframe thead th {\n",
       "        text-align: right;\n",
       "    }\n",
       "</style>\n",
       "<table border=\"1\" class=\"dataframe\">\n",
       "  <thead>\n",
       "    <tr style=\"text-align: right;\">\n",
       "      <th></th>\n",
       "      <th>work_year</th>\n",
       "      <th>experience_level</th>\n",
       "      <th>employment_type</th>\n",
       "      <th>job_title</th>\n",
       "      <th>salary</th>\n",
       "      <th>salary_currency</th>\n",
       "      <th>employee_residence</th>\n",
       "      <th>remote_ratio</th>\n",
       "      <th>company_location</th>\n",
       "      <th>company_size</th>\n",
       "    </tr>\n",
       "  </thead>\n",
       "  <tbody>\n",
       "    <tr>\n",
       "      <th>0</th>\n",
       "      <td>2022</td>\n",
       "      <td>SE</td>\n",
       "      <td>FT</td>\n",
       "      <td>Data Engineer</td>\n",
       "      <td>140250</td>\n",
       "      <td>USD</td>\n",
       "      <td>US</td>\n",
       "      <td>100</td>\n",
       "      <td>US</td>\n",
       "      <td>M</td>\n",
       "    </tr>\n",
       "    <tr>\n",
       "      <th>1</th>\n",
       "      <td>2022</td>\n",
       "      <td>SE</td>\n",
       "      <td>FT</td>\n",
       "      <td>Data Engineer</td>\n",
       "      <td>135000</td>\n",
       "      <td>USD</td>\n",
       "      <td>US</td>\n",
       "      <td>100</td>\n",
       "      <td>US</td>\n",
       "      <td>M</td>\n",
       "    </tr>\n",
       "    <tr>\n",
       "      <th>2</th>\n",
       "      <td>2021</td>\n",
       "      <td>MI</td>\n",
       "      <td>FT</td>\n",
       "      <td>BI Data Analyst</td>\n",
       "      <td>100000</td>\n",
       "      <td>USD</td>\n",
       "      <td>US</td>\n",
       "      <td>100</td>\n",
       "      <td>US</td>\n",
       "      <td>M</td>\n",
       "    </tr>\n",
       "    <tr>\n",
       "      <th>3</th>\n",
       "      <td>2021</td>\n",
       "      <td>MI</td>\n",
       "      <td>CT</td>\n",
       "      <td>ML Engineer</td>\n",
       "      <td>270000</td>\n",
       "      <td>USD</td>\n",
       "      <td>US</td>\n",
       "      <td>100</td>\n",
       "      <td>US</td>\n",
       "      <td>L</td>\n",
       "    </tr>\n",
       "    <tr>\n",
       "      <th>4</th>\n",
       "      <td>2021</td>\n",
       "      <td>MI</td>\n",
       "      <td>FT</td>\n",
       "      <td>Data Engineer</td>\n",
       "      <td>22000</td>\n",
       "      <td>EUR</td>\n",
       "      <td>RO</td>\n",
       "      <td>0</td>\n",
       "      <td>US</td>\n",
       "      <td>L</td>\n",
       "    </tr>\n",
       "  </tbody>\n",
       "</table>\n",
       "</div>"
      ],
      "text/plain": [
       "   work_year experience_level employment_type        job_title  salary  \\\n",
       "0       2022               SE              FT    Data Engineer  140250   \n",
       "1       2022               SE              FT    Data Engineer  135000   \n",
       "2       2021               MI              FT  BI Data Analyst  100000   \n",
       "3       2021               MI              CT      ML Engineer  270000   \n",
       "4       2021               MI              FT    Data Engineer   22000   \n",
       "\n",
       "  salary_currency employee_residence  remote_ratio company_location  \\\n",
       "0             USD                 US           100               US   \n",
       "1             USD                 US           100               US   \n",
       "2             USD                 US           100               US   \n",
       "3             USD                 US           100               US   \n",
       "4             EUR                 RO             0               US   \n",
       "\n",
       "  company_size  \n",
       "0            M  \n",
       "1            M  \n",
       "2            M  \n",
       "3            L  \n",
       "4            L  "
      ]
     },
     "execution_count": 7,
     "metadata": {},
     "output_type": "execute_result"
    }
   ],
   "source": [
    "concat.head(5)"
   ]
  },
  {
   "cell_type": "code",
   "execution_count": 8,
   "id": "158c5e16",
   "metadata": {},
   "outputs": [
    {
     "data": {
      "text/plain": [
       "array(['SE', 'MI', 'EN', 'EX'], dtype=object)"
      ]
     },
     "execution_count": 8,
     "metadata": {},
     "output_type": "execute_result"
    }
   ],
   "source": [
    "concat.experience_level.unique()"
   ]
  },
  {
   "cell_type": "code",
   "execution_count": 9,
   "id": "02eb258f",
   "metadata": {},
   "outputs": [
    {
     "data": {
      "text/html": [
       "<div>\n",
       "<style scoped>\n",
       "    .dataframe tbody tr th:only-of-type {\n",
       "        vertical-align: middle;\n",
       "    }\n",
       "\n",
       "    .dataframe tbody tr th {\n",
       "        vertical-align: top;\n",
       "    }\n",
       "\n",
       "    .dataframe thead th {\n",
       "        text-align: right;\n",
       "    }\n",
       "</style>\n",
       "<table border=\"1\" class=\"dataframe\">\n",
       "  <thead>\n",
       "    <tr style=\"text-align: right;\">\n",
       "      <th></th>\n",
       "      <th>salary</th>\n",
       "      <th>salary_currency</th>\n",
       "      <th>work_year_2020</th>\n",
       "      <th>work_year_2021</th>\n",
       "      <th>work_year_2022</th>\n",
       "      <th>experience_level_EN</th>\n",
       "      <th>experience_level_EX</th>\n",
       "      <th>experience_level_MI</th>\n",
       "      <th>experience_level_SE</th>\n",
       "      <th>employment_type_CT</th>\n",
       "      <th>...</th>\n",
       "      <th>company_location_RU</th>\n",
       "      <th>company_location_SG</th>\n",
       "      <th>company_location_SI</th>\n",
       "      <th>company_location_TR</th>\n",
       "      <th>company_location_UA</th>\n",
       "      <th>company_location_US</th>\n",
       "      <th>company_location_VN</th>\n",
       "      <th>company_size_L</th>\n",
       "      <th>company_size_M</th>\n",
       "      <th>company_size_S</th>\n",
       "    </tr>\n",
       "  </thead>\n",
       "  <tbody>\n",
       "    <tr>\n",
       "      <th>0</th>\n",
       "      <td>140250</td>\n",
       "      <td>USD</td>\n",
       "      <td>0</td>\n",
       "      <td>0</td>\n",
       "      <td>1</td>\n",
       "      <td>0</td>\n",
       "      <td>0</td>\n",
       "      <td>0</td>\n",
       "      <td>1</td>\n",
       "      <td>0</td>\n",
       "      <td>...</td>\n",
       "      <td>0</td>\n",
       "      <td>0</td>\n",
       "      <td>0</td>\n",
       "      <td>0</td>\n",
       "      <td>0</td>\n",
       "      <td>1</td>\n",
       "      <td>0</td>\n",
       "      <td>0</td>\n",
       "      <td>1</td>\n",
       "      <td>0</td>\n",
       "    </tr>\n",
       "    <tr>\n",
       "      <th>1</th>\n",
       "      <td>135000</td>\n",
       "      <td>USD</td>\n",
       "      <td>0</td>\n",
       "      <td>0</td>\n",
       "      <td>1</td>\n",
       "      <td>0</td>\n",
       "      <td>0</td>\n",
       "      <td>0</td>\n",
       "      <td>1</td>\n",
       "      <td>0</td>\n",
       "      <td>...</td>\n",
       "      <td>0</td>\n",
       "      <td>0</td>\n",
       "      <td>0</td>\n",
       "      <td>0</td>\n",
       "      <td>0</td>\n",
       "      <td>1</td>\n",
       "      <td>0</td>\n",
       "      <td>0</td>\n",
       "      <td>1</td>\n",
       "      <td>0</td>\n",
       "    </tr>\n",
       "    <tr>\n",
       "      <th>2</th>\n",
       "      <td>100000</td>\n",
       "      <td>USD</td>\n",
       "      <td>0</td>\n",
       "      <td>1</td>\n",
       "      <td>0</td>\n",
       "      <td>0</td>\n",
       "      <td>0</td>\n",
       "      <td>1</td>\n",
       "      <td>0</td>\n",
       "      <td>0</td>\n",
       "      <td>...</td>\n",
       "      <td>0</td>\n",
       "      <td>0</td>\n",
       "      <td>0</td>\n",
       "      <td>0</td>\n",
       "      <td>0</td>\n",
       "      <td>1</td>\n",
       "      <td>0</td>\n",
       "      <td>0</td>\n",
       "      <td>1</td>\n",
       "      <td>0</td>\n",
       "    </tr>\n",
       "    <tr>\n",
       "      <th>3</th>\n",
       "      <td>270000</td>\n",
       "      <td>USD</td>\n",
       "      <td>0</td>\n",
       "      <td>1</td>\n",
       "      <td>0</td>\n",
       "      <td>0</td>\n",
       "      <td>0</td>\n",
       "      <td>1</td>\n",
       "      <td>0</td>\n",
       "      <td>1</td>\n",
       "      <td>...</td>\n",
       "      <td>0</td>\n",
       "      <td>0</td>\n",
       "      <td>0</td>\n",
       "      <td>0</td>\n",
       "      <td>0</td>\n",
       "      <td>1</td>\n",
       "      <td>0</td>\n",
       "      <td>1</td>\n",
       "      <td>0</td>\n",
       "      <td>0</td>\n",
       "    </tr>\n",
       "    <tr>\n",
       "      <th>4</th>\n",
       "      <td>22000</td>\n",
       "      <td>EUR</td>\n",
       "      <td>0</td>\n",
       "      <td>1</td>\n",
       "      <td>0</td>\n",
       "      <td>0</td>\n",
       "      <td>0</td>\n",
       "      <td>1</td>\n",
       "      <td>0</td>\n",
       "      <td>0</td>\n",
       "      <td>...</td>\n",
       "      <td>0</td>\n",
       "      <td>0</td>\n",
       "      <td>0</td>\n",
       "      <td>0</td>\n",
       "      <td>0</td>\n",
       "      <td>1</td>\n",
       "      <td>0</td>\n",
       "      <td>1</td>\n",
       "      <td>0</td>\n",
       "      <td>0</td>\n",
       "    </tr>\n",
       "  </tbody>\n",
       "</table>\n",
       "<p>5 rows × 176 columns</p>\n",
       "</div>"
      ],
      "text/plain": [
       "   salary salary_currency  work_year_2020  work_year_2021  work_year_2022  \\\n",
       "0  140250             USD               0               0               1   \n",
       "1  135000             USD               0               0               1   \n",
       "2  100000             USD               0               1               0   \n",
       "3  270000             USD               0               1               0   \n",
       "4   22000             EUR               0               1               0   \n",
       "\n",
       "   experience_level_EN  experience_level_EX  experience_level_MI  \\\n",
       "0                    0                    0                    0   \n",
       "1                    0                    0                    0   \n",
       "2                    0                    0                    1   \n",
       "3                    0                    0                    1   \n",
       "4                    0                    0                    1   \n",
       "\n",
       "   experience_level_SE  employment_type_CT  ...  company_location_RU  \\\n",
       "0                    1                   0  ...                    0   \n",
       "1                    1                   0  ...                    0   \n",
       "2                    0                   0  ...                    0   \n",
       "3                    0                   1  ...                    0   \n",
       "4                    0                   0  ...                    0   \n",
       "\n",
       "   company_location_SG  company_location_SI  company_location_TR  \\\n",
       "0                    0                    0                    0   \n",
       "1                    0                    0                    0   \n",
       "2                    0                    0                    0   \n",
       "3                    0                    0                    0   \n",
       "4                    0                    0                    0   \n",
       "\n",
       "   company_location_UA  company_location_US  company_location_VN  \\\n",
       "0                    0                    1                    0   \n",
       "1                    0                    1                    0   \n",
       "2                    0                    1                    0   \n",
       "3                    0                    1                    0   \n",
       "4                    0                    1                    0   \n",
       "\n",
       "   company_size_L  company_size_M  company_size_S  \n",
       "0               0               1               0  \n",
       "1               0               1               0  \n",
       "2               0               1               0  \n",
       "3               1               0               0  \n",
       "4               1               0               0  \n",
       "\n",
       "[5 rows x 176 columns]"
      ]
     },
     "execution_count": 9,
     "metadata": {},
     "output_type": "execute_result"
    }
   ],
   "source": [
    "# get dummies\n",
    "concat = pd.get_dummies(concat, columns=['work_year', 'experience_level', 'employment_type', 'job_title',\n",
    "         'employee_residence',\n",
    "       'remote_ratio', 'company_location', 'company_size'])#, drop_first=True)\n",
    "y = salary_data.salary_in_usd\n",
    "concat.head()"
   ]
  },
  {
   "cell_type": "code",
   "execution_count": 10,
   "id": "473d800d",
   "metadata": {},
   "outputs": [
    {
     "name": "stdout",
     "output_type": "stream",
     "text": [
      "<class 'pandas.core.frame.DataFrame'>\n",
      "Int64Index: 607 entries, 0 to 106\n",
      "Columns: 176 entries, salary to company_size_S\n",
      "dtypes: int64(1), object(1), uint8(174)\n",
      "memory usage: 117.4+ KB\n"
     ]
    }
   ],
   "source": [
    "concat.info()"
   ]
  },
  {
   "cell_type": "code",
   "execution_count": 11,
   "id": "d179ab9e",
   "metadata": {},
   "outputs": [],
   "source": [
    "concat.drop(columns='salary', inplace = True)\n",
    "concat.drop(columns='salary_currency', inplace = True)"
   ]
  },
  {
   "cell_type": "code",
   "execution_count": 12,
   "id": "7782bb48",
   "metadata": {},
   "outputs": [],
   "source": [
    "import pylab as plt\n",
    "# import matplotlib.pyplot as plt\n",
    "\n",
    "plt.rcParams['figure.figsize']=(15, 8)   # tamaño por defecto, decenas de pixeles\n",
    "\n",
    "import seaborn as sns"
   ]
  },
  {
   "cell_type": "code",
   "execution_count": 13,
   "id": "ccbf4c85",
   "metadata": {},
   "outputs": [],
   "source": [
    "import numpy as np"
   ]
  },
  {
   "cell_type": "code",
   "execution_count": 14,
   "id": "2590de8c",
   "metadata": {
    "scrolled": true
   },
   "outputs": [
    {
     "name": "stdout",
     "output_type": "stream",
     "text": [
      "Requirement already satisfied: lazypredict in c:\\users\\pablo\\anaconda3\\lib\\site-packages (0.2.12)\n",
      "Requirement already satisfied: pandas in c:\\users\\pablo\\anaconda3\\lib\\site-packages (from lazypredict) (1.4.2)\n",
      "Requirement already satisfied: click in c:\\users\\pablo\\anaconda3\\lib\\site-packages (from lazypredict) (8.0.4)\n",
      "Requirement already satisfied: tqdm in c:\\users\\pablo\\anaconda3\\lib\\site-packages (from lazypredict) (4.64.0)\n",
      "Requirement already satisfied: xgboost in c:\\users\\pablo\\anaconda3\\lib\\site-packages (from lazypredict) (1.7.1)\n",
      "Requirement already satisfied: joblib in c:\\users\\pablo\\anaconda3\\lib\\site-packages (from lazypredict) (1.1.0)\n",
      "Requirement already satisfied: lightgbm in c:\\users\\pablo\\anaconda3\\lib\\site-packages (from lazypredict) (3.3.3)\n",
      "Requirement already satisfied: scikit-learn in c:\\users\\pablo\\anaconda3\\lib\\site-packages (from lazypredict) (1.0.2)\n",
      "Requirement already satisfied: colorama in c:\\users\\pablo\\anaconda3\\lib\\site-packages (from click->lazypredict) (0.4.4)\n",
      "Requirement already satisfied: numpy in c:\\users\\pablo\\anaconda3\\lib\\site-packages (from lightgbm->lazypredict) (1.21.5)\n",
      "Requirement already satisfied: scipy in c:\\users\\pablo\\anaconda3\\lib\\site-packages (from lightgbm->lazypredict) (1.7.3)\n",
      "Requirement already satisfied: wheel in c:\\users\\pablo\\anaconda3\\lib\\site-packages (from lightgbm->lazypredict) (0.37.1)\n",
      "Requirement already satisfied: threadpoolctl>=2.0.0 in c:\\users\\pablo\\anaconda3\\lib\\site-packages (from scikit-learn->lazypredict) (2.2.0)\n",
      "Requirement already satisfied: python-dateutil>=2.8.1 in c:\\users\\pablo\\anaconda3\\lib\\site-packages (from pandas->lazypredict) (2.8.2)\n",
      "Requirement already satisfied: pytz>=2020.1 in c:\\users\\pablo\\anaconda3\\lib\\site-packages (from pandas->lazypredict) (2021.3)\n",
      "Requirement already satisfied: six>=1.5 in c:\\users\\pablo\\anaconda3\\lib\\site-packages (from python-dateutil>=2.8.1->pandas->lazypredict) (1.16.0)\n",
      "Note: you may need to restart the kernel to use updated packages.\n"
     ]
    }
   ],
   "source": [
    "%pip install lazypredict"
   ]
  },
  {
   "cell_type": "code",
   "execution_count": 15,
   "id": "0914d801",
   "metadata": {},
   "outputs": [],
   "source": [
    "from lazypredict.Supervised import LazyRegressor\n",
    "\n",
    "from sklearn import datasets\n",
    "\n",
    "from sklearn.utils import shuffle\n",
    "\n",
    "import numpy as np"
   ]
  },
  {
   "cell_type": "code",
   "execution_count": 16,
   "id": "01d5cfc4",
   "metadata": {},
   "outputs": [],
   "source": [
    "X_testeo = concat[-107:] # previamente hemos dropeado la columna objetivo salary_in_usd, antes de concat TESTEO\n",
    "X = concat[:-107] # viene del archivo testeo donde no existe la columna salary_in_usd, antes de concat TRAIN"
   ]
  },
  {
   "cell_type": "code",
   "execution_count": 17,
   "id": "321eba4c",
   "metadata": {},
   "outputs": [
    {
     "data": {
      "text/plain": [
       "500"
      ]
     },
     "execution_count": 17,
     "metadata": {},
     "output_type": "execute_result"
    }
   ],
   "source": [
    "len(X)"
   ]
  },
  {
   "cell_type": "code",
   "execution_count": 18,
   "id": "7de0562c",
   "metadata": {},
   "outputs": [
    {
     "data": {
      "text/plain": [
       "107"
      ]
     },
     "execution_count": 18,
     "metadata": {},
     "output_type": "execute_result"
    }
   ],
   "source": [
    "len(X_testeo)"
   ]
  },
  {
   "cell_type": "code",
   "execution_count": null,
   "id": "4d4ea957",
   "metadata": {},
   "outputs": [],
   "source": []
  },
  {
   "cell_type": "markdown",
   "id": "4add69c5",
   "metadata": {},
   "source": [
    "### 1º DETERMINAMOS X y Y"
   ]
  },
  {
   "cell_type": "code",
   "execution_count": 19,
   "id": "9409293a",
   "metadata": {},
   "outputs": [],
   "source": [
    "y = salary_data.salary_in_usd"
   ]
  },
  {
   "cell_type": "code",
   "execution_count": 20,
   "id": "d23922ed",
   "metadata": {},
   "outputs": [
    {
     "data": {
      "text/html": [
       "<div>\n",
       "<style scoped>\n",
       "    .dataframe tbody tr th:only-of-type {\n",
       "        vertical-align: middle;\n",
       "    }\n",
       "\n",
       "    .dataframe tbody tr th {\n",
       "        vertical-align: top;\n",
       "    }\n",
       "\n",
       "    .dataframe thead th {\n",
       "        text-align: right;\n",
       "    }\n",
       "</style>\n",
       "<table border=\"1\" class=\"dataframe\">\n",
       "  <thead>\n",
       "    <tr style=\"text-align: right;\">\n",
       "      <th></th>\n",
       "      <th>work_year_2020</th>\n",
       "      <th>work_year_2021</th>\n",
       "      <th>work_year_2022</th>\n",
       "      <th>experience_level_EN</th>\n",
       "      <th>experience_level_EX</th>\n",
       "      <th>experience_level_MI</th>\n",
       "      <th>experience_level_SE</th>\n",
       "      <th>employment_type_CT</th>\n",
       "      <th>employment_type_FL</th>\n",
       "      <th>employment_type_FT</th>\n",
       "      <th>...</th>\n",
       "      <th>company_location_RU</th>\n",
       "      <th>company_location_SG</th>\n",
       "      <th>company_location_SI</th>\n",
       "      <th>company_location_TR</th>\n",
       "      <th>company_location_UA</th>\n",
       "      <th>company_location_US</th>\n",
       "      <th>company_location_VN</th>\n",
       "      <th>company_size_L</th>\n",
       "      <th>company_size_M</th>\n",
       "      <th>company_size_S</th>\n",
       "    </tr>\n",
       "  </thead>\n",
       "  <tbody>\n",
       "    <tr>\n",
       "      <th>0</th>\n",
       "      <td>0</td>\n",
       "      <td>0</td>\n",
       "      <td>1</td>\n",
       "      <td>0</td>\n",
       "      <td>0</td>\n",
       "      <td>0</td>\n",
       "      <td>1</td>\n",
       "      <td>0</td>\n",
       "      <td>0</td>\n",
       "      <td>1</td>\n",
       "      <td>...</td>\n",
       "      <td>0</td>\n",
       "      <td>0</td>\n",
       "      <td>0</td>\n",
       "      <td>0</td>\n",
       "      <td>0</td>\n",
       "      <td>1</td>\n",
       "      <td>0</td>\n",
       "      <td>0</td>\n",
       "      <td>1</td>\n",
       "      <td>0</td>\n",
       "    </tr>\n",
       "    <tr>\n",
       "      <th>1</th>\n",
       "      <td>0</td>\n",
       "      <td>0</td>\n",
       "      <td>1</td>\n",
       "      <td>0</td>\n",
       "      <td>0</td>\n",
       "      <td>0</td>\n",
       "      <td>1</td>\n",
       "      <td>0</td>\n",
       "      <td>0</td>\n",
       "      <td>1</td>\n",
       "      <td>...</td>\n",
       "      <td>0</td>\n",
       "      <td>0</td>\n",
       "      <td>0</td>\n",
       "      <td>0</td>\n",
       "      <td>0</td>\n",
       "      <td>1</td>\n",
       "      <td>0</td>\n",
       "      <td>0</td>\n",
       "      <td>1</td>\n",
       "      <td>0</td>\n",
       "    </tr>\n",
       "    <tr>\n",
       "      <th>2</th>\n",
       "      <td>0</td>\n",
       "      <td>1</td>\n",
       "      <td>0</td>\n",
       "      <td>0</td>\n",
       "      <td>0</td>\n",
       "      <td>1</td>\n",
       "      <td>0</td>\n",
       "      <td>0</td>\n",
       "      <td>0</td>\n",
       "      <td>1</td>\n",
       "      <td>...</td>\n",
       "      <td>0</td>\n",
       "      <td>0</td>\n",
       "      <td>0</td>\n",
       "      <td>0</td>\n",
       "      <td>0</td>\n",
       "      <td>1</td>\n",
       "      <td>0</td>\n",
       "      <td>0</td>\n",
       "      <td>1</td>\n",
       "      <td>0</td>\n",
       "    </tr>\n",
       "    <tr>\n",
       "      <th>3</th>\n",
       "      <td>0</td>\n",
       "      <td>1</td>\n",
       "      <td>0</td>\n",
       "      <td>0</td>\n",
       "      <td>0</td>\n",
       "      <td>1</td>\n",
       "      <td>0</td>\n",
       "      <td>1</td>\n",
       "      <td>0</td>\n",
       "      <td>0</td>\n",
       "      <td>...</td>\n",
       "      <td>0</td>\n",
       "      <td>0</td>\n",
       "      <td>0</td>\n",
       "      <td>0</td>\n",
       "      <td>0</td>\n",
       "      <td>1</td>\n",
       "      <td>0</td>\n",
       "      <td>1</td>\n",
       "      <td>0</td>\n",
       "      <td>0</td>\n",
       "    </tr>\n",
       "    <tr>\n",
       "      <th>4</th>\n",
       "      <td>0</td>\n",
       "      <td>1</td>\n",
       "      <td>0</td>\n",
       "      <td>0</td>\n",
       "      <td>0</td>\n",
       "      <td>1</td>\n",
       "      <td>0</td>\n",
       "      <td>0</td>\n",
       "      <td>0</td>\n",
       "      <td>1</td>\n",
       "      <td>...</td>\n",
       "      <td>0</td>\n",
       "      <td>0</td>\n",
       "      <td>0</td>\n",
       "      <td>0</td>\n",
       "      <td>0</td>\n",
       "      <td>1</td>\n",
       "      <td>0</td>\n",
       "      <td>1</td>\n",
       "      <td>0</td>\n",
       "      <td>0</td>\n",
       "    </tr>\n",
       "    <tr>\n",
       "      <th>...</th>\n",
       "      <td>...</td>\n",
       "      <td>...</td>\n",
       "      <td>...</td>\n",
       "      <td>...</td>\n",
       "      <td>...</td>\n",
       "      <td>...</td>\n",
       "      <td>...</td>\n",
       "      <td>...</td>\n",
       "      <td>...</td>\n",
       "      <td>...</td>\n",
       "      <td>...</td>\n",
       "      <td>...</td>\n",
       "      <td>...</td>\n",
       "      <td>...</td>\n",
       "      <td>...</td>\n",
       "      <td>...</td>\n",
       "      <td>...</td>\n",
       "      <td>...</td>\n",
       "      <td>...</td>\n",
       "      <td>...</td>\n",
       "      <td>...</td>\n",
       "    </tr>\n",
       "    <tr>\n",
       "      <th>495</th>\n",
       "      <td>0</td>\n",
       "      <td>0</td>\n",
       "      <td>1</td>\n",
       "      <td>0</td>\n",
       "      <td>0</td>\n",
       "      <td>0</td>\n",
       "      <td>1</td>\n",
       "      <td>0</td>\n",
       "      <td>0</td>\n",
       "      <td>1</td>\n",
       "      <td>...</td>\n",
       "      <td>0</td>\n",
       "      <td>0</td>\n",
       "      <td>0</td>\n",
       "      <td>0</td>\n",
       "      <td>0</td>\n",
       "      <td>1</td>\n",
       "      <td>0</td>\n",
       "      <td>0</td>\n",
       "      <td>1</td>\n",
       "      <td>0</td>\n",
       "    </tr>\n",
       "    <tr>\n",
       "      <th>496</th>\n",
       "      <td>0</td>\n",
       "      <td>1</td>\n",
       "      <td>0</td>\n",
       "      <td>1</td>\n",
       "      <td>0</td>\n",
       "      <td>0</td>\n",
       "      <td>0</td>\n",
       "      <td>0</td>\n",
       "      <td>0</td>\n",
       "      <td>1</td>\n",
       "      <td>...</td>\n",
       "      <td>0</td>\n",
       "      <td>0</td>\n",
       "      <td>0</td>\n",
       "      <td>0</td>\n",
       "      <td>0</td>\n",
       "      <td>0</td>\n",
       "      <td>0</td>\n",
       "      <td>1</td>\n",
       "      <td>0</td>\n",
       "      <td>0</td>\n",
       "    </tr>\n",
       "    <tr>\n",
       "      <th>497</th>\n",
       "      <td>0</td>\n",
       "      <td>0</td>\n",
       "      <td>1</td>\n",
       "      <td>0</td>\n",
       "      <td>0</td>\n",
       "      <td>0</td>\n",
       "      <td>1</td>\n",
       "      <td>0</td>\n",
       "      <td>0</td>\n",
       "      <td>1</td>\n",
       "      <td>...</td>\n",
       "      <td>0</td>\n",
       "      <td>0</td>\n",
       "      <td>0</td>\n",
       "      <td>0</td>\n",
       "      <td>0</td>\n",
       "      <td>0</td>\n",
       "      <td>0</td>\n",
       "      <td>0</td>\n",
       "      <td>1</td>\n",
       "      <td>0</td>\n",
       "    </tr>\n",
       "    <tr>\n",
       "      <th>498</th>\n",
       "      <td>0</td>\n",
       "      <td>1</td>\n",
       "      <td>0</td>\n",
       "      <td>0</td>\n",
       "      <td>0</td>\n",
       "      <td>1</td>\n",
       "      <td>0</td>\n",
       "      <td>0</td>\n",
       "      <td>0</td>\n",
       "      <td>1</td>\n",
       "      <td>...</td>\n",
       "      <td>0</td>\n",
       "      <td>0</td>\n",
       "      <td>0</td>\n",
       "      <td>0</td>\n",
       "      <td>0</td>\n",
       "      <td>0</td>\n",
       "      <td>0</td>\n",
       "      <td>1</td>\n",
       "      <td>0</td>\n",
       "      <td>0</td>\n",
       "    </tr>\n",
       "    <tr>\n",
       "      <th>499</th>\n",
       "      <td>0</td>\n",
       "      <td>1</td>\n",
       "      <td>0</td>\n",
       "      <td>1</td>\n",
       "      <td>0</td>\n",
       "      <td>0</td>\n",
       "      <td>0</td>\n",
       "      <td>0</td>\n",
       "      <td>0</td>\n",
       "      <td>1</td>\n",
       "      <td>...</td>\n",
       "      <td>0</td>\n",
       "      <td>0</td>\n",
       "      <td>0</td>\n",
       "      <td>0</td>\n",
       "      <td>0</td>\n",
       "      <td>1</td>\n",
       "      <td>0</td>\n",
       "      <td>0</td>\n",
       "      <td>1</td>\n",
       "      <td>0</td>\n",
       "    </tr>\n",
       "  </tbody>\n",
       "</table>\n",
       "<p>500 rows × 174 columns</p>\n",
       "</div>"
      ],
      "text/plain": [
       "     work_year_2020  work_year_2021  work_year_2022  experience_level_EN  \\\n",
       "0                 0               0               1                    0   \n",
       "1                 0               0               1                    0   \n",
       "2                 0               1               0                    0   \n",
       "3                 0               1               0                    0   \n",
       "4                 0               1               0                    0   \n",
       "..              ...             ...             ...                  ...   \n",
       "495               0               0               1                    0   \n",
       "496               0               1               0                    1   \n",
       "497               0               0               1                    0   \n",
       "498               0               1               0                    0   \n",
       "499               0               1               0                    1   \n",
       "\n",
       "     experience_level_EX  experience_level_MI  experience_level_SE  \\\n",
       "0                      0                    0                    1   \n",
       "1                      0                    0                    1   \n",
       "2                      0                    1                    0   \n",
       "3                      0                    1                    0   \n",
       "4                      0                    1                    0   \n",
       "..                   ...                  ...                  ...   \n",
       "495                    0                    0                    1   \n",
       "496                    0                    0                    0   \n",
       "497                    0                    0                    1   \n",
       "498                    0                    1                    0   \n",
       "499                    0                    0                    0   \n",
       "\n",
       "     employment_type_CT  employment_type_FL  employment_type_FT  ...  \\\n",
       "0                     0                   0                   1  ...   \n",
       "1                     0                   0                   1  ...   \n",
       "2                     0                   0                   1  ...   \n",
       "3                     1                   0                   0  ...   \n",
       "4                     0                   0                   1  ...   \n",
       "..                  ...                 ...                 ...  ...   \n",
       "495                   0                   0                   1  ...   \n",
       "496                   0                   0                   1  ...   \n",
       "497                   0                   0                   1  ...   \n",
       "498                   0                   0                   1  ...   \n",
       "499                   0                   0                   1  ...   \n",
       "\n",
       "     company_location_RU  company_location_SG  company_location_SI  \\\n",
       "0                      0                    0                    0   \n",
       "1                      0                    0                    0   \n",
       "2                      0                    0                    0   \n",
       "3                      0                    0                    0   \n",
       "4                      0                    0                    0   \n",
       "..                   ...                  ...                  ...   \n",
       "495                    0                    0                    0   \n",
       "496                    0                    0                    0   \n",
       "497                    0                    0                    0   \n",
       "498                    0                    0                    0   \n",
       "499                    0                    0                    0   \n",
       "\n",
       "     company_location_TR  company_location_UA  company_location_US  \\\n",
       "0                      0                    0                    1   \n",
       "1                      0                    0                    1   \n",
       "2                      0                    0                    1   \n",
       "3                      0                    0                    1   \n",
       "4                      0                    0                    1   \n",
       "..                   ...                  ...                  ...   \n",
       "495                    0                    0                    1   \n",
       "496                    0                    0                    0   \n",
       "497                    0                    0                    0   \n",
       "498                    0                    0                    0   \n",
       "499                    0                    0                    1   \n",
       "\n",
       "     company_location_VN  company_size_L  company_size_M  company_size_S  \n",
       "0                      0               0               1               0  \n",
       "1                      0               0               1               0  \n",
       "2                      0               0               1               0  \n",
       "3                      0               1               0               0  \n",
       "4                      0               1               0               0  \n",
       "..                   ...             ...             ...             ...  \n",
       "495                    0               0               1               0  \n",
       "496                    0               1               0               0  \n",
       "497                    0               0               1               0  \n",
       "498                    0               1               0               0  \n",
       "499                    0               0               1               0  \n",
       "\n",
       "[500 rows x 174 columns]"
      ]
     },
     "execution_count": 20,
     "metadata": {},
     "output_type": "execute_result"
    }
   ],
   "source": [
    "X # salary_data"
   ]
  },
  {
   "cell_type": "markdown",
   "id": "74f29415",
   "metadata": {},
   "source": [
    "### 2º SPLITEAMOS X y Y TRAIN, TEST"
   ]
  },
  {
   "cell_type": "code",
   "execution_count": 21,
   "id": "7fc7a469",
   "metadata": {},
   "outputs": [],
   "source": [
    "from sklearn.model_selection import train_test_split as tts "
   ]
  },
  {
   "cell_type": "code",
   "execution_count": 22,
   "id": "937b8a85",
   "metadata": {},
   "outputs": [
    {
     "data": {
      "text/plain": [
       "((400, 174), (100, 174), (400,), (100,))"
      ]
     },
     "execution_count": 22,
     "metadata": {},
     "output_type": "execute_result"
    }
   ],
   "source": [
    "X_train, X_test, y_train, y_test = tts(X, y, train_size=0.8, test_size=0.2, random_state=22)\n",
    "\n",
    "X_train.shape, X_test.shape, y_train.shape, y_test.shape"
   ]
  },
  {
   "cell_type": "markdown",
   "id": "a5ea2b1e",
   "metadata": {},
   "source": [
    "### 3º INICIAMOS MODELO"
   ]
  },
  {
   "cell_type": "code",
   "execution_count": 23,
   "id": "30c8b8aa",
   "metadata": {},
   "outputs": [],
   "source": [
    "reg = LazyRegressor(verbose=0, ignore_warnings=False, custom_metric=None) "
   ]
  },
  {
   "cell_type": "markdown",
   "id": "b72916e4",
   "metadata": {},
   "source": [
    "### 4º ENTRENAMOS"
   ]
  },
  {
   "cell_type": "code",
   "execution_count": 24,
   "id": "3159cd62",
   "metadata": {},
   "outputs": [
    {
     "name": "stderr",
     "output_type": "stream",
     "text": [
      "100%|██████████| 42/42 [00:10<00:00,  4.15it/s]"
     ]
    },
    {
     "name": "stdout",
     "output_type": "stream",
     "text": [
      "                                             Adjusted R-Squared  \\\n",
      "Model                                                             \n",
      "Lars                          110039332891765873330383486976.00   \n",
      "RANSACRegressor                 1988546224452773607441956864.00   \n",
      "TransformedTargetRegressor       943825230167615707688206336.00   \n",
      "LinearRegression                 943825230167615707688206336.00   \n",
      "KernelRidge                                                7.79   \n",
      "MLPRegressor                                               6.93   \n",
      "LinearSVR                                                  6.92   \n",
      "GaussianProcessRegressor                                   3.64   \n",
      "SGDRegressor                                               3.04   \n",
      "Lasso                                                      3.03   \n",
      "Ridge                                                      2.93   \n",
      "RidgeCV                                                    2.76   \n",
      "HuberRegressor                                             2.67   \n",
      "OrthogonalMatchingPursuit                                  2.44   \n",
      "LassoLars                                                  2.39   \n",
      "DummyRegressor                                             2.35   \n",
      "PoissonRegressor                                           2.35   \n",
      "NuSVR                                                      2.32   \n",
      "QuantileRegressor                                          2.32   \n",
      "SVR                                                        2.32   \n",
      "ElasticNetCV                                               2.24   \n",
      "KNeighborsRegressor                                        1.95   \n",
      "LarsCV                                                     1.95   \n",
      "BayesianRidge                                              1.95   \n",
      "AdaBoostRegressor                                          1.89   \n",
      "LassoLarsIC                                                1.89   \n",
      "LassoLarsCV                                                1.75   \n",
      "LassoCV                                                    1.71   \n",
      "ElasticNet                                                 1.69   \n",
      "PassiveAggressiveRegressor                                 1.66   \n",
      "HistGradientBoostingRegressor                              1.66   \n",
      "LGBMRegressor                                              1.66   \n",
      "TweedieRegressor                                           1.63   \n",
      "DecisionTreeRegressor                                      1.62   \n",
      "XGBRegressor                                               1.62   \n",
      "ExtraTreeRegressor                                         1.62   \n",
      "OrthogonalMatchingPursuitCV                                1.61   \n",
      "ExtraTreesRegressor                                        1.61   \n",
      "GammaRegressor                                             1.58   \n",
      "RandomForestRegressor                                      1.53   \n",
      "BaggingRegressor                                           1.52   \n",
      "GradientBoostingRegressor                                  1.51   \n",
      "\n",
      "                                                      R-Squared  \\\n",
      "Model                                                             \n",
      "Lars                          -83363130978610499969940979712.00   \n",
      "RANSACRegressor                -1506474412464222413221003264.00   \n",
      "TransformedTargetRegressor      -715019113763345237261942784.00   \n",
      "LinearRegression                -715019113763345237261942784.00   \n",
      "KernelRidge                                               -4.14   \n",
      "MLPRegressor                                              -3.49   \n",
      "LinearSVR                                                 -3.48   \n",
      "GaussianProcessRegressor                                  -1.00   \n",
      "SGDRegressor                                              -0.54   \n",
      "Lasso                                                     -0.54   \n",
      "Ridge                                                     -0.47   \n",
      "RidgeCV                                                   -0.34   \n",
      "HuberRegressor                                            -0.26   \n",
      "OrthogonalMatchingPursuit                                 -0.09   \n",
      "LassoLars                                                 -0.05   \n",
      "DummyRegressor                                            -0.03   \n",
      "PoissonRegressor                                          -0.02   \n",
      "NuSVR                                                     -0.00   \n",
      "QuantileRegressor                                         -0.00   \n",
      "SVR                                                       -0.00   \n",
      "ElasticNetCV                                               0.06   \n",
      "KNeighborsRegressor                                        0.28   \n",
      "LarsCV                                                     0.28   \n",
      "BayesianRidge                                              0.28   \n",
      "AdaBoostRegressor                                          0.32   \n",
      "LassoLarsIC                                                0.33   \n",
      "LassoLarsCV                                                0.43   \n",
      "LassoCV                                                    0.46   \n",
      "ElasticNet                                                 0.48   \n",
      "PassiveAggressiveRegressor                                 0.50   \n",
      "HistGradientBoostingRegressor                              0.50   \n",
      "LGBMRegressor                                              0.50   \n",
      "TweedieRegressor                                           0.52   \n",
      "DecisionTreeRegressor                                      0.53   \n",
      "XGBRegressor                                               0.53   \n",
      "ExtraTreeRegressor                                         0.53   \n",
      "OrthogonalMatchingPursuitCV                                0.53   \n",
      "ExtraTreesRegressor                                        0.53   \n",
      "GammaRegressor                                             0.56   \n",
      "RandomForestRegressor                                      0.60   \n",
      "BaggingRegressor                                           0.60   \n",
      "GradientBoostingRegressor                                  0.61   \n",
      "\n",
      "                                                 RMSE  Time Taken  \n",
      "Model                                                              \n",
      "Lars                          16291113946921545728.00        0.09  \n",
      "RANSACRegressor                2190002710200180992.00        0.50  \n",
      "TransformedTargetRegressor     1508768465001197824.00        0.03  \n",
      "LinearRegression               1508768465001197824.00        0.02  \n",
      "KernelRidge                                 127924.92        0.03  \n",
      "MLPRegressor                                119551.69        0.83  \n",
      "LinearSVR                                   119456.81        0.02  \n",
      "GaussianProcessRegressor                     79840.18        0.10  \n",
      "SGDRegressor                                 70119.90        0.04  \n",
      "Lasso                                        70017.93        0.11  \n",
      "Ridge                                        68303.85        0.02  \n",
      "RidgeCV                                      65204.83        0.03  \n",
      "HuberRegressor                               63428.14        0.12  \n",
      "OrthogonalMatchingPursuit                    58966.86        0.03  \n",
      "LassoLars                                    57916.79        0.05  \n",
      "DummyRegressor                               57158.06        0.02  \n",
      "PoissonRegressor                             57042.97        0.05  \n",
      "NuSVR                                        56439.07        0.04  \n",
      "QuantileRegressor                            56432.66        2.85  \n",
      "SVR                                          56425.52        0.05  \n",
      "ElasticNetCV                                 54755.69        0.15  \n",
      "KNeighborsRegressor                          47864.61        0.02  \n",
      "LarsCV                                       47864.21        0.31  \n",
      "BayesianRidge                                47825.23        0.05  \n",
      "AdaBoostRegressor                            46431.16        0.09  \n",
      "LassoLarsIC                                  46218.26        0.06  \n",
      "LassoLarsCV                                  42563.18        0.17  \n",
      "LassoCV                                      41374.47        0.73  \n",
      "ElasticNet                                   40863.69        0.02  \n",
      "PassiveAggressiveRegressor                   39868.62        0.32  \n",
      "HistGradientBoostingRegressor                39752.58        1.61  \n",
      "LGBMRegressor                                39752.58        0.08  \n",
      "TweedieRegressor                             38964.87        0.02  \n",
      "DecisionTreeRegressor                        38784.68        0.02  \n",
      "XGBRegressor                                 38569.96        0.18  \n",
      "ExtraTreeRegressor                           38567.93        0.02  \n",
      "OrthogonalMatchingPursuitCV                  38510.80        0.05  \n",
      "ExtraTreesRegressor                          38486.20        0.48  \n",
      "GammaRegressor                               37366.44        0.03  \n",
      "RandomForestRegressor                        35814.96        0.38  \n",
      "BaggingRegressor                             35515.33        0.06  \n",
      "GradientBoostingRegressor                    35017.31        0.20  \n"
     ]
    },
    {
     "name": "stderr",
     "output_type": "stream",
     "text": [
      "\n"
     ]
    }
   ],
   "source": [
    "models, predictions = reg.fit(X_train, X_test, y_train, y_test)\n",
    "print(models)"
   ]
  },
  {
   "cell_type": "markdown",
   "id": "3d0cd8e9",
   "metadata": {},
   "source": [
    "### MODELO : RANDOM FOREST REGRETION"
   ]
  },
  {
   "cell_type": "code",
   "execution_count": 25,
   "id": "52613964",
   "metadata": {},
   "outputs": [],
   "source": [
    "from sklearn.ensemble import RandomForestRegressor as Rfr"
   ]
  },
  {
   "cell_type": "code",
   "execution_count": 26,
   "id": "6c778e15",
   "metadata": {},
   "outputs": [
    {
     "data": {
      "text/html": [
       "<div>\n",
       "<style scoped>\n",
       "    .dataframe tbody tr th:only-of-type {\n",
       "        vertical-align: middle;\n",
       "    }\n",
       "\n",
       "    .dataframe tbody tr th {\n",
       "        vertical-align: top;\n",
       "    }\n",
       "\n",
       "    .dataframe thead th {\n",
       "        text-align: right;\n",
       "    }\n",
       "</style>\n",
       "<table border=\"1\" class=\"dataframe\">\n",
       "  <thead>\n",
       "    <tr style=\"text-align: right;\">\n",
       "      <th></th>\n",
       "      <th>work_year_2020</th>\n",
       "      <th>work_year_2021</th>\n",
       "      <th>work_year_2022</th>\n",
       "      <th>experience_level_EN</th>\n",
       "      <th>experience_level_EX</th>\n",
       "      <th>experience_level_MI</th>\n",
       "      <th>experience_level_SE</th>\n",
       "      <th>employment_type_CT</th>\n",
       "      <th>employment_type_FL</th>\n",
       "      <th>employment_type_FT</th>\n",
       "      <th>...</th>\n",
       "      <th>company_location_RU</th>\n",
       "      <th>company_location_SG</th>\n",
       "      <th>company_location_SI</th>\n",
       "      <th>company_location_TR</th>\n",
       "      <th>company_location_UA</th>\n",
       "      <th>company_location_US</th>\n",
       "      <th>company_location_VN</th>\n",
       "      <th>company_size_L</th>\n",
       "      <th>company_size_M</th>\n",
       "      <th>company_size_S</th>\n",
       "    </tr>\n",
       "  </thead>\n",
       "  <tbody>\n",
       "    <tr>\n",
       "      <th>94</th>\n",
       "      <td>0</td>\n",
       "      <td>0</td>\n",
       "      <td>1</td>\n",
       "      <td>0</td>\n",
       "      <td>0</td>\n",
       "      <td>0</td>\n",
       "      <td>1</td>\n",
       "      <td>0</td>\n",
       "      <td>0</td>\n",
       "      <td>1</td>\n",
       "      <td>...</td>\n",
       "      <td>0</td>\n",
       "      <td>0</td>\n",
       "      <td>0</td>\n",
       "      <td>0</td>\n",
       "      <td>0</td>\n",
       "      <td>1</td>\n",
       "      <td>0</td>\n",
       "      <td>0</td>\n",
       "      <td>1</td>\n",
       "      <td>0</td>\n",
       "    </tr>\n",
       "    <tr>\n",
       "      <th>350</th>\n",
       "      <td>1</td>\n",
       "      <td>0</td>\n",
       "      <td>0</td>\n",
       "      <td>1</td>\n",
       "      <td>0</td>\n",
       "      <td>0</td>\n",
       "      <td>0</td>\n",
       "      <td>0</td>\n",
       "      <td>0</td>\n",
       "      <td>1</td>\n",
       "      <td>...</td>\n",
       "      <td>0</td>\n",
       "      <td>0</td>\n",
       "      <td>0</td>\n",
       "      <td>0</td>\n",
       "      <td>0</td>\n",
       "      <td>0</td>\n",
       "      <td>0</td>\n",
       "      <td>0</td>\n",
       "      <td>0</td>\n",
       "      <td>1</td>\n",
       "    </tr>\n",
       "    <tr>\n",
       "      <th>288</th>\n",
       "      <td>0</td>\n",
       "      <td>1</td>\n",
       "      <td>0</td>\n",
       "      <td>0</td>\n",
       "      <td>1</td>\n",
       "      <td>0</td>\n",
       "      <td>0</td>\n",
       "      <td>1</td>\n",
       "      <td>0</td>\n",
       "      <td>0</td>\n",
       "      <td>...</td>\n",
       "      <td>0</td>\n",
       "      <td>0</td>\n",
       "      <td>0</td>\n",
       "      <td>0</td>\n",
       "      <td>0</td>\n",
       "      <td>1</td>\n",
       "      <td>0</td>\n",
       "      <td>0</td>\n",
       "      <td>0</td>\n",
       "      <td>1</td>\n",
       "    </tr>\n",
       "    <tr>\n",
       "      <th>420</th>\n",
       "      <td>0</td>\n",
       "      <td>1</td>\n",
       "      <td>0</td>\n",
       "      <td>0</td>\n",
       "      <td>1</td>\n",
       "      <td>0</td>\n",
       "      <td>0</td>\n",
       "      <td>0</td>\n",
       "      <td>0</td>\n",
       "      <td>1</td>\n",
       "      <td>...</td>\n",
       "      <td>0</td>\n",
       "      <td>0</td>\n",
       "      <td>0</td>\n",
       "      <td>0</td>\n",
       "      <td>0</td>\n",
       "      <td>0</td>\n",
       "      <td>0</td>\n",
       "      <td>0</td>\n",
       "      <td>1</td>\n",
       "      <td>0</td>\n",
       "    </tr>\n",
       "    <tr>\n",
       "      <th>163</th>\n",
       "      <td>1</td>\n",
       "      <td>0</td>\n",
       "      <td>0</td>\n",
       "      <td>1</td>\n",
       "      <td>0</td>\n",
       "      <td>0</td>\n",
       "      <td>0</td>\n",
       "      <td>0</td>\n",
       "      <td>0</td>\n",
       "      <td>1</td>\n",
       "      <td>...</td>\n",
       "      <td>0</td>\n",
       "      <td>0</td>\n",
       "      <td>0</td>\n",
       "      <td>0</td>\n",
       "      <td>0</td>\n",
       "      <td>0</td>\n",
       "      <td>0</td>\n",
       "      <td>0</td>\n",
       "      <td>1</td>\n",
       "      <td>0</td>\n",
       "    </tr>\n",
       "    <tr>\n",
       "      <th>...</th>\n",
       "      <td>...</td>\n",
       "      <td>...</td>\n",
       "      <td>...</td>\n",
       "      <td>...</td>\n",
       "      <td>...</td>\n",
       "      <td>...</td>\n",
       "      <td>...</td>\n",
       "      <td>...</td>\n",
       "      <td>...</td>\n",
       "      <td>...</td>\n",
       "      <td>...</td>\n",
       "      <td>...</td>\n",
       "      <td>...</td>\n",
       "      <td>...</td>\n",
       "      <td>...</td>\n",
       "      <td>...</td>\n",
       "      <td>...</td>\n",
       "      <td>...</td>\n",
       "      <td>...</td>\n",
       "      <td>...</td>\n",
       "      <td>...</td>\n",
       "    </tr>\n",
       "    <tr>\n",
       "      <th>356</th>\n",
       "      <td>0</td>\n",
       "      <td>1</td>\n",
       "      <td>0</td>\n",
       "      <td>0</td>\n",
       "      <td>0</td>\n",
       "      <td>1</td>\n",
       "      <td>0</td>\n",
       "      <td>0</td>\n",
       "      <td>0</td>\n",
       "      <td>1</td>\n",
       "      <td>...</td>\n",
       "      <td>0</td>\n",
       "      <td>0</td>\n",
       "      <td>0</td>\n",
       "      <td>0</td>\n",
       "      <td>0</td>\n",
       "      <td>0</td>\n",
       "      <td>0</td>\n",
       "      <td>0</td>\n",
       "      <td>1</td>\n",
       "      <td>0</td>\n",
       "    </tr>\n",
       "    <tr>\n",
       "      <th>448</th>\n",
       "      <td>1</td>\n",
       "      <td>0</td>\n",
       "      <td>0</td>\n",
       "      <td>0</td>\n",
       "      <td>0</td>\n",
       "      <td>1</td>\n",
       "      <td>0</td>\n",
       "      <td>0</td>\n",
       "      <td>0</td>\n",
       "      <td>1</td>\n",
       "      <td>...</td>\n",
       "      <td>0</td>\n",
       "      <td>0</td>\n",
       "      <td>0</td>\n",
       "      <td>0</td>\n",
       "      <td>0</td>\n",
       "      <td>0</td>\n",
       "      <td>0</td>\n",
       "      <td>1</td>\n",
       "      <td>0</td>\n",
       "      <td>0</td>\n",
       "    </tr>\n",
       "    <tr>\n",
       "      <th>300</th>\n",
       "      <td>0</td>\n",
       "      <td>0</td>\n",
       "      <td>1</td>\n",
       "      <td>0</td>\n",
       "      <td>0</td>\n",
       "      <td>0</td>\n",
       "      <td>1</td>\n",
       "      <td>0</td>\n",
       "      <td>0</td>\n",
       "      <td>1</td>\n",
       "      <td>...</td>\n",
       "      <td>0</td>\n",
       "      <td>0</td>\n",
       "      <td>0</td>\n",
       "      <td>0</td>\n",
       "      <td>0</td>\n",
       "      <td>0</td>\n",
       "      <td>0</td>\n",
       "      <td>0</td>\n",
       "      <td>1</td>\n",
       "      <td>0</td>\n",
       "    </tr>\n",
       "    <tr>\n",
       "      <th>132</th>\n",
       "      <td>0</td>\n",
       "      <td>1</td>\n",
       "      <td>0</td>\n",
       "      <td>0</td>\n",
       "      <td>0</td>\n",
       "      <td>1</td>\n",
       "      <td>0</td>\n",
       "      <td>0</td>\n",
       "      <td>0</td>\n",
       "      <td>1</td>\n",
       "      <td>...</td>\n",
       "      <td>0</td>\n",
       "      <td>0</td>\n",
       "      <td>0</td>\n",
       "      <td>0</td>\n",
       "      <td>0</td>\n",
       "      <td>1</td>\n",
       "      <td>0</td>\n",
       "      <td>1</td>\n",
       "      <td>0</td>\n",
       "      <td>0</td>\n",
       "    </tr>\n",
       "    <tr>\n",
       "      <th>373</th>\n",
       "      <td>0</td>\n",
       "      <td>1</td>\n",
       "      <td>0</td>\n",
       "      <td>1</td>\n",
       "      <td>0</td>\n",
       "      <td>0</td>\n",
       "      <td>0</td>\n",
       "      <td>0</td>\n",
       "      <td>0</td>\n",
       "      <td>1</td>\n",
       "      <td>...</td>\n",
       "      <td>0</td>\n",
       "      <td>0</td>\n",
       "      <td>0</td>\n",
       "      <td>0</td>\n",
       "      <td>0</td>\n",
       "      <td>0</td>\n",
       "      <td>0</td>\n",
       "      <td>1</td>\n",
       "      <td>0</td>\n",
       "      <td>0</td>\n",
       "    </tr>\n",
       "  </tbody>\n",
       "</table>\n",
       "<p>400 rows × 174 columns</p>\n",
       "</div>"
      ],
      "text/plain": [
       "     work_year_2020  work_year_2021  work_year_2022  experience_level_EN  \\\n",
       "94                0               0               1                    0   \n",
       "350               1               0               0                    1   \n",
       "288               0               1               0                    0   \n",
       "420               0               1               0                    0   \n",
       "163               1               0               0                    1   \n",
       "..              ...             ...             ...                  ...   \n",
       "356               0               1               0                    0   \n",
       "448               1               0               0                    0   \n",
       "300               0               0               1                    0   \n",
       "132               0               1               0                    0   \n",
       "373               0               1               0                    1   \n",
       "\n",
       "     experience_level_EX  experience_level_MI  experience_level_SE  \\\n",
       "94                     0                    0                    1   \n",
       "350                    0                    0                    0   \n",
       "288                    1                    0                    0   \n",
       "420                    1                    0                    0   \n",
       "163                    0                    0                    0   \n",
       "..                   ...                  ...                  ...   \n",
       "356                    0                    1                    0   \n",
       "448                    0                    1                    0   \n",
       "300                    0                    0                    1   \n",
       "132                    0                    1                    0   \n",
       "373                    0                    0                    0   \n",
       "\n",
       "     employment_type_CT  employment_type_FL  employment_type_FT  ...  \\\n",
       "94                    0                   0                   1  ...   \n",
       "350                   0                   0                   1  ...   \n",
       "288                   1                   0                   0  ...   \n",
       "420                   0                   0                   1  ...   \n",
       "163                   0                   0                   1  ...   \n",
       "..                  ...                 ...                 ...  ...   \n",
       "356                   0                   0                   1  ...   \n",
       "448                   0                   0                   1  ...   \n",
       "300                   0                   0                   1  ...   \n",
       "132                   0                   0                   1  ...   \n",
       "373                   0                   0                   1  ...   \n",
       "\n",
       "     company_location_RU  company_location_SG  company_location_SI  \\\n",
       "94                     0                    0                    0   \n",
       "350                    0                    0                    0   \n",
       "288                    0                    0                    0   \n",
       "420                    0                    0                    0   \n",
       "163                    0                    0                    0   \n",
       "..                   ...                  ...                  ...   \n",
       "356                    0                    0                    0   \n",
       "448                    0                    0                    0   \n",
       "300                    0                    0                    0   \n",
       "132                    0                    0                    0   \n",
       "373                    0                    0                    0   \n",
       "\n",
       "     company_location_TR  company_location_UA  company_location_US  \\\n",
       "94                     0                    0                    1   \n",
       "350                    0                    0                    0   \n",
       "288                    0                    0                    1   \n",
       "420                    0                    0                    0   \n",
       "163                    0                    0                    0   \n",
       "..                   ...                  ...                  ...   \n",
       "356                    0                    0                    0   \n",
       "448                    0                    0                    0   \n",
       "300                    0                    0                    0   \n",
       "132                    0                    0                    1   \n",
       "373                    0                    0                    0   \n",
       "\n",
       "     company_location_VN  company_size_L  company_size_M  company_size_S  \n",
       "94                     0               0               1               0  \n",
       "350                    0               0               0               1  \n",
       "288                    0               0               0               1  \n",
       "420                    0               0               1               0  \n",
       "163                    0               0               1               0  \n",
       "..                   ...             ...             ...             ...  \n",
       "356                    0               0               1               0  \n",
       "448                    0               1               0               0  \n",
       "300                    0               0               1               0  \n",
       "132                    0               1               0               0  \n",
       "373                    0               1               0               0  \n",
       "\n",
       "[400 rows x 174 columns]"
      ]
     },
     "execution_count": 26,
     "metadata": {},
     "output_type": "execute_result"
    }
   ],
   "source": [
    "X_train"
   ]
  },
  {
   "cell_type": "code",
   "execution_count": 27,
   "id": "d8478f90",
   "metadata": {},
   "outputs": [
    {
     "data": {
      "text/plain": [
       "((400, 174), (100, 174), (400,), (100,))"
      ]
     },
     "execution_count": 27,
     "metadata": {},
     "output_type": "execute_result"
    }
   ],
   "source": [
    "X_train, X_test, y_train, y_test = tts(X, y, train_size=0.8, test_size=0.2, random_state=22)\n",
    "\n",
    "X_train.shape, X_test.shape, y_train.shape, y_test.shape"
   ]
  },
  {
   "cell_type": "markdown",
   "id": "762f6610",
   "metadata": {},
   "source": [
    "### Entrenamos"
   ]
  },
  {
   "cell_type": "code",
   "execution_count": 28,
   "id": "c5f13313",
   "metadata": {},
   "outputs": [],
   "source": [
    "rfr = Rfr()  # iniciamos modelo"
   ]
  },
  {
   "cell_type": "code",
   "execution_count": 29,
   "id": "277d5e85",
   "metadata": {},
   "outputs": [
    {
     "data": {
      "text/plain": [
       "RandomForestRegressor()"
      ]
     },
     "execution_count": 29,
     "metadata": {},
     "output_type": "execute_result"
    }
   ],
   "source": [
    "rfr.fit(X_train, y_train) # 2º ENTRENAR los valores train >>>> modelo.fit(x_train, y_train) ++++ X TRAIN +++++"
   ]
  },
  {
   "cell_type": "code",
   "execution_count": 30,
   "id": "820c61df",
   "metadata": {},
   "outputs": [],
   "source": [
    "y_pred_train=rfr.predict(X_train) # 3º CALCULAR Y PREDECIR  >>>'y_predecida' = modelo.predict(x_train)  ++++ X_Train ++++"
   ]
  },
  {
   "cell_type": "code",
   "execution_count": 31,
   "id": "e4ee7fbc",
   "metadata": {},
   "outputs": [
    {
     "data": {
      "text/plain": [
       "array([138653.96099206,  18795.05      , 356939.        , 138155.42      ,\n",
       "        12698.41      , 153728.72826437, 126489.60238095, 114678.33499471,\n",
       "        24385.908     , 159321.17373737])"
      ]
     },
     "execution_count": 31,
     "metadata": {},
     "output_type": "execute_result"
    }
   ],
   "source": [
    "y_pred_train[:10]"
   ]
  },
  {
   "cell_type": "code",
   "execution_count": 32,
   "id": "10c05cad",
   "metadata": {},
   "outputs": [
    {
     "data": {
      "text/plain": [
       "400"
      ]
     },
     "execution_count": 32,
     "metadata": {},
     "output_type": "execute_result"
    }
   ],
   "source": [
    "len(y_pred_train)"
   ]
  },
  {
   "cell_type": "code",
   "execution_count": 33,
   "id": "36cabba6",
   "metadata": {},
   "outputs": [
    {
     "data": {
      "text/plain": [
       "[138653.96099206348,\n",
       " 18795.05,\n",
       " 356939.0,\n",
       " 138155.42,\n",
       " 12698.41,\n",
       " 153728.72826437477,\n",
       " 126489.60238095239,\n",
       " 114678.33499471076,\n",
       " 24385.908,\n",
       " 159321.1737373737]"
      ]
     },
     "execution_count": 33,
     "metadata": {},
     "output_type": "execute_result"
    }
   ],
   "source": [
    "y_pred_train = list(y_pred_train)\n",
    "y_pred_train[:10]"
   ]
  },
  {
   "cell_type": "code",
   "execution_count": 34,
   "id": "16f305c7",
   "metadata": {},
   "outputs": [
    {
     "data": {
      "text/plain": [
       "400"
      ]
     },
     "execution_count": 34,
     "metadata": {},
     "output_type": "execute_result"
    }
   ],
   "source": [
    "len(X_train)"
   ]
  },
  {
   "cell_type": "markdown",
   "id": "e2d94923",
   "metadata": {},
   "source": [
    "### Testeamos"
   ]
  },
  {
   "cell_type": "code",
   "execution_count": 35,
   "id": "3caa3b3e",
   "metadata": {},
   "outputs": [
    {
     "data": {
      "text/plain": [
       "RandomForestRegressor()"
      ]
     },
     "execution_count": 35,
     "metadata": {},
     "output_type": "execute_result"
    }
   ],
   "source": [
    "rfr.fit(X_train, y_train)\n"
   ]
  },
  {
   "cell_type": "code",
   "execution_count": 36,
   "id": "8e7432b9",
   "metadata": {},
   "outputs": [],
   "source": [
    "y_pred_testeo=rfr.predict(X_testeo) # +++++ UTILIZAMOS LA MUESTRA DE TESTEO KAGGLE+++++++"
   ]
  },
  {
   "cell_type": "code",
   "execution_count": 37,
   "id": "a402ecc3",
   "metadata": {},
   "outputs": [
    {
     "data": {
      "text/plain": [
       "array([ 72086.40833333, 115017.54166667, 112099.26462963,  56931.21      ,\n",
       "        28839.79      ,  67724.755     ,  74878.8425    ,  44117.26      ,\n",
       "        40211.98      , 224301.41666667])"
      ]
     },
     "execution_count": 37,
     "metadata": {},
     "output_type": "execute_result"
    }
   ],
   "source": [
    "y_pred_testeo[:10]"
   ]
  },
  {
   "cell_type": "code",
   "execution_count": 38,
   "id": "166d5c68",
   "metadata": {},
   "outputs": [
    {
     "data": {
      "text/plain": [
       "[72086.40833333334,\n",
       " 115017.54166666666,\n",
       " 112099.26462962963,\n",
       " 56931.21,\n",
       " 28839.79,\n",
       " 67724.755,\n",
       " 74878.8425,\n",
       " 44117.26,\n",
       " 40211.98,\n",
       " 224301.4166666667]"
      ]
     },
     "execution_count": 38,
     "metadata": {},
     "output_type": "execute_result"
    }
   ],
   "source": [
    "y_pred_testeo = list(y_pred_testeo)\n",
    "y_pred_testeo[:10]"
   ]
  },
  {
   "cell_type": "code",
   "execution_count": 39,
   "id": "f431de87",
   "metadata": {},
   "outputs": [
    {
     "data": {
      "text/plain": [
       "107"
      ]
     },
     "execution_count": 39,
     "metadata": {},
     "output_type": "execute_result"
    }
   ],
   "source": [
    "len(y_pred_testeo)"
   ]
  },
  {
   "cell_type": "markdown",
   "id": "d93af34f",
   "metadata": {},
   "source": [
    "### Comparamos el valor original en una data frame el valor original, la prediccion dle train y la del test"
   ]
  },
  {
   "cell_type": "code",
   "execution_count": 40,
   "id": "f7e992c4",
   "metadata": {},
   "outputs": [
    {
     "data": {
      "text/plain": [
       "0      140250\n",
       "1      135000\n",
       "2      100000\n",
       "3      270000\n",
       "4       26005\n",
       "        ...  \n",
       "495    100000\n",
       "496      5882\n",
       "497     90700\n",
       "498     82528\n",
       "499     70000\n",
       "Name: salary_in_usd, Length: 500, dtype: int64"
      ]
     },
     "execution_count": 40,
     "metadata": {},
     "output_type": "execute_result"
    }
   ],
   "source": [
    "y"
   ]
  },
  {
   "cell_type": "code",
   "execution_count": 41,
   "id": "913aa446",
   "metadata": {},
   "outputs": [
    {
     "data": {
      "text/plain": [
       "[72086.40833333334,\n",
       " 115017.54166666666,\n",
       " 112099.26462962963,\n",
       " 56931.21,\n",
       " 28839.79,\n",
       " 67724.755,\n",
       " 74878.8425,\n",
       " 44117.26,\n",
       " 40211.98,\n",
       " 224301.4166666667]"
      ]
     },
     "execution_count": 41,
     "metadata": {},
     "output_type": "execute_result"
    }
   ],
   "source": [
    "y_pred_testeo[:10]"
   ]
  },
  {
   "cell_type": "code",
   "execution_count": 42,
   "id": "2f3fa186",
   "metadata": {},
   "outputs": [
    {
     "data": {
      "text/html": [
       "<div>\n",
       "<style scoped>\n",
       "    .dataframe tbody tr th:only-of-type {\n",
       "        vertical-align: middle;\n",
       "    }\n",
       "\n",
       "    .dataframe tbody tr th {\n",
       "        vertical-align: top;\n",
       "    }\n",
       "\n",
       "    .dataframe thead th {\n",
       "        text-align: right;\n",
       "    }\n",
       "</style>\n",
       "<table border=\"1\" class=\"dataframe\">\n",
       "  <thead>\n",
       "    <tr style=\"text-align: right;\">\n",
       "      <th></th>\n",
       "      <th>id</th>\n",
       "      <th>salary_in_usd</th>\n",
       "    </tr>\n",
       "  </thead>\n",
       "  <tbody>\n",
       "    <tr>\n",
       "      <th>0</th>\n",
       "      <td>0</td>\n",
       "      <td>70377</td>\n",
       "    </tr>\n",
       "    <tr>\n",
       "      <th>1</th>\n",
       "      <td>1</td>\n",
       "      <td>85839</td>\n",
       "    </tr>\n",
       "    <tr>\n",
       "      <th>2</th>\n",
       "      <td>2</td>\n",
       "      <td>63613</td>\n",
       "    </tr>\n",
       "    <tr>\n",
       "      <th>3</th>\n",
       "      <td>3</td>\n",
       "      <td>88561</td>\n",
       "    </tr>\n",
       "    <tr>\n",
       "      <th>4</th>\n",
       "      <td>4</td>\n",
       "      <td>37621</td>\n",
       "    </tr>\n",
       "    <tr>\n",
       "      <th>...</th>\n",
       "      <td>...</td>\n",
       "      <td>...</td>\n",
       "    </tr>\n",
       "    <tr>\n",
       "      <th>102</th>\n",
       "      <td>102</td>\n",
       "      <td>70639</td>\n",
       "    </tr>\n",
       "    <tr>\n",
       "      <th>103</th>\n",
       "      <td>103</td>\n",
       "      <td>33678</td>\n",
       "    </tr>\n",
       "    <tr>\n",
       "      <th>104</th>\n",
       "      <td>104</td>\n",
       "      <td>19021</td>\n",
       "    </tr>\n",
       "    <tr>\n",
       "      <th>105</th>\n",
       "      <td>105</td>\n",
       "      <td>21175</td>\n",
       "    </tr>\n",
       "    <tr>\n",
       "      <th>106</th>\n",
       "      <td>106</td>\n",
       "      <td>34801</td>\n",
       "    </tr>\n",
       "  </tbody>\n",
       "</table>\n",
       "<p>107 rows × 2 columns</p>\n",
       "</div>"
      ],
      "text/plain": [
       "      id  salary_in_usd\n",
       "0      0          70377\n",
       "1      1          85839\n",
       "2      2          63613\n",
       "3      3          88561\n",
       "4      4          37621\n",
       "..   ...            ...\n",
       "102  102          70639\n",
       "103  103          33678\n",
       "104  104          19021\n",
       "105  105          21175\n",
       "106  106          34801\n",
       "\n",
       "[107 rows x 2 columns]"
      ]
     },
     "execution_count": 42,
     "metadata": {},
     "output_type": "execute_result"
    }
   ],
   "source": [
    "muestra"
   ]
  },
  {
   "cell_type": "markdown",
   "id": "59b8f561",
   "metadata": {},
   "source": [
    "### añadir una columna al dataframe con un valor obtenido"
   ]
  },
  {
   "cell_type": "code",
   "execution_count": 43,
   "id": "8cae5214",
   "metadata": {},
   "outputs": [],
   "source": [
    "muestra['salary_in_usd'] = y_pred_testeo"
   ]
  },
  {
   "cell_type": "code",
   "execution_count": 44,
   "id": "a6a14473",
   "metadata": {},
   "outputs": [
    {
     "data": {
      "text/html": [
       "<div>\n",
       "<style scoped>\n",
       "    .dataframe tbody tr th:only-of-type {\n",
       "        vertical-align: middle;\n",
       "    }\n",
       "\n",
       "    .dataframe tbody tr th {\n",
       "        vertical-align: top;\n",
       "    }\n",
       "\n",
       "    .dataframe thead th {\n",
       "        text-align: right;\n",
       "    }\n",
       "</style>\n",
       "<table border=\"1\" class=\"dataframe\">\n",
       "  <thead>\n",
       "    <tr style=\"text-align: right;\">\n",
       "      <th></th>\n",
       "      <th>id</th>\n",
       "      <th>salary_in_usd</th>\n",
       "    </tr>\n",
       "  </thead>\n",
       "  <tbody>\n",
       "    <tr>\n",
       "      <th>0</th>\n",
       "      <td>0</td>\n",
       "      <td>72086.41</td>\n",
       "    </tr>\n",
       "    <tr>\n",
       "      <th>1</th>\n",
       "      <td>1</td>\n",
       "      <td>115017.54</td>\n",
       "    </tr>\n",
       "    <tr>\n",
       "      <th>2</th>\n",
       "      <td>2</td>\n",
       "      <td>112099.26</td>\n",
       "    </tr>\n",
       "    <tr>\n",
       "      <th>3</th>\n",
       "      <td>3</td>\n",
       "      <td>56931.21</td>\n",
       "    </tr>\n",
       "    <tr>\n",
       "      <th>4</th>\n",
       "      <td>4</td>\n",
       "      <td>28839.79</td>\n",
       "    </tr>\n",
       "    <tr>\n",
       "      <th>...</th>\n",
       "      <td>...</td>\n",
       "      <td>...</td>\n",
       "    </tr>\n",
       "    <tr>\n",
       "      <th>102</th>\n",
       "      <td>102</td>\n",
       "      <td>113904.60</td>\n",
       "    </tr>\n",
       "    <tr>\n",
       "      <th>103</th>\n",
       "      <td>103</td>\n",
       "      <td>199426.18</td>\n",
       "    </tr>\n",
       "    <tr>\n",
       "      <th>104</th>\n",
       "      <td>104</td>\n",
       "      <td>163464.17</td>\n",
       "    </tr>\n",
       "    <tr>\n",
       "      <th>105</th>\n",
       "      <td>105</td>\n",
       "      <td>62183.42</td>\n",
       "    </tr>\n",
       "    <tr>\n",
       "      <th>106</th>\n",
       "      <td>106</td>\n",
       "      <td>109991.69</td>\n",
       "    </tr>\n",
       "  </tbody>\n",
       "</table>\n",
       "<p>107 rows × 2 columns</p>\n",
       "</div>"
      ],
      "text/plain": [
       "      id  salary_in_usd\n",
       "0      0       72086.41\n",
       "1      1      115017.54\n",
       "2      2      112099.26\n",
       "3      3       56931.21\n",
       "4      4       28839.79\n",
       "..   ...            ...\n",
       "102  102      113904.60\n",
       "103  103      199426.18\n",
       "104  104      163464.17\n",
       "105  105       62183.42\n",
       "106  106      109991.69\n",
       "\n",
       "[107 rows x 2 columns]"
      ]
     },
     "execution_count": 44,
     "metadata": {},
     "output_type": "execute_result"
    }
   ],
   "source": [
    "muestra"
   ]
  },
  {
   "cell_type": "code",
   "execution_count": 45,
   "id": "b4a31343",
   "metadata": {},
   "outputs": [
    {
     "data": {
      "text/plain": [
       "(107, 2)"
      ]
     },
     "execution_count": 45,
     "metadata": {},
     "output_type": "execute_result"
    }
   ],
   "source": [
    " muestra.shape"
   ]
  },
  {
   "cell_type": "markdown",
   "id": "b6c0d0de",
   "metadata": {},
   "source": [
    "### MSE & RMSE"
   ]
  },
  {
   "cell_type": "code",
   "execution_count": 46,
   "id": "56bba00f",
   "metadata": {},
   "outputs": [],
   "source": [
    "from sklearn.metrics import mean_squared_error"
   ]
  },
  {
   "cell_type": "code",
   "execution_count": 47,
   "id": "f585fac8",
   "metadata": {},
   "outputs": [],
   "source": [
    "import math"
   ]
  },
  {
   "cell_type": "code",
   "execution_count": 48,
   "id": "61ac0494",
   "metadata": {},
   "outputs": [
    {
     "data": {
      "text/plain": [
       "839592546.3245963"
      ]
     },
     "execution_count": 48,
     "metadata": {},
     "output_type": "execute_result"
    }
   ],
   "source": [
    "MSE = mean_squared_error(y_train, y_pred_train)\n",
    "MSE"
   ]
  },
  {
   "cell_type": "code",
   "execution_count": 49,
   "id": "970c2921",
   "metadata": {},
   "outputs": [
    {
     "data": {
      "text/plain": [
       "28975.7233960534"
      ]
     },
     "execution_count": 49,
     "metadata": {},
     "output_type": "execute_result"
    }
   ],
   "source": [
    "RMSE = math.sqrt(MSE)\n",
    "RMSE"
   ]
  },
  {
   "cell_type": "code",
   "execution_count": 68,
   "id": "987ff9fc",
   "metadata": {},
   "outputs": [],
   "source": [
    "muestra['salary_in_usd'] = y_pred_testeo"
   ]
  },
  {
   "cell_type": "code",
   "execution_count": 69,
   "id": "311132aa",
   "metadata": {},
   "outputs": [],
   "source": [
    "muestra.to_csv(r'C:\\Users\\pablo\\Kaggle_Competition\\csv\\muestra5.csv', sep=',', index=False)"
   ]
  },
  {
   "cell_type": "markdown",
   "id": "e706d830",
   "metadata": {},
   "source": [
    "### MODELO : GradientBoostingRegressor"
   ]
  },
  {
   "cell_type": "code",
   "execution_count": 70,
   "id": "44e33218",
   "metadata": {},
   "outputs": [],
   "source": [
    "from sklearn.datasets import make_regression"
   ]
  },
  {
   "cell_type": "code",
   "execution_count": 71,
   "id": "6b0d81da",
   "metadata": {},
   "outputs": [],
   "source": [
    "from sklearn.ensemble import GradientBoostingRegressor "
   ]
  },
  {
   "cell_type": "markdown",
   "id": "0e31949c",
   "metadata": {},
   "source": [
    "ENTRENAMOS"
   ]
  },
  {
   "cell_type": "code",
   "execution_count": 72,
   "id": "aa658efd",
   "metadata": {},
   "outputs": [],
   "source": [
    "boo = GradientBoostingRegressor() # INICIAMOS"
   ]
  },
  {
   "cell_type": "code",
   "execution_count": 73,
   "id": "b2d6b34b",
   "metadata": {},
   "outputs": [
    {
     "data": {
      "text/plain": [
       "GradientBoostingRegressor()"
      ]
     },
     "execution_count": 73,
     "metadata": {},
     "output_type": "execute_result"
    }
   ],
   "source": [
    "boo.fit(X_train, y_train) # ENTRENAMOS el train"
   ]
  },
  {
   "cell_type": "code",
   "execution_count": 74,
   "id": "42d40f33",
   "metadata": {},
   "outputs": [],
   "source": [
    "y_pred_train=boo.predict(X_train) # PREDECIMOS el train"
   ]
  },
  {
   "cell_type": "code",
   "execution_count": 75,
   "id": "f5812b33",
   "metadata": {},
   "outputs": [
    {
     "data": {
      "text/plain": [
       "array([147923.68638216,  14026.63068622, 381961.38244651, 136200.69269175,\n",
       "        30024.83022737, 159468.17578828, 138453.47512834, 120713.93826297,\n",
       "        36548.6199632 , 163534.75964507])"
      ]
     },
     "execution_count": 75,
     "metadata": {},
     "output_type": "execute_result"
    }
   ],
   "source": [
    "y_pred_train[:10]"
   ]
  },
  {
   "cell_type": "code",
   "execution_count": 76,
   "id": "7e74173f",
   "metadata": {},
   "outputs": [
    {
     "data": {
      "text/plain": [
       "400"
      ]
     },
     "execution_count": 76,
     "metadata": {},
     "output_type": "execute_result"
    }
   ],
   "source": [
    "len(y_pred_train)"
   ]
  },
  {
   "cell_type": "code",
   "execution_count": 77,
   "id": "917f2989",
   "metadata": {},
   "outputs": [
    {
     "data": {
      "text/plain": [
       "400"
      ]
     },
     "execution_count": 77,
     "metadata": {},
     "output_type": "execute_result"
    }
   ],
   "source": [
    "len(X_train)"
   ]
  },
  {
   "cell_type": "markdown",
   "id": "22cf7dba",
   "metadata": {},
   "source": [
    "TESTEAMOS"
   ]
  },
  {
   "cell_type": "code",
   "execution_count": 78,
   "id": "9080e294",
   "metadata": {},
   "outputs": [
    {
     "data": {
      "text/plain": [
       "GradientBoostingRegressor()"
      ]
     },
     "execution_count": 78,
     "metadata": {},
     "output_type": "execute_result"
    }
   ],
   "source": [
    "boo.fit(X_train, y_train) "
   ]
  },
  {
   "cell_type": "code",
   "execution_count": 79,
   "id": "231d7af0",
   "metadata": {},
   "outputs": [],
   "source": [
    "y_pred_testeo=boo.predict(X_testeo) # PREDECIMOS el TESTEO"
   ]
  },
  {
   "cell_type": "code",
   "execution_count": 80,
   "id": "4322ae9a",
   "metadata": {},
   "outputs": [
    {
     "data": {
      "text/plain": [
       "array([ 92166.81309686, 152541.23996206, 101817.94439158,  63111.91839199,\n",
       "        39014.93991263,  85686.87173531, 113717.53354806,  43596.29455023,\n",
       "        54743.08599342, 170358.31630663])"
      ]
     },
     "execution_count": 80,
     "metadata": {},
     "output_type": "execute_result"
    }
   ],
   "source": [
    "y_pred_testeo[:10]"
   ]
  },
  {
   "cell_type": "code",
   "execution_count": 81,
   "id": "7370cf86",
   "metadata": {},
   "outputs": [
    {
     "data": {
      "text/plain": [
       "107"
      ]
     },
     "execution_count": 81,
     "metadata": {},
     "output_type": "execute_result"
    }
   ],
   "source": [
    "len(y_pred_testeo)"
   ]
  },
  {
   "cell_type": "markdown",
   "id": "6a7c2326",
   "metadata": {},
   "source": [
    "### DATAFRAME COMPARACION Y_TRAIN, Y_PRED_TRAIN"
   ]
  },
  {
   "cell_type": "code",
   "execution_count": 82,
   "id": "67bc4fb2",
   "metadata": {},
   "outputs": [
    {
     "data": {
      "text/plain": [
       "1171765564.638638"
      ]
     },
     "execution_count": 82,
     "metadata": {},
     "output_type": "execute_result"
    }
   ],
   "source": [
    "MSE = mean_squared_error(y_train, y_pred_train)\n",
    "MSE"
   ]
  },
  {
   "cell_type": "code",
   "execution_count": 83,
   "id": "456701ae",
   "metadata": {},
   "outputs": [
    {
     "data": {
      "text/plain": [
       "34231.061400994244"
      ]
     },
     "execution_count": 83,
     "metadata": {},
     "output_type": "execute_result"
    }
   ],
   "source": [
    "RMSE = math.sqrt(MSE)\n",
    "RMSE"
   ]
  },
  {
   "cell_type": "markdown",
   "id": "93df7b0e",
   "metadata": {},
   "source": [
    "### convertir a csv "
   ]
  },
  {
   "cell_type": "code",
   "execution_count": null,
   "id": "b34f44f8",
   "metadata": {},
   "outputs": [],
   "source": []
  },
  {
   "cell_type": "code",
   "execution_count": 84,
   "id": "9d2885c6",
   "metadata": {},
   "outputs": [
    {
     "data": {
      "text/plain": [
       "(107, 2)"
      ]
     },
     "execution_count": 84,
     "metadata": {},
     "output_type": "execute_result"
    }
   ],
   "source": [
    "muestra.shape"
   ]
  },
  {
   "cell_type": "code",
   "execution_count": 85,
   "id": "5de495df",
   "metadata": {
    "scrolled": true
   },
   "outputs": [
    {
     "data": {
      "text/html": [
       "<div>\n",
       "<style scoped>\n",
       "    .dataframe tbody tr th:only-of-type {\n",
       "        vertical-align: middle;\n",
       "    }\n",
       "\n",
       "    .dataframe tbody tr th {\n",
       "        vertical-align: top;\n",
       "    }\n",
       "\n",
       "    .dataframe thead th {\n",
       "        text-align: right;\n",
       "    }\n",
       "</style>\n",
       "<table border=\"1\" class=\"dataframe\">\n",
       "  <thead>\n",
       "    <tr style=\"text-align: right;\">\n",
       "      <th></th>\n",
       "      <th>id</th>\n",
       "      <th>salary_in_usd</th>\n",
       "    </tr>\n",
       "  </thead>\n",
       "  <tbody>\n",
       "    <tr>\n",
       "      <th>0</th>\n",
       "      <td>0</td>\n",
       "      <td>87780.16</td>\n",
       "    </tr>\n",
       "    <tr>\n",
       "      <th>1</th>\n",
       "      <td>1</td>\n",
       "      <td>148797.13</td>\n",
       "    </tr>\n",
       "    <tr>\n",
       "      <th>2</th>\n",
       "      <td>2</td>\n",
       "      <td>101647.86</td>\n",
       "    </tr>\n",
       "    <tr>\n",
       "      <th>3</th>\n",
       "      <td>3</td>\n",
       "      <td>73150.38</td>\n",
       "    </tr>\n",
       "    <tr>\n",
       "      <th>4</th>\n",
       "      <td>4</td>\n",
       "      <td>41988.32</td>\n",
       "    </tr>\n",
       "    <tr>\n",
       "      <th>...</th>\n",
       "      <td>...</td>\n",
       "      <td>...</td>\n",
       "    </tr>\n",
       "    <tr>\n",
       "      <th>102</th>\n",
       "      <td>102</td>\n",
       "      <td>120713.94</td>\n",
       "    </tr>\n",
       "    <tr>\n",
       "      <th>103</th>\n",
       "      <td>103</td>\n",
       "      <td>188631.77</td>\n",
       "    </tr>\n",
       "    <tr>\n",
       "      <th>104</th>\n",
       "      <td>104</td>\n",
       "      <td>154151.36</td>\n",
       "    </tr>\n",
       "    <tr>\n",
       "      <th>105</th>\n",
       "      <td>105</td>\n",
       "      <td>52200.67</td>\n",
       "    </tr>\n",
       "    <tr>\n",
       "      <th>106</th>\n",
       "      <td>106</td>\n",
       "      <td>115233.20</td>\n",
       "    </tr>\n",
       "  </tbody>\n",
       "</table>\n",
       "<p>107 rows × 2 columns</p>\n",
       "</div>"
      ],
      "text/plain": [
       "      id  salary_in_usd\n",
       "0      0       87780.16\n",
       "1      1      148797.13\n",
       "2      2      101647.86\n",
       "3      3       73150.38\n",
       "4      4       41988.32\n",
       "..   ...            ...\n",
       "102  102      120713.94\n",
       "103  103      188631.77\n",
       "104  104      154151.36\n",
       "105  105       52200.67\n",
       "106  106      115233.20\n",
       "\n",
       "[107 rows x 2 columns]"
      ]
     },
     "execution_count": 85,
     "metadata": {},
     "output_type": "execute_result"
    }
   ],
   "source": [
    "muestra"
   ]
  },
  {
   "cell_type": "code",
   "execution_count": null,
   "id": "533ff50e",
   "metadata": {},
   "outputs": [],
   "source": []
  },
  {
   "cell_type": "code",
   "execution_count": null,
   "id": "91107f64",
   "metadata": {},
   "outputs": [],
   "source": []
  },
  {
   "cell_type": "code",
   "execution_count": null,
   "id": "8f79841d",
   "metadata": {},
   "outputs": [],
   "source": []
  }
 ],
 "metadata": {
  "kernelspec": {
   "display_name": "Python 3 (ipykernel)",
   "language": "python",
   "name": "python3"
  },
  "language_info": {
   "codemirror_mode": {
    "name": "ipython",
    "version": 3
   },
   "file_extension": ".py",
   "mimetype": "text/x-python",
   "name": "python",
   "nbconvert_exporter": "python",
   "pygments_lexer": "ipython3",
   "version": "3.9.12"
  }
 },
 "nbformat": 4,
 "nbformat_minor": 5
}
