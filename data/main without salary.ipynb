{
 "cells": [
  {
   "cell_type": "code",
   "execution_count": 1,
   "id": "2f1c06ac",
   "metadata": {},
   "outputs": [],
   "source": [
    "import pandas as pd\n"
   ]
  },
  {
   "cell_type": "code",
   "execution_count": 2,
   "id": "ab0b6c4f",
   "metadata": {},
   "outputs": [],
   "source": [
    "muestra = pd.read_csv(r'C:\\Users\\pablo\\Kaggle_Competition\\data\\muestra.csv',encoding='latin1')\n",
    "salary_data = pd.read_csv(r'C:\\Users\\pablo\\Kaggle_Competition\\data\\salaries_data.csv',encoding='latin1')\n",
    "testeo = pd.read_csv(r'C:\\Users\\pablo\\Kaggle_Competition\\data\\testeo.csv',encoding='latin1')"
   ]
  },
  {
   "cell_type": "code",
   "execution_count": 3,
   "id": "06570e64",
   "metadata": {},
   "outputs": [
    {
     "data": {
      "text/html": [
       "<div>\n",
       "<style scoped>\n",
       "    .dataframe tbody tr th:only-of-type {\n",
       "        vertical-align: middle;\n",
       "    }\n",
       "\n",
       "    .dataframe tbody tr th {\n",
       "        vertical-align: top;\n",
       "    }\n",
       "\n",
       "    .dataframe thead th {\n",
       "        text-align: right;\n",
       "    }\n",
       "</style>\n",
       "<table border=\"1\" class=\"dataframe\">\n",
       "  <thead>\n",
       "    <tr style=\"text-align: right;\">\n",
       "      <th></th>\n",
       "      <th>id</th>\n",
       "      <th>salary_in_usd</th>\n",
       "    </tr>\n",
       "  </thead>\n",
       "  <tbody>\n",
       "    <tr>\n",
       "      <th>0</th>\n",
       "      <td>0</td>\n",
       "      <td>70377</td>\n",
       "    </tr>\n",
       "    <tr>\n",
       "      <th>1</th>\n",
       "      <td>1</td>\n",
       "      <td>85839</td>\n",
       "    </tr>\n",
       "    <tr>\n",
       "      <th>2</th>\n",
       "      <td>2</td>\n",
       "      <td>63613</td>\n",
       "    </tr>\n",
       "    <tr>\n",
       "      <th>3</th>\n",
       "      <td>3</td>\n",
       "      <td>88561</td>\n",
       "    </tr>\n",
       "    <tr>\n",
       "      <th>4</th>\n",
       "      <td>4</td>\n",
       "      <td>37621</td>\n",
       "    </tr>\n",
       "    <tr>\n",
       "      <th>...</th>\n",
       "      <td>...</td>\n",
       "      <td>...</td>\n",
       "    </tr>\n",
       "    <tr>\n",
       "      <th>102</th>\n",
       "      <td>102</td>\n",
       "      <td>70639</td>\n",
       "    </tr>\n",
       "    <tr>\n",
       "      <th>103</th>\n",
       "      <td>103</td>\n",
       "      <td>33678</td>\n",
       "    </tr>\n",
       "    <tr>\n",
       "      <th>104</th>\n",
       "      <td>104</td>\n",
       "      <td>19021</td>\n",
       "    </tr>\n",
       "    <tr>\n",
       "      <th>105</th>\n",
       "      <td>105</td>\n",
       "      <td>21175</td>\n",
       "    </tr>\n",
       "    <tr>\n",
       "      <th>106</th>\n",
       "      <td>106</td>\n",
       "      <td>34801</td>\n",
       "    </tr>\n",
       "  </tbody>\n",
       "</table>\n",
       "<p>107 rows × 2 columns</p>\n",
       "</div>"
      ],
      "text/plain": [
       "      id  salary_in_usd\n",
       "0      0          70377\n",
       "1      1          85839\n",
       "2      2          63613\n",
       "3      3          88561\n",
       "4      4          37621\n",
       "..   ...            ...\n",
       "102  102          70639\n",
       "103  103          33678\n",
       "104  104          19021\n",
       "105  105          21175\n",
       "106  106          34801\n",
       "\n",
       "[107 rows x 2 columns]"
      ]
     },
     "execution_count": 3,
     "metadata": {},
     "output_type": "execute_result"
    }
   ],
   "source": [
    "muestra"
   ]
  },
  {
   "cell_type": "code",
   "execution_count": 4,
   "id": "8dcdd101",
   "metadata": {},
   "outputs": [],
   "source": [
    "X  = salary_data.drop('salary_in_usd',axis = 1)\n",
    "X_testeo = testeo.copy()"
   ]
  },
  {
   "cell_type": "code",
   "execution_count": 5,
   "id": "70bc5ddc",
   "metadata": {},
   "outputs": [],
   "source": [
    "concat = pd.concat([X, X_testeo], axis = 0)"
   ]
  },
  {
   "cell_type": "code",
   "execution_count": 6,
   "id": "1f154d36",
   "metadata": {},
   "outputs": [
    {
     "data": {
      "text/plain": [
       "(607, 10)"
      ]
     },
     "execution_count": 6,
     "metadata": {},
     "output_type": "execute_result"
    }
   ],
   "source": [
    "concat.shape"
   ]
  },
  {
   "cell_type": "code",
   "execution_count": 7,
   "id": "513ee4a5",
   "metadata": {},
   "outputs": [
    {
     "data": {
      "text/html": [
       "<div>\n",
       "<style scoped>\n",
       "    .dataframe tbody tr th:only-of-type {\n",
       "        vertical-align: middle;\n",
       "    }\n",
       "\n",
       "    .dataframe tbody tr th {\n",
       "        vertical-align: top;\n",
       "    }\n",
       "\n",
       "    .dataframe thead th {\n",
       "        text-align: right;\n",
       "    }\n",
       "</style>\n",
       "<table border=\"1\" class=\"dataframe\">\n",
       "  <thead>\n",
       "    <tr style=\"text-align: right;\">\n",
       "      <th></th>\n",
       "      <th>work_year</th>\n",
       "      <th>experience_level</th>\n",
       "      <th>employment_type</th>\n",
       "      <th>job_title</th>\n",
       "      <th>salary</th>\n",
       "      <th>salary_currency</th>\n",
       "      <th>employee_residence</th>\n",
       "      <th>remote_ratio</th>\n",
       "      <th>company_location</th>\n",
       "      <th>company_size</th>\n",
       "    </tr>\n",
       "  </thead>\n",
       "  <tbody>\n",
       "    <tr>\n",
       "      <th>0</th>\n",
       "      <td>2022</td>\n",
       "      <td>SE</td>\n",
       "      <td>FT</td>\n",
       "      <td>Data Engineer</td>\n",
       "      <td>140250</td>\n",
       "      <td>USD</td>\n",
       "      <td>US</td>\n",
       "      <td>100</td>\n",
       "      <td>US</td>\n",
       "      <td>M</td>\n",
       "    </tr>\n",
       "    <tr>\n",
       "      <th>1</th>\n",
       "      <td>2022</td>\n",
       "      <td>SE</td>\n",
       "      <td>FT</td>\n",
       "      <td>Data Engineer</td>\n",
       "      <td>135000</td>\n",
       "      <td>USD</td>\n",
       "      <td>US</td>\n",
       "      <td>100</td>\n",
       "      <td>US</td>\n",
       "      <td>M</td>\n",
       "    </tr>\n",
       "    <tr>\n",
       "      <th>2</th>\n",
       "      <td>2021</td>\n",
       "      <td>MI</td>\n",
       "      <td>FT</td>\n",
       "      <td>BI Data Analyst</td>\n",
       "      <td>100000</td>\n",
       "      <td>USD</td>\n",
       "      <td>US</td>\n",
       "      <td>100</td>\n",
       "      <td>US</td>\n",
       "      <td>M</td>\n",
       "    </tr>\n",
       "    <tr>\n",
       "      <th>3</th>\n",
       "      <td>2021</td>\n",
       "      <td>MI</td>\n",
       "      <td>CT</td>\n",
       "      <td>ML Engineer</td>\n",
       "      <td>270000</td>\n",
       "      <td>USD</td>\n",
       "      <td>US</td>\n",
       "      <td>100</td>\n",
       "      <td>US</td>\n",
       "      <td>L</td>\n",
       "    </tr>\n",
       "    <tr>\n",
       "      <th>4</th>\n",
       "      <td>2021</td>\n",
       "      <td>MI</td>\n",
       "      <td>FT</td>\n",
       "      <td>Data Engineer</td>\n",
       "      <td>22000</td>\n",
       "      <td>EUR</td>\n",
       "      <td>RO</td>\n",
       "      <td>0</td>\n",
       "      <td>US</td>\n",
       "      <td>L</td>\n",
       "    </tr>\n",
       "  </tbody>\n",
       "</table>\n",
       "</div>"
      ],
      "text/plain": [
       "   work_year experience_level employment_type        job_title  salary  \\\n",
       "0       2022               SE              FT    Data Engineer  140250   \n",
       "1       2022               SE              FT    Data Engineer  135000   \n",
       "2       2021               MI              FT  BI Data Analyst  100000   \n",
       "3       2021               MI              CT      ML Engineer  270000   \n",
       "4       2021               MI              FT    Data Engineer   22000   \n",
       "\n",
       "  salary_currency employee_residence  remote_ratio company_location  \\\n",
       "0             USD                 US           100               US   \n",
       "1             USD                 US           100               US   \n",
       "2             USD                 US           100               US   \n",
       "3             USD                 US           100               US   \n",
       "4             EUR                 RO             0               US   \n",
       "\n",
       "  company_size  \n",
       "0            M  \n",
       "1            M  \n",
       "2            M  \n",
       "3            L  \n",
       "4            L  "
      ]
     },
     "execution_count": 7,
     "metadata": {},
     "output_type": "execute_result"
    }
   ],
   "source": [
    "concat.head(5)"
   ]
  },
  {
   "cell_type": "code",
   "execution_count": 8,
   "id": "158c5e16",
   "metadata": {},
   "outputs": [
    {
     "data": {
      "text/plain": [
       "array(['SE', 'MI', 'EN', 'EX'], dtype=object)"
      ]
     },
     "execution_count": 8,
     "metadata": {},
     "output_type": "execute_result"
    }
   ],
   "source": [
    "concat.experience_level.unique()"
   ]
  },
  {
   "cell_type": "code",
   "execution_count": 9,
   "id": "02eb258f",
   "metadata": {},
   "outputs": [
    {
     "data": {
      "text/html": [
       "<div>\n",
       "<style scoped>\n",
       "    .dataframe tbody tr th:only-of-type {\n",
       "        vertical-align: middle;\n",
       "    }\n",
       "\n",
       "    .dataframe tbody tr th {\n",
       "        vertical-align: top;\n",
       "    }\n",
       "\n",
       "    .dataframe thead th {\n",
       "        text-align: right;\n",
       "    }\n",
       "</style>\n",
       "<table border=\"1\" class=\"dataframe\">\n",
       "  <thead>\n",
       "    <tr style=\"text-align: right;\">\n",
       "      <th></th>\n",
       "      <th>work_year</th>\n",
       "      <th>experience_level</th>\n",
       "      <th>employment_type</th>\n",
       "      <th>job_title</th>\n",
       "      <th>salary</th>\n",
       "      <th>salary_currency</th>\n",
       "      <th>employee_residence</th>\n",
       "      <th>remote_ratio</th>\n",
       "      <th>company_location</th>\n",
       "      <th>company_size</th>\n",
       "    </tr>\n",
       "  </thead>\n",
       "  <tbody>\n",
       "    <tr>\n",
       "      <th>102</th>\n",
       "      <td>2022</td>\n",
       "      <td>3</td>\n",
       "      <td>FT</td>\n",
       "      <td>Data Analyst</td>\n",
       "      <td>170000</td>\n",
       "      <td>USD</td>\n",
       "      <td>US</td>\n",
       "      <td>100</td>\n",
       "      <td>US</td>\n",
       "      <td>M</td>\n",
       "    </tr>\n",
       "    <tr>\n",
       "      <th>103</th>\n",
       "      <td>2022</td>\n",
       "      <td>3</td>\n",
       "      <td>FT</td>\n",
       "      <td>Data Architect</td>\n",
       "      <td>192564</td>\n",
       "      <td>USD</td>\n",
       "      <td>US</td>\n",
       "      <td>100</td>\n",
       "      <td>US</td>\n",
       "      <td>M</td>\n",
       "    </tr>\n",
       "    <tr>\n",
       "      <th>104</th>\n",
       "      <td>2022</td>\n",
       "      <td>3</td>\n",
       "      <td>FT</td>\n",
       "      <td>Data Scientist</td>\n",
       "      <td>230000</td>\n",
       "      <td>USD</td>\n",
       "      <td>US</td>\n",
       "      <td>100</td>\n",
       "      <td>US</td>\n",
       "      <td>M</td>\n",
       "    </tr>\n",
       "    <tr>\n",
       "      <th>105</th>\n",
       "      <td>2022</td>\n",
       "      <td>0</td>\n",
       "      <td>FT</td>\n",
       "      <td>Data Analyst</td>\n",
       "      <td>52000</td>\n",
       "      <td>USD</td>\n",
       "      <td>CA</td>\n",
       "      <td>0</td>\n",
       "      <td>CA</td>\n",
       "      <td>M</td>\n",
       "    </tr>\n",
       "    <tr>\n",
       "      <th>106</th>\n",
       "      <td>2022</td>\n",
       "      <td>3</td>\n",
       "      <td>FT</td>\n",
       "      <td>Data Analyst</td>\n",
       "      <td>129000</td>\n",
       "      <td>USD</td>\n",
       "      <td>US</td>\n",
       "      <td>0</td>\n",
       "      <td>US</td>\n",
       "      <td>M</td>\n",
       "    </tr>\n",
       "  </tbody>\n",
       "</table>\n",
       "</div>"
      ],
      "text/plain": [
       "     work_year  experience_level employment_type       job_title  salary  \\\n",
       "102       2022                 3              FT    Data Analyst  170000   \n",
       "103       2022                 3              FT  Data Architect  192564   \n",
       "104       2022                 3              FT  Data Scientist  230000   \n",
       "105       2022                 0              FT    Data Analyst   52000   \n",
       "106       2022                 3              FT    Data Analyst  129000   \n",
       "\n",
       "    salary_currency employee_residence  remote_ratio company_location  \\\n",
       "102             USD                 US           100               US   \n",
       "103             USD                 US           100               US   \n",
       "104             USD                 US           100               US   \n",
       "105             USD                 CA             0               CA   \n",
       "106             USD                 US             0               US   \n",
       "\n",
       "    company_size  \n",
       "102            M  \n",
       "103            M  \n",
       "104            M  \n",
       "105            M  \n",
       "106            M  "
      ]
     },
     "execution_count": 9,
     "metadata": {},
     "output_type": "execute_result"
    }
   ],
   "source": [
    "# label encoder\n",
    "\n",
    "from sklearn.preprocessing import LabelEncoder, OrdinalEncoder\n",
    "\n",
    "concat.experience_level=LabelEncoder().fit_transform(concat.experience_level)\n",
    "\n",
    "concat.tail(5)\n"
   ]
  },
  {
   "cell_type": "code",
   "execution_count": 10,
   "id": "51a200af",
   "metadata": {},
   "outputs": [
    {
     "data": {
      "text/plain": [
       "array(['FT', 'CT', 'FL', 'PT'], dtype=object)"
      ]
     },
     "execution_count": 10,
     "metadata": {},
     "output_type": "execute_result"
    }
   ],
   "source": [
    "salary_data.employment_type.unique()"
   ]
  },
  {
   "cell_type": "code",
   "execution_count": 11,
   "id": "97abba79",
   "metadata": {},
   "outputs": [
    {
     "data": {
      "text/html": [
       "<div>\n",
       "<style scoped>\n",
       "    .dataframe tbody tr th:only-of-type {\n",
       "        vertical-align: middle;\n",
       "    }\n",
       "\n",
       "    .dataframe tbody tr th {\n",
       "        vertical-align: top;\n",
       "    }\n",
       "\n",
       "    .dataframe thead th {\n",
       "        text-align: right;\n",
       "    }\n",
       "</style>\n",
       "<table border=\"1\" class=\"dataframe\">\n",
       "  <thead>\n",
       "    <tr style=\"text-align: right;\">\n",
       "      <th></th>\n",
       "      <th>work_year</th>\n",
       "      <th>experience_level</th>\n",
       "      <th>employment_type</th>\n",
       "      <th>job_title</th>\n",
       "      <th>salary</th>\n",
       "      <th>salary_currency</th>\n",
       "      <th>employee_residence</th>\n",
       "      <th>remote_ratio</th>\n",
       "      <th>company_location</th>\n",
       "      <th>company_size</th>\n",
       "    </tr>\n",
       "  </thead>\n",
       "  <tbody>\n",
       "    <tr>\n",
       "      <th>0</th>\n",
       "      <td>2022</td>\n",
       "      <td>3</td>\n",
       "      <td>2</td>\n",
       "      <td>Data Engineer</td>\n",
       "      <td>140250</td>\n",
       "      <td>USD</td>\n",
       "      <td>US</td>\n",
       "      <td>100</td>\n",
       "      <td>US</td>\n",
       "      <td>M</td>\n",
       "    </tr>\n",
       "    <tr>\n",
       "      <th>1</th>\n",
       "      <td>2022</td>\n",
       "      <td>3</td>\n",
       "      <td>2</td>\n",
       "      <td>Data Engineer</td>\n",
       "      <td>135000</td>\n",
       "      <td>USD</td>\n",
       "      <td>US</td>\n",
       "      <td>100</td>\n",
       "      <td>US</td>\n",
       "      <td>M</td>\n",
       "    </tr>\n",
       "    <tr>\n",
       "      <th>2</th>\n",
       "      <td>2021</td>\n",
       "      <td>2</td>\n",
       "      <td>2</td>\n",
       "      <td>BI Data Analyst</td>\n",
       "      <td>100000</td>\n",
       "      <td>USD</td>\n",
       "      <td>US</td>\n",
       "      <td>100</td>\n",
       "      <td>US</td>\n",
       "      <td>M</td>\n",
       "    </tr>\n",
       "    <tr>\n",
       "      <th>3</th>\n",
       "      <td>2021</td>\n",
       "      <td>2</td>\n",
       "      <td>0</td>\n",
       "      <td>ML Engineer</td>\n",
       "      <td>270000</td>\n",
       "      <td>USD</td>\n",
       "      <td>US</td>\n",
       "      <td>100</td>\n",
       "      <td>US</td>\n",
       "      <td>L</td>\n",
       "    </tr>\n",
       "    <tr>\n",
       "      <th>4</th>\n",
       "      <td>2021</td>\n",
       "      <td>2</td>\n",
       "      <td>2</td>\n",
       "      <td>Data Engineer</td>\n",
       "      <td>22000</td>\n",
       "      <td>EUR</td>\n",
       "      <td>RO</td>\n",
       "      <td>0</td>\n",
       "      <td>US</td>\n",
       "      <td>L</td>\n",
       "    </tr>\n",
       "  </tbody>\n",
       "</table>\n",
       "</div>"
      ],
      "text/plain": [
       "   work_year  experience_level  employment_type        job_title  salary  \\\n",
       "0       2022                 3                2    Data Engineer  140250   \n",
       "1       2022                 3                2    Data Engineer  135000   \n",
       "2       2021                 2                2  BI Data Analyst  100000   \n",
       "3       2021                 2                0      ML Engineer  270000   \n",
       "4       2021                 2                2    Data Engineer   22000   \n",
       "\n",
       "  salary_currency employee_residence  remote_ratio company_location  \\\n",
       "0             USD                 US           100               US   \n",
       "1             USD                 US           100               US   \n",
       "2             USD                 US           100               US   \n",
       "3             USD                 US           100               US   \n",
       "4             EUR                 RO             0               US   \n",
       "\n",
       "  company_size  \n",
       "0            M  \n",
       "1            M  \n",
       "2            M  \n",
       "3            L  \n",
       "4            L  "
      ]
     },
     "execution_count": 11,
     "metadata": {},
     "output_type": "execute_result"
    }
   ],
   "source": [
    "# label encoder\n",
    "\n",
    "from sklearn.preprocessing import LabelEncoder, OrdinalEncoder\n",
    "\n",
    "concat.employment_type=LabelEncoder().fit_transform(concat.employment_type)\n",
    "\n",
    "concat.head(5)"
   ]
  },
  {
   "cell_type": "code",
   "execution_count": 12,
   "id": "bb0f491c",
   "metadata": {},
   "outputs": [
    {
     "data": {
      "text/html": [
       "<div>\n",
       "<style scoped>\n",
       "    .dataframe tbody tr th:only-of-type {\n",
       "        vertical-align: middle;\n",
       "    }\n",
       "\n",
       "    .dataframe tbody tr th {\n",
       "        vertical-align: top;\n",
       "    }\n",
       "\n",
       "    .dataframe thead th {\n",
       "        text-align: right;\n",
       "    }\n",
       "</style>\n",
       "<table border=\"1\" class=\"dataframe\">\n",
       "  <thead>\n",
       "    <tr style=\"text-align: right;\">\n",
       "      <th></th>\n",
       "      <th>work_year</th>\n",
       "      <th>experience_level</th>\n",
       "      <th>employment_type</th>\n",
       "      <th>job_title</th>\n",
       "      <th>salary</th>\n",
       "      <th>salary_currency</th>\n",
       "      <th>employee_residence</th>\n",
       "      <th>remote_ratio</th>\n",
       "      <th>company_location</th>\n",
       "      <th>company_size</th>\n",
       "    </tr>\n",
       "  </thead>\n",
       "  <tbody>\n",
       "    <tr>\n",
       "      <th>0</th>\n",
       "      <td>2022</td>\n",
       "      <td>3</td>\n",
       "      <td>2</td>\n",
       "      <td>Data Engineer</td>\n",
       "      <td>140250</td>\n",
       "      <td>USD</td>\n",
       "      <td>US</td>\n",
       "      <td>100</td>\n",
       "      <td>US</td>\n",
       "      <td>2</td>\n",
       "    </tr>\n",
       "    <tr>\n",
       "      <th>1</th>\n",
       "      <td>2022</td>\n",
       "      <td>3</td>\n",
       "      <td>2</td>\n",
       "      <td>Data Engineer</td>\n",
       "      <td>135000</td>\n",
       "      <td>USD</td>\n",
       "      <td>US</td>\n",
       "      <td>100</td>\n",
       "      <td>US</td>\n",
       "      <td>2</td>\n",
       "    </tr>\n",
       "    <tr>\n",
       "      <th>2</th>\n",
       "      <td>2021</td>\n",
       "      <td>2</td>\n",
       "      <td>2</td>\n",
       "      <td>BI Data Analyst</td>\n",
       "      <td>100000</td>\n",
       "      <td>USD</td>\n",
       "      <td>US</td>\n",
       "      <td>100</td>\n",
       "      <td>US</td>\n",
       "      <td>2</td>\n",
       "    </tr>\n",
       "    <tr>\n",
       "      <th>3</th>\n",
       "      <td>2021</td>\n",
       "      <td>2</td>\n",
       "      <td>0</td>\n",
       "      <td>ML Engineer</td>\n",
       "      <td>270000</td>\n",
       "      <td>USD</td>\n",
       "      <td>US</td>\n",
       "      <td>100</td>\n",
       "      <td>US</td>\n",
       "      <td>0</td>\n",
       "    </tr>\n",
       "    <tr>\n",
       "      <th>4</th>\n",
       "      <td>2021</td>\n",
       "      <td>2</td>\n",
       "      <td>2</td>\n",
       "      <td>Data Engineer</td>\n",
       "      <td>22000</td>\n",
       "      <td>EUR</td>\n",
       "      <td>RO</td>\n",
       "      <td>0</td>\n",
       "      <td>US</td>\n",
       "      <td>2</td>\n",
       "    </tr>\n",
       "  </tbody>\n",
       "</table>\n",
       "</div>"
      ],
      "text/plain": [
       "   work_year  experience_level  employment_type        job_title  salary  \\\n",
       "0       2022                 3                2    Data Engineer  140250   \n",
       "1       2022                 3                2    Data Engineer  135000   \n",
       "2       2021                 2                2  BI Data Analyst  100000   \n",
       "3       2021                 2                0      ML Engineer  270000   \n",
       "4       2021                 2                2    Data Engineer   22000   \n",
       "\n",
       "  salary_currency employee_residence  remote_ratio company_location  \\\n",
       "0             USD                 US           100               US   \n",
       "1             USD                 US           100               US   \n",
       "2             USD                 US           100               US   \n",
       "3             USD                 US           100               US   \n",
       "4             EUR                 RO             0               US   \n",
       "\n",
       "   company_size  \n",
       "0             2  \n",
       "1             2  \n",
       "2             2  \n",
       "3             0  \n",
       "4             2  "
      ]
     },
     "execution_count": 12,
     "metadata": {},
     "output_type": "execute_result"
    }
   ],
   "source": [
    "# label encoder\n",
    "\n",
    "from sklearn.preprocessing import LabelEncoder, OrdinalEncoder\n",
    "\n",
    "concat.company_size=LabelEncoder().fit_transform(concat.employment_type)\n",
    "\n",
    "concat.head(5)"
   ]
  },
  {
   "cell_type": "code",
   "execution_count": 13,
   "id": "509ebe13",
   "metadata": {},
   "outputs": [
    {
     "data": {
      "text/html": [
       "<div>\n",
       "<style scoped>\n",
       "    .dataframe tbody tr th:only-of-type {\n",
       "        vertical-align: middle;\n",
       "    }\n",
       "\n",
       "    .dataframe tbody tr th {\n",
       "        vertical-align: top;\n",
       "    }\n",
       "\n",
       "    .dataframe thead th {\n",
       "        text-align: right;\n",
       "    }\n",
       "</style>\n",
       "<table border=\"1\" class=\"dataframe\">\n",
       "  <thead>\n",
       "    <tr style=\"text-align: right;\">\n",
       "      <th></th>\n",
       "      <th>work_year</th>\n",
       "      <th>experience_level</th>\n",
       "      <th>employment_type</th>\n",
       "      <th>job_title</th>\n",
       "      <th>salary</th>\n",
       "      <th>salary_currency</th>\n",
       "      <th>employee_residence</th>\n",
       "      <th>remote_ratio</th>\n",
       "      <th>company_location</th>\n",
       "      <th>company_size</th>\n",
       "    </tr>\n",
       "  </thead>\n",
       "  <tbody>\n",
       "    <tr>\n",
       "      <th>0</th>\n",
       "      <td>2022</td>\n",
       "      <td>3</td>\n",
       "      <td>2</td>\n",
       "      <td>Data Engineer</td>\n",
       "      <td>140250</td>\n",
       "      <td>USD</td>\n",
       "      <td>US</td>\n",
       "      <td>2</td>\n",
       "      <td>US</td>\n",
       "      <td>2</td>\n",
       "    </tr>\n",
       "    <tr>\n",
       "      <th>1</th>\n",
       "      <td>2022</td>\n",
       "      <td>3</td>\n",
       "      <td>2</td>\n",
       "      <td>Data Engineer</td>\n",
       "      <td>135000</td>\n",
       "      <td>USD</td>\n",
       "      <td>US</td>\n",
       "      <td>2</td>\n",
       "      <td>US</td>\n",
       "      <td>2</td>\n",
       "    </tr>\n",
       "    <tr>\n",
       "      <th>2</th>\n",
       "      <td>2021</td>\n",
       "      <td>2</td>\n",
       "      <td>2</td>\n",
       "      <td>BI Data Analyst</td>\n",
       "      <td>100000</td>\n",
       "      <td>USD</td>\n",
       "      <td>US</td>\n",
       "      <td>2</td>\n",
       "      <td>US</td>\n",
       "      <td>2</td>\n",
       "    </tr>\n",
       "    <tr>\n",
       "      <th>3</th>\n",
       "      <td>2021</td>\n",
       "      <td>2</td>\n",
       "      <td>0</td>\n",
       "      <td>ML Engineer</td>\n",
       "      <td>270000</td>\n",
       "      <td>USD</td>\n",
       "      <td>US</td>\n",
       "      <td>0</td>\n",
       "      <td>US</td>\n",
       "      <td>0</td>\n",
       "    </tr>\n",
       "    <tr>\n",
       "      <th>4</th>\n",
       "      <td>2021</td>\n",
       "      <td>2</td>\n",
       "      <td>2</td>\n",
       "      <td>Data Engineer</td>\n",
       "      <td>22000</td>\n",
       "      <td>EUR</td>\n",
       "      <td>RO</td>\n",
       "      <td>2</td>\n",
       "      <td>US</td>\n",
       "      <td>2</td>\n",
       "    </tr>\n",
       "  </tbody>\n",
       "</table>\n",
       "</div>"
      ],
      "text/plain": [
       "   work_year  experience_level  employment_type        job_title  salary  \\\n",
       "0       2022                 3                2    Data Engineer  140250   \n",
       "1       2022                 3                2    Data Engineer  135000   \n",
       "2       2021                 2                2  BI Data Analyst  100000   \n",
       "3       2021                 2                0      ML Engineer  270000   \n",
       "4       2021                 2                2    Data Engineer   22000   \n",
       "\n",
       "  salary_currency employee_residence  remote_ratio company_location  \\\n",
       "0             USD                 US             2               US   \n",
       "1             USD                 US             2               US   \n",
       "2             USD                 US             2               US   \n",
       "3             USD                 US             0               US   \n",
       "4             EUR                 RO             2               US   \n",
       "\n",
       "   company_size  \n",
       "0             2  \n",
       "1             2  \n",
       "2             2  \n",
       "3             0  \n",
       "4             2  "
      ]
     },
     "execution_count": 13,
     "metadata": {},
     "output_type": "execute_result"
    }
   ],
   "source": [
    "# label encoder\n",
    "\n",
    "from sklearn.preprocessing import LabelEncoder, OrdinalEncoder\n",
    "\n",
    "concat.remote_ratio=LabelEncoder().fit_transform(concat.employment_type)\n",
    "\n",
    "concat.head(5)"
   ]
  },
  {
   "cell_type": "code",
   "execution_count": 14,
   "id": "d269384e",
   "metadata": {},
   "outputs": [
    {
     "data": {
      "text/plain": [
       "2    588\n",
       "3     10\n",
       "0      5\n",
       "1      4\n",
       "Name: remote_ratio, dtype: int64"
      ]
     },
     "execution_count": 14,
     "metadata": {},
     "output_type": "execute_result"
    }
   ],
   "source": [
    "concat.remote_ratio.value_counts()"
   ]
  },
  {
   "cell_type": "code",
   "execution_count": 15,
   "id": "dd79ac1d",
   "metadata": {},
   "outputs": [
    {
     "data": {
      "text/html": [
       "<div>\n",
       "<style scoped>\n",
       "    .dataframe tbody tr th:only-of-type {\n",
       "        vertical-align: middle;\n",
       "    }\n",
       "\n",
       "    .dataframe tbody tr th {\n",
       "        vertical-align: top;\n",
       "    }\n",
       "\n",
       "    .dataframe thead th {\n",
       "        text-align: right;\n",
       "    }\n",
       "</style>\n",
       "<table border=\"1\" class=\"dataframe\">\n",
       "  <thead>\n",
       "    <tr style=\"text-align: right;\">\n",
       "      <th></th>\n",
       "      <th>work_year</th>\n",
       "      <th>experience_level</th>\n",
       "      <th>employment_type</th>\n",
       "      <th>job_title</th>\n",
       "      <th>salary</th>\n",
       "      <th>salary_currency</th>\n",
       "      <th>employee_residence</th>\n",
       "      <th>remote_ratio</th>\n",
       "      <th>company_location</th>\n",
       "      <th>company_size</th>\n",
       "    </tr>\n",
       "  </thead>\n",
       "  <tbody>\n",
       "    <tr>\n",
       "      <th>0</th>\n",
       "      <td>2022</td>\n",
       "      <td>3</td>\n",
       "      <td>2</td>\n",
       "      <td>Data Engineer</td>\n",
       "      <td>140250</td>\n",
       "      <td>USD</td>\n",
       "      <td>US</td>\n",
       "      <td>2</td>\n",
       "      <td>US</td>\n",
       "      <td>2</td>\n",
       "    </tr>\n",
       "    <tr>\n",
       "      <th>1</th>\n",
       "      <td>2022</td>\n",
       "      <td>3</td>\n",
       "      <td>2</td>\n",
       "      <td>Data Engineer</td>\n",
       "      <td>135000</td>\n",
       "      <td>USD</td>\n",
       "      <td>US</td>\n",
       "      <td>2</td>\n",
       "      <td>US</td>\n",
       "      <td>2</td>\n",
       "    </tr>\n",
       "    <tr>\n",
       "      <th>2</th>\n",
       "      <td>2021</td>\n",
       "      <td>2</td>\n",
       "      <td>2</td>\n",
       "      <td>BI Data Analyst</td>\n",
       "      <td>100000</td>\n",
       "      <td>USD</td>\n",
       "      <td>US</td>\n",
       "      <td>2</td>\n",
       "      <td>US</td>\n",
       "      <td>2</td>\n",
       "    </tr>\n",
       "    <tr>\n",
       "      <th>3</th>\n",
       "      <td>2021</td>\n",
       "      <td>2</td>\n",
       "      <td>0</td>\n",
       "      <td>ML Engineer</td>\n",
       "      <td>270000</td>\n",
       "      <td>USD</td>\n",
       "      <td>US</td>\n",
       "      <td>0</td>\n",
       "      <td>US</td>\n",
       "      <td>0</td>\n",
       "    </tr>\n",
       "    <tr>\n",
       "      <th>4</th>\n",
       "      <td>2021</td>\n",
       "      <td>2</td>\n",
       "      <td>2</td>\n",
       "      <td>Data Engineer</td>\n",
       "      <td>22000</td>\n",
       "      <td>EUR</td>\n",
       "      <td>RO</td>\n",
       "      <td>2</td>\n",
       "      <td>US</td>\n",
       "      <td>2</td>\n",
       "    </tr>\n",
       "  </tbody>\n",
       "</table>\n",
       "</div>"
      ],
      "text/plain": [
       "   work_year  experience_level  employment_type        job_title  salary  \\\n",
       "0       2022                 3                2    Data Engineer  140250   \n",
       "1       2022                 3                2    Data Engineer  135000   \n",
       "2       2021                 2                2  BI Data Analyst  100000   \n",
       "3       2021                 2                0      ML Engineer  270000   \n",
       "4       2021                 2                2    Data Engineer   22000   \n",
       "\n",
       "  salary_currency employee_residence  remote_ratio company_location  \\\n",
       "0             USD                 US             2               US   \n",
       "1             USD                 US             2               US   \n",
       "2             USD                 US             2               US   \n",
       "3             USD                 US             0               US   \n",
       "4             EUR                 RO             2               US   \n",
       "\n",
       "   company_size  \n",
       "0             2  \n",
       "1             2  \n",
       "2             2  \n",
       "3             0  \n",
       "4             2  "
      ]
     },
     "execution_count": 15,
     "metadata": {},
     "output_type": "execute_result"
    }
   ],
   "source": [
    "# label encoder\n",
    "\n",
    "from sklearn.preprocessing import LabelEncoder, OrdinalEncoder\n",
    "\n",
    "concat.remote_ratio=LabelEncoder().fit_transform(concat.employment_type)\n",
    "\n",
    "concat.head(5)"
   ]
  },
  {
   "cell_type": "code",
   "execution_count": 16,
   "id": "49a2f511",
   "metadata": {},
   "outputs": [],
   "source": [
    "from sklearn.preprocessing import LabelEncoder, OrdinalEncoder"
   ]
  },
  {
   "cell_type": "code",
   "execution_count": 17,
   "id": "20d96e0c",
   "metadata": {},
   "outputs": [
    {
     "data": {
      "text/html": [
       "<div>\n",
       "<style scoped>\n",
       "    .dataframe tbody tr th:only-of-type {\n",
       "        vertical-align: middle;\n",
       "    }\n",
       "\n",
       "    .dataframe tbody tr th {\n",
       "        vertical-align: top;\n",
       "    }\n",
       "\n",
       "    .dataframe thead th {\n",
       "        text-align: right;\n",
       "    }\n",
       "</style>\n",
       "<table border=\"1\" class=\"dataframe\">\n",
       "  <thead>\n",
       "    <tr style=\"text-align: right;\">\n",
       "      <th></th>\n",
       "      <th>work_year</th>\n",
       "      <th>experience_level</th>\n",
       "      <th>employment_type</th>\n",
       "      <th>job_title</th>\n",
       "      <th>salary</th>\n",
       "      <th>salary_currency</th>\n",
       "      <th>employee_residence</th>\n",
       "      <th>remote_ratio</th>\n",
       "      <th>company_location</th>\n",
       "      <th>company_size</th>\n",
       "    </tr>\n",
       "  </thead>\n",
       "  <tbody>\n",
       "    <tr>\n",
       "      <th>0</th>\n",
       "      <td>2022</td>\n",
       "      <td>3</td>\n",
       "      <td>2</td>\n",
       "      <td>17</td>\n",
       "      <td>140250</td>\n",
       "      <td>16</td>\n",
       "      <td>55</td>\n",
       "      <td>2</td>\n",
       "      <td>48</td>\n",
       "      <td>2</td>\n",
       "    </tr>\n",
       "    <tr>\n",
       "      <th>1</th>\n",
       "      <td>2022</td>\n",
       "      <td>3</td>\n",
       "      <td>2</td>\n",
       "      <td>17</td>\n",
       "      <td>135000</td>\n",
       "      <td>16</td>\n",
       "      <td>55</td>\n",
       "      <td>2</td>\n",
       "      <td>48</td>\n",
       "      <td>2</td>\n",
       "    </tr>\n",
       "    <tr>\n",
       "      <th>2</th>\n",
       "      <td>2021</td>\n",
       "      <td>2</td>\n",
       "      <td>2</td>\n",
       "      <td>5</td>\n",
       "      <td>100000</td>\n",
       "      <td>16</td>\n",
       "      <td>55</td>\n",
       "      <td>2</td>\n",
       "      <td>48</td>\n",
       "      <td>2</td>\n",
       "    </tr>\n",
       "    <tr>\n",
       "      <th>3</th>\n",
       "      <td>2021</td>\n",
       "      <td>2</td>\n",
       "      <td>0</td>\n",
       "      <td>36</td>\n",
       "      <td>270000</td>\n",
       "      <td>16</td>\n",
       "      <td>55</td>\n",
       "      <td>0</td>\n",
       "      <td>48</td>\n",
       "      <td>0</td>\n",
       "    </tr>\n",
       "    <tr>\n",
       "      <th>4</th>\n",
       "      <td>2021</td>\n",
       "      <td>2</td>\n",
       "      <td>2</td>\n",
       "      <td>17</td>\n",
       "      <td>22000</td>\n",
       "      <td>7</td>\n",
       "      <td>47</td>\n",
       "      <td>2</td>\n",
       "      <td>48</td>\n",
       "      <td>2</td>\n",
       "    </tr>\n",
       "  </tbody>\n",
       "</table>\n",
       "</div>"
      ],
      "text/plain": [
       "   work_year  experience_level  employment_type  job_title  salary  \\\n",
       "0       2022                 3                2         17  140250   \n",
       "1       2022                 3                2         17  135000   \n",
       "2       2021                 2                2          5  100000   \n",
       "3       2021                 2                0         36  270000   \n",
       "4       2021                 2                2         17   22000   \n",
       "\n",
       "   salary_currency  employee_residence  remote_ratio  company_location  \\\n",
       "0               16                  55             2                48   \n",
       "1               16                  55             2                48   \n",
       "2               16                  55             2                48   \n",
       "3               16                  55             0                48   \n",
       "4                7                  47             2                48   \n",
       "\n",
       "   company_size  \n",
       "0             2  \n",
       "1             2  \n",
       "2             2  \n",
       "3             0  \n",
       "4             2  "
      ]
     },
     "execution_count": 17,
     "metadata": {},
     "output_type": "execute_result"
    }
   ],
   "source": [
    "cols_label = ['job_title','salary_currency', 'employee_residence','company_location']\n",
    "\n",
    "for i in cols_label:\n",
    "    concat[i]=LabelEncoder().fit_transform(concat[i])\n",
    "    \n",
    "concat.head()"
   ]
  },
  {
   "cell_type": "code",
   "execution_count": 18,
   "id": "473d800d",
   "metadata": {},
   "outputs": [
    {
     "name": "stdout",
     "output_type": "stream",
     "text": [
      "<class 'pandas.core.frame.DataFrame'>\n",
      "Int64Index: 607 entries, 0 to 106\n",
      "Data columns (total 10 columns):\n",
      " #   Column              Non-Null Count  Dtype\n",
      "---  ------              --------------  -----\n",
      " 0   work_year           607 non-null    int64\n",
      " 1   experience_level    607 non-null    int32\n",
      " 2   employment_type     607 non-null    int32\n",
      " 3   job_title           607 non-null    int32\n",
      " 4   salary              607 non-null    int64\n",
      " 5   salary_currency     607 non-null    int32\n",
      " 6   employee_residence  607 non-null    int32\n",
      " 7   remote_ratio        607 non-null    int64\n",
      " 8   company_location    607 non-null    int32\n",
      " 9   company_size        607 non-null    int64\n",
      "dtypes: int32(6), int64(4)\n",
      "memory usage: 37.9 KB\n"
     ]
    }
   ],
   "source": [
    "concat.info()"
   ]
  },
  {
   "cell_type": "code",
   "execution_count": 19,
   "id": "d179ab9e",
   "metadata": {},
   "outputs": [],
   "source": [
    "concat.drop(columns='salary', inplace = True)\n",
    "concat.drop(columns='salary_currency', inplace = True)"
   ]
  },
  {
   "cell_type": "code",
   "execution_count": 20,
   "id": "7782bb48",
   "metadata": {},
   "outputs": [],
   "source": [
    "import pylab as plt\n",
    "# import matplotlib.pyplot as plt\n",
    "\n",
    "plt.rcParams['figure.figsize']=(15, 8)   # tamaño por defecto, decenas de pixeles\n",
    "\n",
    "import seaborn as sns"
   ]
  },
  {
   "cell_type": "code",
   "execution_count": 22,
   "id": "ccbf4c85",
   "metadata": {},
   "outputs": [],
   "source": [
    "import numpy as np"
   ]
  },
  {
   "cell_type": "code",
   "execution_count": 23,
   "id": "b95e74d8",
   "metadata": {},
   "outputs": [
    {
     "data": {
      "image/png": "[encoded data removed]",
      "text/plain": [
       "<Figure size 1080x720 with 2 Axes>"
      ]
     },
     "metadata": {},
     "output_type": "display_data"
    }
   ],
   "source": [
    "plt.figure(figsize=(15, 10))\n",
    "\n",
    "sns.set(style='white')\n",
    "\n",
    "mask=np.triu(np.ones_like(concat.corr(), dtype=bool))\n",
    "\n",
    "cmap=sns.diverging_palette(0, 10, as_cmap=True)\n",
    "\n",
    "\n",
    "sns.heatmap(concat.corr(),\n",
    "           mask=mask,\n",
    "          cmap=cmap,\n",
    "          center=0,\n",
    "          square=True,\n",
    "          annot=True,\n",
    "          linewidths=0.5,\n",
    "          cbar_kws={'shrink': 0.5});"
   ]
  },
  {
   "cell_type": "code",
   "execution_count": 32,
   "id": "b4f263f9",
   "metadata": {},
   "outputs": [],
   "source": [
    "concat.drop(columns='employment_type', inplace = True)\n",
    "concat.drop(columns='remote_ratio', inplace = True)"
   ]
  },
  {
   "cell_type": "code",
   "execution_count": 33,
   "id": "2590de8c",
   "metadata": {
    "scrolled": true
   },
   "outputs": [
    {
     "name": "stdout",
     "output_type": "stream",
     "text": [
      "Requirement already satisfied: lazypredict in c:\\users\\pablo\\anaconda3\\lib\\site-packages (0.2.12)\n",
      "Requirement already satisfied: scikit-learn in c:\\users\\pablo\\anaconda3\\lib\\site-packages (from lazypredict) (1.0.2)\n",
      "Requirement already satisfied: lightgbm in c:\\users\\pablo\\anaconda3\\lib\\site-packages (from lazypredict) (3.3.3)\n",
      "Requirement already satisfied: joblib in c:\\users\\pablo\\anaconda3\\lib\\site-packages (from lazypredict) (1.1.0)\n",
      "Requirement already satisfied: pandas in c:\\users\\pablo\\anaconda3\\lib\\site-packages (from lazypredict) (1.4.2)\n",
      "Requirement already satisfied: click in c:\\users\\pablo\\anaconda3\\lib\\site-packages (from lazypredict) (8.0.4)\n",
      "Requirement already satisfied: tqdm in c:\\users\\pablo\\anaconda3\\lib\\site-packages (from lazypredict) (4.64.0)\n",
      "Requirement already satisfied: xgboost in c:\\users\\pablo\\anaconda3\\lib\\site-packages (from lazypredict) (1.7.1)\n",
      "Requirement already satisfied: colorama in c:\\users\\pablo\\anaconda3\\lib\\site-packages (from click->lazypredict) (0.4.4)\n",
      "Requirement already satisfied: wheel in c:\\users\\pablo\\anaconda3\\lib\\site-packages (from lightgbm->lazypredict) (0.37.1)\n",
      "Requirement already satisfied: numpy in c:\\users\\pablo\\anaconda3\\lib\\site-packages (from lightgbm->lazypredict) (1.21.5)\n",
      "Requirement already satisfied: scipy in c:\\users\\pablo\\anaconda3\\lib\\site-packages (from lightgbm->lazypredict) (1.7.3)\n",
      "Requirement already satisfied: threadpoolctl>=2.0.0 in c:\\users\\pablo\\anaconda3\\lib\\site-packages (from scikit-learn->lazypredict) (2.2.0)\n",
      "Requirement already satisfied: python-dateutil>=2.8.1 in c:\\users\\pablo\\anaconda3\\lib\\site-packages (from pandas->lazypredict) (2.8.2)\n",
      "Requirement already satisfied: pytz>=2020.1 in c:\\users\\pablo\\anaconda3\\lib\\site-packages (from pandas->lazypredict) (2021.3)\n",
      "Requirement already satisfied: six>=1.5 in c:\\users\\pablo\\anaconda3\\lib\\site-packages (from python-dateutil>=2.8.1->pandas->lazypredict) (1.16.0)\n",
      "Note: you may need to restart the kernel to use updated packages.\n"
     ]
    }
   ],
   "source": [
    "%pip install lazypredict"
   ]
  },
  {
   "cell_type": "code",
   "execution_count": 34,
   "id": "0914d801",
   "metadata": {},
   "outputs": [],
   "source": [
    "from lazypredict.Supervised import LazyRegressor\n",
    "\n",
    "from sklearn import datasets\n",
    "\n",
    "from sklearn.utils import shuffle\n",
    "\n",
    "import numpy as np"
   ]
  },
  {
   "cell_type": "code",
   "execution_count": 35,
   "id": "01d5cfc4",
   "metadata": {},
   "outputs": [],
   "source": [
    "X_testeo = concat[-107:] # previamente hemos dropeado la columna objetivo salary_in_usd, antes de concat TESTEO\n",
    "X = concat[:-107] # viene del archivo testeo donde no existe la columna salary_in_usd, antes de concat TRAIN"
   ]
  },
  {
   "cell_type": "code",
   "execution_count": 36,
   "id": "321eba4c",
   "metadata": {},
   "outputs": [
    {
     "data": {
      "text/plain": [
       "500"
      ]
     },
     "execution_count": 36,
     "metadata": {},
     "output_type": "execute_result"
    }
   ],
   "source": [
    "len(X)"
   ]
  },
  {
   "cell_type": "code",
   "execution_count": 37,
   "id": "7de0562c",
   "metadata": {},
   "outputs": [
    {
     "data": {
      "text/plain": [
       "107"
      ]
     },
     "execution_count": 37,
     "metadata": {},
     "output_type": "execute_result"
    }
   ],
   "source": [
    "len(X_testeo)"
   ]
  },
  {
   "cell_type": "code",
   "execution_count": null,
   "id": "4d4ea957",
   "metadata": {},
   "outputs": [],
   "source": []
  },
  {
   "cell_type": "markdown",
   "id": "4add69c5",
   "metadata": {},
   "source": [
    "### 1º DETERMINAMOS X y Y"
   ]
  },
  {
   "cell_type": "code",
   "execution_count": 38,
   "id": "9409293a",
   "metadata": {},
   "outputs": [],
   "source": [
    "y = salary_data.salary_in_usd"
   ]
  },
  {
   "cell_type": "code",
   "execution_count": 39,
   "id": "d23922ed",
   "metadata": {},
   "outputs": [
    {
     "data": {
      "text/html": [
       "<div>\n",
       "<style scoped>\n",
       "    .dataframe tbody tr th:only-of-type {\n",
       "        vertical-align: middle;\n",
       "    }\n",
       "\n",
       "    .dataframe tbody tr th {\n",
       "        vertical-align: top;\n",
       "    }\n",
       "\n",
       "    .dataframe thead th {\n",
       "        text-align: right;\n",
       "    }\n",
       "</style>\n",
       "<table border=\"1\" class=\"dataframe\">\n",
       "  <thead>\n",
       "    <tr style=\"text-align: right;\">\n",
       "      <th></th>\n",
       "      <th>work_year</th>\n",
       "      <th>experience_level</th>\n",
       "      <th>job_title</th>\n",
       "      <th>employee_residence</th>\n",
       "      <th>company_location</th>\n",
       "      <th>company_size</th>\n",
       "    </tr>\n",
       "  </thead>\n",
       "  <tbody>\n",
       "    <tr>\n",
       "      <th>0</th>\n",
       "      <td>2022</td>\n",
       "      <td>3</td>\n",
       "      <td>17</td>\n",
       "      <td>55</td>\n",
       "      <td>48</td>\n",
       "      <td>2</td>\n",
       "    </tr>\n",
       "    <tr>\n",
       "      <th>1</th>\n",
       "      <td>2022</td>\n",
       "      <td>3</td>\n",
       "      <td>17</td>\n",
       "      <td>55</td>\n",
       "      <td>48</td>\n",
       "      <td>2</td>\n",
       "    </tr>\n",
       "    <tr>\n",
       "      <th>2</th>\n",
       "      <td>2021</td>\n",
       "      <td>2</td>\n",
       "      <td>5</td>\n",
       "      <td>55</td>\n",
       "      <td>48</td>\n",
       "      <td>2</td>\n",
       "    </tr>\n",
       "    <tr>\n",
       "      <th>3</th>\n",
       "      <td>2021</td>\n",
       "      <td>2</td>\n",
       "      <td>36</td>\n",
       "      <td>55</td>\n",
       "      <td>48</td>\n",
       "      <td>0</td>\n",
       "    </tr>\n",
       "    <tr>\n",
       "      <th>4</th>\n",
       "      <td>2021</td>\n",
       "      <td>2</td>\n",
       "      <td>17</td>\n",
       "      <td>47</td>\n",
       "      <td>48</td>\n",
       "      <td>2</td>\n",
       "    </tr>\n",
       "    <tr>\n",
       "      <th>...</th>\n",
       "      <td>...</td>\n",
       "      <td>...</td>\n",
       "      <td>...</td>\n",
       "      <td>...</td>\n",
       "      <td>...</td>\n",
       "      <td>...</td>\n",
       "    </tr>\n",
       "    <tr>\n",
       "      <th>495</th>\n",
       "      <td>2022</td>\n",
       "      <td>3</td>\n",
       "      <td>17</td>\n",
       "      <td>55</td>\n",
       "      <td>48</td>\n",
       "      <td>2</td>\n",
       "    </tr>\n",
       "    <tr>\n",
       "      <th>496</th>\n",
       "      <td>2021</td>\n",
       "      <td>0</td>\n",
       "      <td>7</td>\n",
       "      <td>27</td>\n",
       "      <td>7</td>\n",
       "      <td>2</td>\n",
       "    </tr>\n",
       "    <tr>\n",
       "      <th>497</th>\n",
       "      <td>2022</td>\n",
       "      <td>3</td>\n",
       "      <td>16</td>\n",
       "      <td>8</td>\n",
       "      <td>6</td>\n",
       "      <td>2</td>\n",
       "    </tr>\n",
       "    <tr>\n",
       "      <th>498</th>\n",
       "      <td>2021</td>\n",
       "      <td>2</td>\n",
       "      <td>17</td>\n",
       "      <td>20</td>\n",
       "      <td>18</td>\n",
       "      <td>2</td>\n",
       "    </tr>\n",
       "    <tr>\n",
       "      <th>499</th>\n",
       "      <td>2021</td>\n",
       "      <td>0</td>\n",
       "      <td>11</td>\n",
       "      <td>55</td>\n",
       "      <td>48</td>\n",
       "      <td>2</td>\n",
       "    </tr>\n",
       "  </tbody>\n",
       "</table>\n",
       "<p>500 rows × 6 columns</p>\n",
       "</div>"
      ],
      "text/plain": [
       "     work_year  experience_level  job_title  employee_residence  \\\n",
       "0         2022                 3         17                  55   \n",
       "1         2022                 3         17                  55   \n",
       "2         2021                 2          5                  55   \n",
       "3         2021                 2         36                  55   \n",
       "4         2021                 2         17                  47   \n",
       "..         ...               ...        ...                 ...   \n",
       "495       2022                 3         17                  55   \n",
       "496       2021                 0          7                  27   \n",
       "497       2022                 3         16                   8   \n",
       "498       2021                 2         17                  20   \n",
       "499       2021                 0         11                  55   \n",
       "\n",
       "     company_location  company_size  \n",
       "0                  48             2  \n",
       "1                  48             2  \n",
       "2                  48             2  \n",
       "3                  48             0  \n",
       "4                  48             2  \n",
       "..                ...           ...  \n",
       "495                48             2  \n",
       "496                 7             2  \n",
       "497                 6             2  \n",
       "498                18             2  \n",
       "499                48             2  \n",
       "\n",
       "[500 rows x 6 columns]"
      ]
     },
     "execution_count": 39,
     "metadata": {},
     "output_type": "execute_result"
    }
   ],
   "source": [
    "X # salary_data"
   ]
  },
  {
   "cell_type": "markdown",
   "id": "74f29415",
   "metadata": {},
   "source": [
    "### 2º SPLITEAMOS X y Y TRAIN, TEST"
   ]
  },
  {
   "cell_type": "code",
   "execution_count": 40,
   "id": "7fc7a469",
   "metadata": {},
   "outputs": [],
   "source": [
    "from sklearn.model_selection import train_test_split as tts "
   ]
  },
  {
   "cell_type": "code",
   "execution_count": 41,
   "id": "937b8a85",
   "metadata": {},
   "outputs": [
    {
     "data": {
      "text/plain": [
       "((400, 6), (100, 6), (400,), (100,))"
      ]
     },
     "execution_count": 41,
     "metadata": {},
     "output_type": "execute_result"
    }
   ],
   "source": [
    "X_train, X_test, y_train, y_test = tts(X, y, train_size=0.8, test_size=0.2, random_state=22)\n",
    "\n",
    "X_train.shape, X_test.shape, y_train.shape, y_test.shape"
   ]
  },
  {
   "cell_type": "markdown",
   "id": "a5ea2b1e",
   "metadata": {},
   "source": [
    "### 3º INICIAMOS MODELO"
   ]
  },
  {
   "cell_type": "code",
   "execution_count": 42,
   "id": "30c8b8aa",
   "metadata": {},
   "outputs": [],
   "source": [
    "reg = LazyRegressor(verbose=0, ignore_warnings=False, custom_metric=None) "
   ]
  },
  {
   "cell_type": "markdown",
   "id": "b72916e4",
   "metadata": {},
   "source": [
    "### 4º ENTRENAMOS"
   ]
  },
  {
   "cell_type": "code",
   "execution_count": 43,
   "id": "3159cd62",
   "metadata": {},
   "outputs": [
    {
     "name": "stderr",
     "output_type": "stream",
     "text": [
      "100%|██████████| 42/42 [00:04<00:00, 10.24it/s]"
     ]
    },
    {
     "name": "stdout",
     "output_type": "stream",
     "text": [
      "                               Adjusted R-Squared  R-Squared        RMSE  \\\n",
      "Model                                                                      \n",
      "LGBMRegressor                                0.59       0.61    35067.10   \n",
      "HistGradientBoostingRegressor                0.59       0.61    35156.94   \n",
      "BaggingRegressor                             0.58       0.61    35279.20   \n",
      "RandomForestRegressor                        0.55       0.58    36685.56   \n",
      "GradientBoostingRegressor                    0.50       0.53    38752.70   \n",
      "PassiveAggressiveRegressor                   0.35       0.39    44202.44   \n",
      "PoissonRegressor                             0.34       0.38    44509.70   \n",
      "HuberRegressor                               0.32       0.36    45230.43   \n",
      "SGDRegressor                                 0.31       0.35    45545.42   \n",
      "BayesianRidge                                0.31       0.35    45557.57   \n",
      "RidgeCV                                      0.31       0.35    45576.86   \n",
      "Ridge                                        0.30       0.35    45619.27   \n",
      "TransformedTargetRegressor                   0.30       0.35    45626.86   \n",
      "LinearRegression                             0.30       0.35    45626.86   \n",
      "Lars                                         0.30       0.35    45626.86   \n",
      "LassoLarsIC                                  0.30       0.35    45626.86   \n",
      "Lasso                                        0.30       0.35    45627.01   \n",
      "LassoLars                                    0.30       0.35    45627.88   \n",
      "GammaRegressor                               0.30       0.34    45749.90   \n",
      "LassoLarsCV                                  0.30       0.34    45812.73   \n",
      "LarsCV                                       0.30       0.34    45812.73   \n",
      "LassoCV                                      0.30       0.34    45854.72   \n",
      "ExtraTreesRegressor                          0.29       0.34    45990.68   \n",
      "ElasticNet                                   0.29       0.33    46029.78   \n",
      "OrthogonalMatchingPursuitCV                  0.28       0.32    46380.54   \n",
      "TweedieRegressor                             0.26       0.31    46888.02   \n",
      "KNeighborsRegressor                          0.26       0.30    47083.19   \n",
      "DecisionTreeRegressor                        0.21       0.25    48734.89   \n",
      "OrthogonalMatchingPursuit                    0.11       0.17    51502.60   \n",
      "RANSACRegressor                              0.07       0.13    52601.65   \n",
      "ExtraTreeRegressor                          -0.02       0.05    55122.23   \n",
      "XGBRegressor                                -0.03       0.03    55496.47   \n",
      "ElasticNetCV                                -0.05       0.02    55905.50   \n",
      "SVR                                         -0.06       0.00    56411.15   \n",
      "NuSVR                                       -0.06      -0.00    56431.21   \n",
      "QuantileRegressor                           -0.06      -0.00    56432.66   \n",
      "DummyRegressor                              -0.09      -0.03    57158.06   \n",
      "AdaBoostRegressor                           -0.11      -0.05    57707.43   \n",
      "KernelRidge                                 -3.43      -3.16   115134.23   \n",
      "LinearSVR                                   -3.77      -3.48   119456.81   \n",
      "MLPRegressor                                -3.80      -3.50   119753.29   \n",
      "GaussianProcessRegressor                -47117.22  -44261.57 11870857.61   \n",
      "\n",
      "                               Time Taken  \n",
      "Model                                      \n",
      "LGBMRegressor                        0.07  \n",
      "HistGradientBoostingRegressor        0.32  \n",
      "BaggingRegressor                     0.03  \n",
      "RandomForestRegressor                0.25  \n",
      "GradientBoostingRegressor            0.04  \n",
      "PassiveAggressiveRegressor           0.05  \n",
      "PoissonRegressor                     0.02  \n",
      "HuberRegressor                       0.03  \n",
      "SGDRegressor                         0.02  \n",
      "BayesianRidge                        0.07  \n",
      "RidgeCV                              0.01  \n",
      "Ridge                                0.01  \n",
      "TransformedTargetRegressor           0.02  \n",
      "LinearRegression                     0.01  \n",
      "Lars                                 0.01  \n",
      "LassoLarsIC                          0.01  \n",
      "Lasso                                0.01  \n",
      "LassoLars                            0.01  \n",
      "GammaRegressor                       0.02  \n",
      "LassoLarsCV                          0.02  \n",
      "LarsCV                               0.03  \n",
      "LassoCV                              0.09  \n",
      "ExtraTreesRegressor                  0.15  \n",
      "ElasticNet                           0.01  \n",
      "OrthogonalMatchingPursuitCV          0.03  \n",
      "TweedieRegressor                     0.02  \n",
      "KNeighborsRegressor                  0.02  \n",
      "DecisionTreeRegressor                0.01  \n",
      "OrthogonalMatchingPursuit            0.01  \n",
      "RANSACRegressor                      0.09  \n",
      "ExtraTreeRegressor                   0.02  \n",
      "XGBRegressor                         0.11  \n",
      "ElasticNetCV                         0.08  \n",
      "SVR                                  0.03  \n",
      "NuSVR                                0.03  \n",
      "QuantileRegressor                    1.79  \n",
      "DummyRegressor                       0.01  \n",
      "AdaBoostRegressor                    0.06  \n",
      "KernelRidge                          0.02  \n",
      "LinearSVR                            0.01  \n",
      "MLPRegressor                         0.40  \n",
      "GaussianProcessRegressor             0.03  \n"
     ]
    },
    {
     "name": "stderr",
     "output_type": "stream",
     "text": [
      "\n"
     ]
    }
   ],
   "source": [
    "models, predictions = reg.fit(X_train, X_test, y_train, y_test)\n",
    "print(models)"
   ]
  },
  {
   "cell_type": "markdown",
   "id": "3d0cd8e9",
   "metadata": {},
   "source": [
    "### MODELO : RANDOM FOREST REGRETION"
   ]
  },
  {
   "cell_type": "code",
   "execution_count": 44,
   "id": "52613964",
   "metadata": {},
   "outputs": [],
   "source": [
    "from sklearn.ensemble import RandomForestRegressor as Rfr"
   ]
  },
  {
   "cell_type": "code",
   "execution_count": 45,
   "id": "6c778e15",
   "metadata": {},
   "outputs": [
    {
     "data": {
      "text/html": [
       "<div>\n",
       "<style scoped>\n",
       "    .dataframe tbody tr th:only-of-type {\n",
       "        vertical-align: middle;\n",
       "    }\n",
       "\n",
       "    .dataframe tbody tr th {\n",
       "        vertical-align: top;\n",
       "    }\n",
       "\n",
       "    .dataframe thead th {\n",
       "        text-align: right;\n",
       "    }\n",
       "</style>\n",
       "<table border=\"1\" class=\"dataframe\">\n",
       "  <thead>\n",
       "    <tr style=\"text-align: right;\">\n",
       "      <th></th>\n",
       "      <th>work_year</th>\n",
       "      <th>experience_level</th>\n",
       "      <th>job_title</th>\n",
       "      <th>employee_residence</th>\n",
       "      <th>company_location</th>\n",
       "      <th>company_size</th>\n",
       "    </tr>\n",
       "  </thead>\n",
       "  <tbody>\n",
       "    <tr>\n",
       "      <th>94</th>\n",
       "      <td>2022</td>\n",
       "      <td>3</td>\n",
       "      <td>17</td>\n",
       "      <td>55</td>\n",
       "      <td>48</td>\n",
       "      <td>2</td>\n",
       "    </tr>\n",
       "    <tr>\n",
       "      <th>350</th>\n",
       "      <td>2020</td>\n",
       "      <td>0</td>\n",
       "      <td>12</td>\n",
       "      <td>39</td>\n",
       "      <td>36</td>\n",
       "      <td>2</td>\n",
       "    </tr>\n",
       "    <tr>\n",
       "      <th>288</th>\n",
       "      <td>2021</td>\n",
       "      <td>1</td>\n",
       "      <td>46</td>\n",
       "      <td>55</td>\n",
       "      <td>48</td>\n",
       "      <td>0</td>\n",
       "    </tr>\n",
       "    <tr>\n",
       "      <th>420</th>\n",
       "      <td>2021</td>\n",
       "      <td>1</td>\n",
       "      <td>25</td>\n",
       "      <td>14</td>\n",
       "      <td>12</td>\n",
       "      <td>2</td>\n",
       "    </tr>\n",
       "    <tr>\n",
       "      <th>163</th>\n",
       "      <td>2020</td>\n",
       "      <td>0</td>\n",
       "      <td>19</td>\n",
       "      <td>27</td>\n",
       "      <td>25</td>\n",
       "      <td>2</td>\n",
       "    </tr>\n",
       "    <tr>\n",
       "      <th>...</th>\n",
       "      <td>...</td>\n",
       "      <td>...</td>\n",
       "      <td>...</td>\n",
       "      <td>...</td>\n",
       "      <td>...</td>\n",
       "      <td>...</td>\n",
       "    </tr>\n",
       "    <tr>\n",
       "      <th>356</th>\n",
       "      <td>2021</td>\n",
       "      <td>2</td>\n",
       "      <td>48</td>\n",
       "      <td>19</td>\n",
       "      <td>17</td>\n",
       "      <td>2</td>\n",
       "    </tr>\n",
       "    <tr>\n",
       "      <th>448</th>\n",
       "      <td>2020</td>\n",
       "      <td>2</td>\n",
       "      <td>17</td>\n",
       "      <td>20</td>\n",
       "      <td>18</td>\n",
       "      <td>2</td>\n",
       "    </tr>\n",
       "    <tr>\n",
       "      <th>300</th>\n",
       "      <td>2022</td>\n",
       "      <td>3</td>\n",
       "      <td>17</td>\n",
       "      <td>20</td>\n",
       "      <td>18</td>\n",
       "      <td>2</td>\n",
       "    </tr>\n",
       "    <tr>\n",
       "      <th>132</th>\n",
       "      <td>2021</td>\n",
       "      <td>2</td>\n",
       "      <td>22</td>\n",
       "      <td>55</td>\n",
       "      <td>48</td>\n",
       "      <td>2</td>\n",
       "    </tr>\n",
       "    <tr>\n",
       "      <th>373</th>\n",
       "      <td>2021</td>\n",
       "      <td>0</td>\n",
       "      <td>8</td>\n",
       "      <td>34</td>\n",
       "      <td>31</td>\n",
       "      <td>2</td>\n",
       "    </tr>\n",
       "  </tbody>\n",
       "</table>\n",
       "<p>400 rows × 6 columns</p>\n",
       "</div>"
      ],
      "text/plain": [
       "     work_year  experience_level  job_title  employee_residence  \\\n",
       "94        2022                 3         17                  55   \n",
       "350       2020                 0         12                  39   \n",
       "288       2021                 1         46                  55   \n",
       "420       2021                 1         25                  14   \n",
       "163       2020                 0         19                  27   \n",
       "..         ...               ...        ...                 ...   \n",
       "356       2021                 2         48                  19   \n",
       "448       2020                 2         17                  20   \n",
       "300       2022                 3         17                  20   \n",
       "132       2021                 2         22                  55   \n",
       "373       2021                 0          8                  34   \n",
       "\n",
       "     company_location  company_size  \n",
       "94                 48             2  \n",
       "350                36             2  \n",
       "288                48             0  \n",
       "420                12             2  \n",
       "163                25             2  \n",
       "..                ...           ...  \n",
       "356                17             2  \n",
       "448                18             2  \n",
       "300                18             2  \n",
       "132                48             2  \n",
       "373                31             2  \n",
       "\n",
       "[400 rows x 6 columns]"
      ]
     },
     "execution_count": 45,
     "metadata": {},
     "output_type": "execute_result"
    }
   ],
   "source": [
    "X_train"
   ]
  },
  {
   "cell_type": "code",
   "execution_count": 46,
   "id": "d8478f90",
   "metadata": {},
   "outputs": [
    {
     "data": {
      "text/plain": [
       "((400, 6), (100, 6), (400,), (100,))"
      ]
     },
     "execution_count": 46,
     "metadata": {},
     "output_type": "execute_result"
    }
   ],
   "source": [
    "X_train, X_test, y_train, y_test = tts(X, y, train_size=0.8, test_size=0.2, random_state=22)\n",
    "\n",
    "X_train.shape, X_test.shape, y_train.shape, y_test.shape"
   ]
  },
  {
   "cell_type": "markdown",
   "id": "762f6610",
   "metadata": {},
   "source": [
    "### Entrenamos"
   ]
  },
  {
   "cell_type": "code",
   "execution_count": 47,
   "id": "c5f13313",
   "metadata": {},
   "outputs": [],
   "source": [
    "rfr = Rfr()  # iniciamos modelo"
   ]
  },
  {
   "cell_type": "code",
   "execution_count": 48,
   "id": "277d5e85",
   "metadata": {},
   "outputs": [
    {
     "data": {
      "text/plain": [
       "RandomForestRegressor()"
      ]
     },
     "execution_count": 48,
     "metadata": {},
     "output_type": "execute_result"
    }
   ],
   "source": [
    "rfr.fit(X_train, y_train) # 2º ENTRENAR los valores train >>>> modelo.fit(x_train, y_train) ++++ X TRAIN +++++"
   ]
  },
  {
   "cell_type": "code",
   "execution_count": 49,
   "id": "820c61df",
   "metadata": {},
   "outputs": [],
   "source": [
    "y_pred_train=rfr.predict(X_train) # 3º CALCULAR Y PREDECIR  >>>'y_predecida' = modelo.predict(x_train)  ++++ X_Train ++++"
   ]
  },
  {
   "cell_type": "code",
   "execution_count": 50,
   "id": "e4ee7fbc",
   "metadata": {},
   "outputs": [
    {
     "data": {
      "text/plain": [
       "array([141605.27921477,  16137.82      , 327770.        , 131876.25      ,\n",
       "        14982.3175    , 130126.64285714, 132326.22333333, 113796.49572316,\n",
       "        11193.122     , 162583.63991936])"
      ]
     },
     "execution_count": 50,
     "metadata": {},
     "output_type": "execute_result"
    }
   ],
   "source": [
    "y_pred_train[:10]"
   ]
  },
  {
   "cell_type": "code",
   "execution_count": 51,
   "id": "10c05cad",
   "metadata": {},
   "outputs": [
    {
     "data": {
      "text/plain": [
       "400"
      ]
     },
     "execution_count": 51,
     "metadata": {},
     "output_type": "execute_result"
    }
   ],
   "source": [
    "len(y_pred_train)"
   ]
  },
  {
   "cell_type": "code",
   "execution_count": 52,
   "id": "36cabba6",
   "metadata": {},
   "outputs": [
    {
     "data": {
      "text/plain": [
       "[141605.27921476937,\n",
       " 16137.82,\n",
       " 327770.0,\n",
       " 131876.25,\n",
       " 14982.3175,\n",
       " 130126.64285714286,\n",
       " 132326.22333333333,\n",
       " 113796.4957231565,\n",
       " 11193.122,\n",
       " 162583.63991936098]"
      ]
     },
     "execution_count": 52,
     "metadata": {},
     "output_type": "execute_result"
    }
   ],
   "source": [
    "y_pred_train = list(y_pred_train)\n",
    "y_pred_train[:10]"
   ]
  },
  {
   "cell_type": "code",
   "execution_count": 53,
   "id": "16f305c7",
   "metadata": {},
   "outputs": [
    {
     "data": {
      "text/plain": [
       "400"
      ]
     },
     "execution_count": 53,
     "metadata": {},
     "output_type": "execute_result"
    }
   ],
   "source": [
    "len(X_train)"
   ]
  },
  {
   "cell_type": "markdown",
   "id": "e2d94923",
   "metadata": {},
   "source": [
    "### Testeamos"
   ]
  },
  {
   "cell_type": "code",
   "execution_count": 54,
   "id": "3caa3b3e",
   "metadata": {},
   "outputs": [
    {
     "data": {
      "text/plain": [
       "RandomForestRegressor()"
      ]
     },
     "execution_count": 54,
     "metadata": {},
     "output_type": "execute_result"
    }
   ],
   "source": [
    "rfr.fit(X_train, y_train)\n"
   ]
  },
  {
   "cell_type": "code",
   "execution_count": 55,
   "id": "8e7432b9",
   "metadata": {},
   "outputs": [],
   "source": [
    "y_pred_testeo=rfr.predict(X_testeo) # +++++ UTILIZAMOS LA MUESTRA DE TESTEO KAGGLE+++++++"
   ]
  },
  {
   "cell_type": "code",
   "execution_count": 56,
   "id": "a402ecc3",
   "metadata": {},
   "outputs": [
    {
     "data": {
      "text/plain": [
       "array([ 51226.0185    , 200283.90238095, 106452.16702742,  83968.        ,\n",
       "        34842.50933333,  77269.99      ,  76078.67166667,  54341.70133333,\n",
       "        41799.5       , 276268.07539683])"
      ]
     },
     "execution_count": 56,
     "metadata": {},
     "output_type": "execute_result"
    }
   ],
   "source": [
    "y_pred_testeo[:10]"
   ]
  },
  {
   "cell_type": "code",
   "execution_count": 57,
   "id": "166d5c68",
   "metadata": {},
   "outputs": [
    {
     "data": {
      "text/plain": [
       "[51226.018500000006,\n",
       " 200283.90238095238,\n",
       " 106452.16702741703,\n",
       " 83968.0,\n",
       " 34842.50933333333,\n",
       " 77269.99,\n",
       " 76078.67166666668,\n",
       " 54341.70133333333,\n",
       " 41799.5,\n",
       " 276268.0753968254]"
      ]
     },
     "execution_count": 57,
     "metadata": {},
     "output_type": "execute_result"
    }
   ],
   "source": [
    "y_pred_testeo = list(y_pred_testeo)\n",
    "y_pred_testeo[:10]"
   ]
  },
  {
   "cell_type": "code",
   "execution_count": 58,
   "id": "f431de87",
   "metadata": {},
   "outputs": [
    {
     "data": {
      "text/plain": [
       "107"
      ]
     },
     "execution_count": 58,
     "metadata": {},
     "output_type": "execute_result"
    }
   ],
   "source": [
    "len(y_pred_testeo)"
   ]
  },
  {
   "cell_type": "markdown",
   "id": "d93af34f",
   "metadata": {},
   "source": [
    "### Comparamos el valor original en una data frame el valor original, la prediccion dle train y la del test"
   ]
  },
  {
   "cell_type": "code",
   "execution_count": 59,
   "id": "f7e992c4",
   "metadata": {},
   "outputs": [
    {
     "data": {
      "text/plain": [
       "0      140250\n",
       "1      135000\n",
       "2      100000\n",
       "3      270000\n",
       "4       26005\n",
       "        ...  \n",
       "495    100000\n",
       "496      5882\n",
       "497     90700\n",
       "498     82528\n",
       "499     70000\n",
       "Name: salary_in_usd, Length: 500, dtype: int64"
      ]
     },
     "execution_count": 59,
     "metadata": {},
     "output_type": "execute_result"
    }
   ],
   "source": [
    "y"
   ]
  },
  {
   "cell_type": "code",
   "execution_count": 60,
   "id": "913aa446",
   "metadata": {},
   "outputs": [
    {
     "data": {
      "text/plain": [
       "[51226.018500000006,\n",
       " 200283.90238095238,\n",
       " 106452.16702741703,\n",
       " 83968.0,\n",
       " 34842.50933333333,\n",
       " 77269.99,\n",
       " 76078.67166666668,\n",
       " 54341.70133333333,\n",
       " 41799.5,\n",
       " 276268.0753968254]"
      ]
     },
     "execution_count": 60,
     "metadata": {},
     "output_type": "execute_result"
    }
   ],
   "source": [
    "y_pred_testeo[:10]"
   ]
  },
  {
   "cell_type": "code",
   "execution_count": 61,
   "id": "2f3fa186",
   "metadata": {},
   "outputs": [
    {
     "data": {
      "text/html": [
       "<div>\n",
       "<style scoped>\n",
       "    .dataframe tbody tr th:only-of-type {\n",
       "        vertical-align: middle;\n",
       "    }\n",
       "\n",
       "    .dataframe tbody tr th {\n",
       "        vertical-align: top;\n",
       "    }\n",
       "\n",
       "    .dataframe thead th {\n",
       "        text-align: right;\n",
       "    }\n",
       "</style>\n",
       "<table border=\"1\" class=\"dataframe\">\n",
       "  <thead>\n",
       "    <tr style=\"text-align: right;\">\n",
       "      <th></th>\n",
       "      <th>id</th>\n",
       "      <th>salary_in_usd</th>\n",
       "    </tr>\n",
       "  </thead>\n",
       "  <tbody>\n",
       "    <tr>\n",
       "      <th>0</th>\n",
       "      <td>0</td>\n",
       "      <td>70377</td>\n",
       "    </tr>\n",
       "    <tr>\n",
       "      <th>1</th>\n",
       "      <td>1</td>\n",
       "      <td>85839</td>\n",
       "    </tr>\n",
       "    <tr>\n",
       "      <th>2</th>\n",
       "      <td>2</td>\n",
       "      <td>63613</td>\n",
       "    </tr>\n",
       "    <tr>\n",
       "      <th>3</th>\n",
       "      <td>3</td>\n",
       "      <td>88561</td>\n",
       "    </tr>\n",
       "    <tr>\n",
       "      <th>4</th>\n",
       "      <td>4</td>\n",
       "      <td>37621</td>\n",
       "    </tr>\n",
       "    <tr>\n",
       "      <th>...</th>\n",
       "      <td>...</td>\n",
       "      <td>...</td>\n",
       "    </tr>\n",
       "    <tr>\n",
       "      <th>102</th>\n",
       "      <td>102</td>\n",
       "      <td>70639</td>\n",
       "    </tr>\n",
       "    <tr>\n",
       "      <th>103</th>\n",
       "      <td>103</td>\n",
       "      <td>33678</td>\n",
       "    </tr>\n",
       "    <tr>\n",
       "      <th>104</th>\n",
       "      <td>104</td>\n",
       "      <td>19021</td>\n",
       "    </tr>\n",
       "    <tr>\n",
       "      <th>105</th>\n",
       "      <td>105</td>\n",
       "      <td>21175</td>\n",
       "    </tr>\n",
       "    <tr>\n",
       "      <th>106</th>\n",
       "      <td>106</td>\n",
       "      <td>34801</td>\n",
       "    </tr>\n",
       "  </tbody>\n",
       "</table>\n",
       "<p>107 rows × 2 columns</p>\n",
       "</div>"
      ],
      "text/plain": [
       "      id  salary_in_usd\n",
       "0      0          70377\n",
       "1      1          85839\n",
       "2      2          63613\n",
       "3      3          88561\n",
       "4      4          37621\n",
       "..   ...            ...\n",
       "102  102          70639\n",
       "103  103          33678\n",
       "104  104          19021\n",
       "105  105          21175\n",
       "106  106          34801\n",
       "\n",
       "[107 rows x 2 columns]"
      ]
     },
     "execution_count": 61,
     "metadata": {},
     "output_type": "execute_result"
    }
   ],
   "source": [
    "muestra"
   ]
  },
  {
   "cell_type": "markdown",
   "id": "59b8f561",
   "metadata": {},
   "source": [
    "### añadir una columna al dataframe con un valor obtenido"
   ]
  },
  {
   "cell_type": "code",
   "execution_count": 62,
   "id": "8cae5214",
   "metadata": {},
   "outputs": [],
   "source": [
    "muestra['salary_in_usd'] = y_pred_testeo"
   ]
  },
  {
   "cell_type": "code",
   "execution_count": 63,
   "id": "a6a14473",
   "metadata": {},
   "outputs": [
    {
     "data": {
      "text/html": [
       "<div>\n",
       "<style scoped>\n",
       "    .dataframe tbody tr th:only-of-type {\n",
       "        vertical-align: middle;\n",
       "    }\n",
       "\n",
       "    .dataframe tbody tr th {\n",
       "        vertical-align: top;\n",
       "    }\n",
       "\n",
       "    .dataframe thead th {\n",
       "        text-align: right;\n",
       "    }\n",
       "</style>\n",
       "<table border=\"1\" class=\"dataframe\">\n",
       "  <thead>\n",
       "    <tr style=\"text-align: right;\">\n",
       "      <th></th>\n",
       "      <th>id</th>\n",
       "      <th>salary_in_usd</th>\n",
       "    </tr>\n",
       "  </thead>\n",
       "  <tbody>\n",
       "    <tr>\n",
       "      <th>0</th>\n",
       "      <td>0</td>\n",
       "      <td>51226.02</td>\n",
       "    </tr>\n",
       "    <tr>\n",
       "      <th>1</th>\n",
       "      <td>1</td>\n",
       "      <td>200283.90</td>\n",
       "    </tr>\n",
       "    <tr>\n",
       "      <th>2</th>\n",
       "      <td>2</td>\n",
       "      <td>106452.17</td>\n",
       "    </tr>\n",
       "    <tr>\n",
       "      <th>3</th>\n",
       "      <td>3</td>\n",
       "      <td>83968.00</td>\n",
       "    </tr>\n",
       "    <tr>\n",
       "      <th>4</th>\n",
       "      <td>4</td>\n",
       "      <td>34842.51</td>\n",
       "    </tr>\n",
       "    <tr>\n",
       "      <th>...</th>\n",
       "      <td>...</td>\n",
       "      <td>...</td>\n",
       "    </tr>\n",
       "    <tr>\n",
       "      <th>102</th>\n",
       "      <td>102</td>\n",
       "      <td>113420.44</td>\n",
       "    </tr>\n",
       "    <tr>\n",
       "      <th>103</th>\n",
       "      <td>103</td>\n",
       "      <td>202371.51</td>\n",
       "    </tr>\n",
       "    <tr>\n",
       "      <th>104</th>\n",
       "      <td>104</td>\n",
       "      <td>162088.86</td>\n",
       "    </tr>\n",
       "    <tr>\n",
       "      <th>105</th>\n",
       "      <td>105</td>\n",
       "      <td>68486.06</td>\n",
       "    </tr>\n",
       "    <tr>\n",
       "      <th>106</th>\n",
       "      <td>106</td>\n",
       "      <td>113420.44</td>\n",
       "    </tr>\n",
       "  </tbody>\n",
       "</table>\n",
       "<p>107 rows × 2 columns</p>\n",
       "</div>"
      ],
      "text/plain": [
       "      id  salary_in_usd\n",
       "0      0       51226.02\n",
       "1      1      200283.90\n",
       "2      2      106452.17\n",
       "3      3       83968.00\n",
       "4      4       34842.51\n",
       "..   ...            ...\n",
       "102  102      113420.44\n",
       "103  103      202371.51\n",
       "104  104      162088.86\n",
       "105  105       68486.06\n",
       "106  106      113420.44\n",
       "\n",
       "[107 rows x 2 columns]"
      ]
     },
     "execution_count": 63,
     "metadata": {},
     "output_type": "execute_result"
    }
   ],
   "source": [
    "muestra"
   ]
  },
  {
   "cell_type": "code",
   "execution_count": 64,
   "id": "b4a31343",
   "metadata": {},
   "outputs": [
    {
     "data": {
      "text/plain": [
       "(107, 2)"
      ]
     },
     "execution_count": 64,
     "metadata": {},
     "output_type": "execute_result"
    }
   ],
   "source": [
    " muestra.shape"
   ]
  },
  {
   "cell_type": "markdown",
   "id": "b6c0d0de",
   "metadata": {},
   "source": [
    "### MSE & RMSE"
   ]
  },
  {
   "cell_type": "code",
   "execution_count": 65,
   "id": "56bba00f",
   "metadata": {},
   "outputs": [],
   "source": [
    "from sklearn.metrics import mean_squared_error"
   ]
  },
  {
   "cell_type": "code",
   "execution_count": 66,
   "id": "f585fac8",
   "metadata": {},
   "outputs": [],
   "source": [
    "import math"
   ]
  },
  {
   "cell_type": "code",
   "execution_count": 67,
   "id": "61ac0494",
   "metadata": {},
   "outputs": [
    {
     "data": {
      "text/plain": [
       "1042415507.5867112"
      ]
     },
     "execution_count": 67,
     "metadata": {},
     "output_type": "execute_result"
    }
   ],
   "source": [
    "MSE = mean_squared_error(y_train, y_pred_train)\n",
    "MSE"
   ]
  },
  {
   "cell_type": "code",
   "execution_count": 68,
   "id": "970c2921",
   "metadata": {},
   "outputs": [
    {
     "data": {
      "text/plain": [
       "32286.46012784169"
      ]
     },
     "execution_count": 68,
     "metadata": {},
     "output_type": "execute_result"
    }
   ],
   "source": [
    "RMSE = math.sqrt(MSE)\n",
    "RMSE"
   ]
  },
  {
   "cell_type": "markdown",
   "id": "e706d830",
   "metadata": {},
   "source": [
    "### MODELO : GradientBoostingRegressor"
   ]
  },
  {
   "cell_type": "code",
   "execution_count": 69,
   "id": "44e33218",
   "metadata": {},
   "outputs": [],
   "source": [
    "from sklearn.datasets import make_regression"
   ]
  },
  {
   "cell_type": "code",
   "execution_count": 70,
   "id": "6b0d81da",
   "metadata": {},
   "outputs": [],
   "source": [
    "from sklearn.ensemble import GradientBoostingRegressor "
   ]
  },
  {
   "cell_type": "markdown",
   "id": "0e31949c",
   "metadata": {},
   "source": [
    "ENTRENAMOS"
   ]
  },
  {
   "cell_type": "code",
   "execution_count": 71,
   "id": "aa658efd",
   "metadata": {},
   "outputs": [],
   "source": [
    "boo = GradientBoostingRegressor() # INICIAMOS"
   ]
  },
  {
   "cell_type": "code",
   "execution_count": 72,
   "id": "b2d6b34b",
   "metadata": {},
   "outputs": [
    {
     "data": {
      "text/plain": [
       "GradientBoostingRegressor()"
      ]
     },
     "execution_count": 72,
     "metadata": {},
     "output_type": "execute_result"
    }
   ],
   "source": [
    "boo.fit(X_train, y_train) # ENTRENAMOS el train"
   ]
  },
  {
   "cell_type": "code",
   "execution_count": 73,
   "id": "42d40f33",
   "metadata": {},
   "outputs": [],
   "source": [
    "y_pred_train=boo.predict(X_train) # PREDECIMOS el train"
   ]
  },
  {
   "cell_type": "code",
   "execution_count": 74,
   "id": "f5812b33",
   "metadata": {},
   "outputs": [
    {
     "data": {
      "text/plain": [
       "array([150613.39515906,  11178.39768367, 399384.48283829, 140555.75088774,\n",
       "        22528.25735867, 152789.28007761, 148492.71673692, 118573.7716053 ,\n",
       "        34691.60210843, 158473.53935847])"
      ]
     },
     "execution_count": 74,
     "metadata": {},
     "output_type": "execute_result"
    }
   ],
   "source": [
    "y_pred_train[:10]"
   ]
  },
  {
   "cell_type": "code",
   "execution_count": 75,
   "id": "7e74173f",
   "metadata": {},
   "outputs": [
    {
     "data": {
      "text/plain": [
       "400"
      ]
     },
     "execution_count": 75,
     "metadata": {},
     "output_type": "execute_result"
    }
   ],
   "source": [
    "len(y_pred_train)"
   ]
  },
  {
   "cell_type": "code",
   "execution_count": 76,
   "id": "917f2989",
   "metadata": {},
   "outputs": [
    {
     "data": {
      "text/plain": [
       "400"
      ]
     },
     "execution_count": 76,
     "metadata": {},
     "output_type": "execute_result"
    }
   ],
   "source": [
    "len(X_train)"
   ]
  },
  {
   "cell_type": "markdown",
   "id": "22cf7dba",
   "metadata": {},
   "source": [
    "TESTEAMOS"
   ]
  },
  {
   "cell_type": "code",
   "execution_count": 77,
   "id": "9080e294",
   "metadata": {},
   "outputs": [
    {
     "data": {
      "text/plain": [
       "GradientBoostingRegressor()"
      ]
     },
     "execution_count": 77,
     "metadata": {},
     "output_type": "execute_result"
    }
   ],
   "source": [
    "boo.fit(X_train, y_train) "
   ]
  },
  {
   "cell_type": "code",
   "execution_count": 78,
   "id": "231d7af0",
   "metadata": {},
   "outputs": [],
   "source": [
    "y_pred_testeo=boo.predict(X_testeo) # PREDECIMOS el TESTEO"
   ]
  },
  {
   "cell_type": "code",
   "execution_count": 79,
   "id": "4322ae9a",
   "metadata": {},
   "outputs": [
    {
     "data": {
      "text/plain": [
       "array([ 97044.00713306, 174801.15352974,  99990.27818913,  86878.25987301,\n",
       "        39612.49452279, 109258.43538995, 145274.80973323,  43961.12903546,\n",
       "        51767.58990259, 192504.60389672])"
      ]
     },
     "execution_count": 79,
     "metadata": {},
     "output_type": "execute_result"
    }
   ],
   "source": [
    "y_pred_testeo[:10]"
   ]
  },
  {
   "cell_type": "code",
   "execution_count": 80,
   "id": "7370cf86",
   "metadata": {},
   "outputs": [
    {
     "data": {
      "text/plain": [
       "107"
      ]
     },
     "execution_count": 80,
     "metadata": {},
     "output_type": "execute_result"
    }
   ],
   "source": [
    "len(y_pred_testeo)"
   ]
  },
  {
   "cell_type": "markdown",
   "id": "6a7c2326",
   "metadata": {},
   "source": [
    "### DATAFRAME COMPARACION Y_TRAIN, Y_PRED_TRAIN"
   ]
  },
  {
   "cell_type": "code",
   "execution_count": 81,
   "id": "67bc4fb2",
   "metadata": {},
   "outputs": [
    {
     "data": {
      "text/plain": [
       "1297252993.293375"
      ]
     },
     "execution_count": 81,
     "metadata": {},
     "output_type": "execute_result"
    }
   ],
   "source": [
    "MSE = mean_squared_error(y_train, y_pred_train)\n",
    "MSE"
   ]
  },
  {
   "cell_type": "code",
   "execution_count": 82,
   "id": "456701ae",
   "metadata": {},
   "outputs": [
    {
     "data": {
      "text/plain": [
       "36017.39848036467"
      ]
     },
     "execution_count": 82,
     "metadata": {},
     "output_type": "execute_result"
    }
   ],
   "source": [
    "RMSE = math.sqrt(MSE)\n",
    "RMSE"
   ]
  },
  {
   "cell_type": "markdown",
   "id": "93df7b0e",
   "metadata": {},
   "source": [
    "### convertir a csv "
   ]
  },
  {
   "cell_type": "code",
   "execution_count": 83,
   "id": "b34f44f8",
   "metadata": {},
   "outputs": [],
   "source": [
    "muestra['salary_in_usd'] = y_pred_testeo"
   ]
  },
  {
   "cell_type": "code",
   "execution_count": 84,
   "id": "9d2885c6",
   "metadata": {},
   "outputs": [
    {
     "data": {
      "text/plain": [
       "(107, 2)"
      ]
     },
     "execution_count": 84,
     "metadata": {},
     "output_type": "execute_result"
    }
   ],
   "source": [
    "muestra.shape"
   ]
  },
  {
   "cell_type": "code",
   "execution_count": 85,
   "id": "5de495df",
   "metadata": {
    "scrolled": true
   },
   "outputs": [
    {
     "data": {
      "text/html": [
       "<div>\n",
       "<style scoped>\n",
       "    .dataframe tbody tr th:only-of-type {\n",
       "        vertical-align: middle;\n",
       "    }\n",
       "\n",
       "    .dataframe tbody tr th {\n",
       "        vertical-align: top;\n",
       "    }\n",
       "\n",
       "    .dataframe thead th {\n",
       "        text-align: right;\n",
       "    }\n",
       "</style>\n",
       "<table border=\"1\" class=\"dataframe\">\n",
       "  <thead>\n",
       "    <tr style=\"text-align: right;\">\n",
       "      <th></th>\n",
       "      <th>id</th>\n",
       "      <th>salary_in_usd</th>\n",
       "    </tr>\n",
       "  </thead>\n",
       "  <tbody>\n",
       "    <tr>\n",
       "      <th>0</th>\n",
       "      <td>0</td>\n",
       "      <td>97044.01</td>\n",
       "    </tr>\n",
       "    <tr>\n",
       "      <th>1</th>\n",
       "      <td>1</td>\n",
       "      <td>174801.15</td>\n",
       "    </tr>\n",
       "    <tr>\n",
       "      <th>2</th>\n",
       "      <td>2</td>\n",
       "      <td>99990.28</td>\n",
       "    </tr>\n",
       "    <tr>\n",
       "      <th>3</th>\n",
       "      <td>3</td>\n",
       "      <td>86878.26</td>\n",
       "    </tr>\n",
       "    <tr>\n",
       "      <th>4</th>\n",
       "      <td>4</td>\n",
       "      <td>39612.49</td>\n",
       "    </tr>\n",
       "    <tr>\n",
       "      <th>...</th>\n",
       "      <td>...</td>\n",
       "      <td>...</td>\n",
       "    </tr>\n",
       "    <tr>\n",
       "      <th>102</th>\n",
       "      <td>102</td>\n",
       "      <td>118573.77</td>\n",
       "    </tr>\n",
       "    <tr>\n",
       "      <th>103</th>\n",
       "      <td>103</td>\n",
       "      <td>155654.74</td>\n",
       "    </tr>\n",
       "    <tr>\n",
       "      <th>104</th>\n",
       "      <td>104</td>\n",
       "      <td>158473.54</td>\n",
       "    </tr>\n",
       "    <tr>\n",
       "      <th>105</th>\n",
       "      <td>105</td>\n",
       "      <td>61246.12</td>\n",
       "    </tr>\n",
       "    <tr>\n",
       "      <th>106</th>\n",
       "      <td>106</td>\n",
       "      <td>118573.77</td>\n",
       "    </tr>\n",
       "  </tbody>\n",
       "</table>\n",
       "<p>107 rows × 2 columns</p>\n",
       "</div>"
      ],
      "text/plain": [
       "      id  salary_in_usd\n",
       "0      0       97044.01\n",
       "1      1      174801.15\n",
       "2      2       99990.28\n",
       "3      3       86878.26\n",
       "4      4       39612.49\n",
       "..   ...            ...\n",
       "102  102      118573.77\n",
       "103  103      155654.74\n",
       "104  104      158473.54\n",
       "105  105       61246.12\n",
       "106  106      118573.77\n",
       "\n",
       "[107 rows x 2 columns]"
      ]
     },
     "execution_count": 85,
     "metadata": {},
     "output_type": "execute_result"
    }
   ],
   "source": [
    "muestra"
   ]
  },
  {
   "cell_type": "code",
   "execution_count": 86,
   "id": "533ff50e",
   "metadata": {},
   "outputs": [],
   "source": [
    "muestra.to_csv(r'C:\\Users\\pablo\\Kaggle_Competition\\csv\\muestra3.csv', sep=',', index=False)"
   ]
  },
  {
   "cell_type": "code",
   "execution_count": null,
   "id": "91107f64",
   "metadata": {},
   "outputs": [],
   "source": []
  },
  {
   "cell_type": "code",
   "execution_count": null,
   "id": "8f79841d",
   "metadata": {},
   "outputs": [],
   "source": []
  }
 ],
 "metadata": {
  "kernelspec": {
   "display_name": "Python 3 (ipykernel)",
   "language": "python",
   "name": "python3"
  },
  "language_info": {
   "codemirror_mode": {
    "name": "ipython",
    "version": 3
   },
   "file_extension": ".py",
   "mimetype": "text/x-python",
   "name": "python",
   "nbconvert_exporter": "python",
   "pygments_lexer": "ipython3",
   "version": "3.9.12"
  }
 },
 "nbformat": 4,
 "nbformat_minor": 5
}
