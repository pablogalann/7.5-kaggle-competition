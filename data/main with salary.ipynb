{
 "cells": [
  {
   "cell_type": "code",
   "execution_count": 1,
   "id": "2f1c06ac",
   "metadata": {},
   "outputs": [],
   "source": [
    "import pandas as pd\n"
   ]
  },
  {
   "cell_type": "code",
   "execution_count": 2,
   "id": "ab0b6c4f",
   "metadata": {},
   "outputs": [],
   "source": [
    "muestra = pd.read_csv(r'C:\\Users\\pablo\\Kaggle_Competition\\data\\muestra.csv',encoding='latin1')\n",
    "salary_data = pd.read_csv(r'C:\\Users\\pablo\\Kaggle_Competition\\data\\salaries_data.csv',encoding='latin1')\n",
    "testeo = pd.read_csv(r'C:\\Users\\pablo\\Kaggle_Competition\\data\\testeo.csv',encoding='latin1')"
   ]
  },
  {
   "cell_type": "code",
   "execution_count": 3,
   "id": "06570e64",
   "metadata": {},
   "outputs": [
    {
     "data": {
      "text/html": [
       "<div>\n",
       "<style scoped>\n",
       "    .dataframe tbody tr th:only-of-type {\n",
       "        vertical-align: middle;\n",
       "    }\n",
       "\n",
       "    .dataframe tbody tr th {\n",
       "        vertical-align: top;\n",
       "    }\n",
       "\n",
       "    .dataframe thead th {\n",
       "        text-align: right;\n",
       "    }\n",
       "</style>\n",
       "<table border=\"1\" class=\"dataframe\">\n",
       "  <thead>\n",
       "    <tr style=\"text-align: right;\">\n",
       "      <th></th>\n",
       "      <th>id</th>\n",
       "      <th>salary_in_usd</th>\n",
       "    </tr>\n",
       "  </thead>\n",
       "  <tbody>\n",
       "    <tr>\n",
       "      <th>0</th>\n",
       "      <td>0</td>\n",
       "      <td>70377</td>\n",
       "    </tr>\n",
       "    <tr>\n",
       "      <th>1</th>\n",
       "      <td>1</td>\n",
       "      <td>85839</td>\n",
       "    </tr>\n",
       "    <tr>\n",
       "      <th>2</th>\n",
       "      <td>2</td>\n",
       "      <td>63613</td>\n",
       "    </tr>\n",
       "    <tr>\n",
       "      <th>3</th>\n",
       "      <td>3</td>\n",
       "      <td>88561</td>\n",
       "    </tr>\n",
       "    <tr>\n",
       "      <th>4</th>\n",
       "      <td>4</td>\n",
       "      <td>37621</td>\n",
       "    </tr>\n",
       "    <tr>\n",
       "      <th>...</th>\n",
       "      <td>...</td>\n",
       "      <td>...</td>\n",
       "    </tr>\n",
       "    <tr>\n",
       "      <th>102</th>\n",
       "      <td>102</td>\n",
       "      <td>70639</td>\n",
       "    </tr>\n",
       "    <tr>\n",
       "      <th>103</th>\n",
       "      <td>103</td>\n",
       "      <td>33678</td>\n",
       "    </tr>\n",
       "    <tr>\n",
       "      <th>104</th>\n",
       "      <td>104</td>\n",
       "      <td>19021</td>\n",
       "    </tr>\n",
       "    <tr>\n",
       "      <th>105</th>\n",
       "      <td>105</td>\n",
       "      <td>21175</td>\n",
       "    </tr>\n",
       "    <tr>\n",
       "      <th>106</th>\n",
       "      <td>106</td>\n",
       "      <td>34801</td>\n",
       "    </tr>\n",
       "  </tbody>\n",
       "</table>\n",
       "<p>107 rows × 2 columns</p>\n",
       "</div>"
      ],
      "text/plain": [
       "      id  salary_in_usd\n",
       "0      0          70377\n",
       "1      1          85839\n",
       "2      2          63613\n",
       "3      3          88561\n",
       "4      4          37621\n",
       "..   ...            ...\n",
       "102  102          70639\n",
       "103  103          33678\n",
       "104  104          19021\n",
       "105  105          21175\n",
       "106  106          34801\n",
       "\n",
       "[107 rows x 2 columns]"
      ]
     },
     "execution_count": 3,
     "metadata": {},
     "output_type": "execute_result"
    }
   ],
   "source": [
    "muestra"
   ]
  },
  {
   "cell_type": "code",
   "execution_count": 4,
   "id": "8dcdd101",
   "metadata": {},
   "outputs": [],
   "source": [
    "X  = salary_data.drop('salary_in_usd',axis = 1)\n",
    "X_testeo = testeo.copy()"
   ]
  },
  {
   "cell_type": "code",
   "execution_count": 5,
   "id": "70bc5ddc",
   "metadata": {},
   "outputs": [],
   "source": [
    "concat = pd.concat([X, X_testeo], axis = 0)"
   ]
  },
  {
   "cell_type": "code",
   "execution_count": 6,
   "id": "1f154d36",
   "metadata": {},
   "outputs": [
    {
     "data": {
      "text/plain": [
       "(607, 10)"
      ]
     },
     "execution_count": 6,
     "metadata": {},
     "output_type": "execute_result"
    }
   ],
   "source": [
    "concat.shape"
   ]
  },
  {
   "cell_type": "code",
   "execution_count": 7,
   "id": "513ee4a5",
   "metadata": {},
   "outputs": [
    {
     "data": {
      "text/html": [
       "<div>\n",
       "<style scoped>\n",
       "    .dataframe tbody tr th:only-of-type {\n",
       "        vertical-align: middle;\n",
       "    }\n",
       "\n",
       "    .dataframe tbody tr th {\n",
       "        vertical-align: top;\n",
       "    }\n",
       "\n",
       "    .dataframe thead th {\n",
       "        text-align: right;\n",
       "    }\n",
       "</style>\n",
       "<table border=\"1\" class=\"dataframe\">\n",
       "  <thead>\n",
       "    <tr style=\"text-align: right;\">\n",
       "      <th></th>\n",
       "      <th>work_year</th>\n",
       "      <th>experience_level</th>\n",
       "      <th>employment_type</th>\n",
       "      <th>job_title</th>\n",
       "      <th>salary</th>\n",
       "      <th>salary_currency</th>\n",
       "      <th>employee_residence</th>\n",
       "      <th>remote_ratio</th>\n",
       "      <th>company_location</th>\n",
       "      <th>company_size</th>\n",
       "    </tr>\n",
       "  </thead>\n",
       "  <tbody>\n",
       "    <tr>\n",
       "      <th>0</th>\n",
       "      <td>2022</td>\n",
       "      <td>SE</td>\n",
       "      <td>FT</td>\n",
       "      <td>Data Engineer</td>\n",
       "      <td>140250</td>\n",
       "      <td>USD</td>\n",
       "      <td>US</td>\n",
       "      <td>100</td>\n",
       "      <td>US</td>\n",
       "      <td>M</td>\n",
       "    </tr>\n",
       "    <tr>\n",
       "      <th>1</th>\n",
       "      <td>2022</td>\n",
       "      <td>SE</td>\n",
       "      <td>FT</td>\n",
       "      <td>Data Engineer</td>\n",
       "      <td>135000</td>\n",
       "      <td>USD</td>\n",
       "      <td>US</td>\n",
       "      <td>100</td>\n",
       "      <td>US</td>\n",
       "      <td>M</td>\n",
       "    </tr>\n",
       "    <tr>\n",
       "      <th>2</th>\n",
       "      <td>2021</td>\n",
       "      <td>MI</td>\n",
       "      <td>FT</td>\n",
       "      <td>BI Data Analyst</td>\n",
       "      <td>100000</td>\n",
       "      <td>USD</td>\n",
       "      <td>US</td>\n",
       "      <td>100</td>\n",
       "      <td>US</td>\n",
       "      <td>M</td>\n",
       "    </tr>\n",
       "    <tr>\n",
       "      <th>3</th>\n",
       "      <td>2021</td>\n",
       "      <td>MI</td>\n",
       "      <td>CT</td>\n",
       "      <td>ML Engineer</td>\n",
       "      <td>270000</td>\n",
       "      <td>USD</td>\n",
       "      <td>US</td>\n",
       "      <td>100</td>\n",
       "      <td>US</td>\n",
       "      <td>L</td>\n",
       "    </tr>\n",
       "    <tr>\n",
       "      <th>4</th>\n",
       "      <td>2021</td>\n",
       "      <td>MI</td>\n",
       "      <td>FT</td>\n",
       "      <td>Data Engineer</td>\n",
       "      <td>22000</td>\n",
       "      <td>EUR</td>\n",
       "      <td>RO</td>\n",
       "      <td>0</td>\n",
       "      <td>US</td>\n",
       "      <td>L</td>\n",
       "    </tr>\n",
       "  </tbody>\n",
       "</table>\n",
       "</div>"
      ],
      "text/plain": [
       "   work_year experience_level employment_type        job_title  salary  \\\n",
       "0       2022               SE              FT    Data Engineer  140250   \n",
       "1       2022               SE              FT    Data Engineer  135000   \n",
       "2       2021               MI              FT  BI Data Analyst  100000   \n",
       "3       2021               MI              CT      ML Engineer  270000   \n",
       "4       2021               MI              FT    Data Engineer   22000   \n",
       "\n",
       "  salary_currency employee_residence  remote_ratio company_location  \\\n",
       "0             USD                 US           100               US   \n",
       "1             USD                 US           100               US   \n",
       "2             USD                 US           100               US   \n",
       "3             USD                 US           100               US   \n",
       "4             EUR                 RO             0               US   \n",
       "\n",
       "  company_size  \n",
       "0            M  \n",
       "1            M  \n",
       "2            M  \n",
       "3            L  \n",
       "4            L  "
      ]
     },
     "execution_count": 7,
     "metadata": {},
     "output_type": "execute_result"
    }
   ],
   "source": [
    "concat.head(5)"
   ]
  },
  {
   "cell_type": "code",
   "execution_count": 8,
   "id": "158c5e16",
   "metadata": {},
   "outputs": [
    {
     "data": {
      "text/plain": [
       "array(['SE', 'MI', 'EN', 'EX'], dtype=object)"
      ]
     },
     "execution_count": 8,
     "metadata": {},
     "output_type": "execute_result"
    }
   ],
   "source": [
    "concat.experience_level.unique()"
   ]
  },
  {
   "cell_type": "code",
   "execution_count": 9,
   "id": "02eb258f",
   "metadata": {},
   "outputs": [
    {
     "data": {
      "text/html": [
       "<div>\n",
       "<style scoped>\n",
       "    .dataframe tbody tr th:only-of-type {\n",
       "        vertical-align: middle;\n",
       "    }\n",
       "\n",
       "    .dataframe tbody tr th {\n",
       "        vertical-align: top;\n",
       "    }\n",
       "\n",
       "    .dataframe thead th {\n",
       "        text-align: right;\n",
       "    }\n",
       "</style>\n",
       "<table border=\"1\" class=\"dataframe\">\n",
       "  <thead>\n",
       "    <tr style=\"text-align: right;\">\n",
       "      <th></th>\n",
       "      <th>work_year</th>\n",
       "      <th>experience_level</th>\n",
       "      <th>employment_type</th>\n",
       "      <th>job_title</th>\n",
       "      <th>salary</th>\n",
       "      <th>salary_currency</th>\n",
       "      <th>employee_residence</th>\n",
       "      <th>remote_ratio</th>\n",
       "      <th>company_location</th>\n",
       "      <th>company_size</th>\n",
       "    </tr>\n",
       "  </thead>\n",
       "  <tbody>\n",
       "    <tr>\n",
       "      <th>102</th>\n",
       "      <td>2022</td>\n",
       "      <td>3</td>\n",
       "      <td>FT</td>\n",
       "      <td>Data Analyst</td>\n",
       "      <td>170000</td>\n",
       "      <td>USD</td>\n",
       "      <td>US</td>\n",
       "      <td>100</td>\n",
       "      <td>US</td>\n",
       "      <td>M</td>\n",
       "    </tr>\n",
       "    <tr>\n",
       "      <th>103</th>\n",
       "      <td>2022</td>\n",
       "      <td>3</td>\n",
       "      <td>FT</td>\n",
       "      <td>Data Architect</td>\n",
       "      <td>192564</td>\n",
       "      <td>USD</td>\n",
       "      <td>US</td>\n",
       "      <td>100</td>\n",
       "      <td>US</td>\n",
       "      <td>M</td>\n",
       "    </tr>\n",
       "    <tr>\n",
       "      <th>104</th>\n",
       "      <td>2022</td>\n",
       "      <td>3</td>\n",
       "      <td>FT</td>\n",
       "      <td>Data Scientist</td>\n",
       "      <td>230000</td>\n",
       "      <td>USD</td>\n",
       "      <td>US</td>\n",
       "      <td>100</td>\n",
       "      <td>US</td>\n",
       "      <td>M</td>\n",
       "    </tr>\n",
       "    <tr>\n",
       "      <th>105</th>\n",
       "      <td>2022</td>\n",
       "      <td>0</td>\n",
       "      <td>FT</td>\n",
       "      <td>Data Analyst</td>\n",
       "      <td>52000</td>\n",
       "      <td>USD</td>\n",
       "      <td>CA</td>\n",
       "      <td>0</td>\n",
       "      <td>CA</td>\n",
       "      <td>M</td>\n",
       "    </tr>\n",
       "    <tr>\n",
       "      <th>106</th>\n",
       "      <td>2022</td>\n",
       "      <td>3</td>\n",
       "      <td>FT</td>\n",
       "      <td>Data Analyst</td>\n",
       "      <td>129000</td>\n",
       "      <td>USD</td>\n",
       "      <td>US</td>\n",
       "      <td>0</td>\n",
       "      <td>US</td>\n",
       "      <td>M</td>\n",
       "    </tr>\n",
       "  </tbody>\n",
       "</table>\n",
       "</div>"
      ],
      "text/plain": [
       "     work_year  experience_level employment_type       job_title  salary  \\\n",
       "102       2022                 3              FT    Data Analyst  170000   \n",
       "103       2022                 3              FT  Data Architect  192564   \n",
       "104       2022                 3              FT  Data Scientist  230000   \n",
       "105       2022                 0              FT    Data Analyst   52000   \n",
       "106       2022                 3              FT    Data Analyst  129000   \n",
       "\n",
       "    salary_currency employee_residence  remote_ratio company_location  \\\n",
       "102             USD                 US           100               US   \n",
       "103             USD                 US           100               US   \n",
       "104             USD                 US           100               US   \n",
       "105             USD                 CA             0               CA   \n",
       "106             USD                 US             0               US   \n",
       "\n",
       "    company_size  \n",
       "102            M  \n",
       "103            M  \n",
       "104            M  \n",
       "105            M  \n",
       "106            M  "
      ]
     },
     "execution_count": 9,
     "metadata": {},
     "output_type": "execute_result"
    }
   ],
   "source": [
    "# label encoder\n",
    "\n",
    "from sklearn.preprocessing import LabelEncoder, OrdinalEncoder\n",
    "\n",
    "concat.experience_level=LabelEncoder().fit_transform(concat.experience_level)\n",
    "\n",
    "concat.tail(5)\n"
   ]
  },
  {
   "cell_type": "code",
   "execution_count": 10,
   "id": "51a200af",
   "metadata": {},
   "outputs": [
    {
     "data": {
      "text/plain": [
       "array(['FT', 'CT', 'FL', 'PT'], dtype=object)"
      ]
     },
     "execution_count": 10,
     "metadata": {},
     "output_type": "execute_result"
    }
   ],
   "source": [
    "salary_data.employment_type.unique()"
   ]
  },
  {
   "cell_type": "code",
   "execution_count": 11,
   "id": "97abba79",
   "metadata": {},
   "outputs": [
    {
     "data": {
      "text/html": [
       "<div>\n",
       "<style scoped>\n",
       "    .dataframe tbody tr th:only-of-type {\n",
       "        vertical-align: middle;\n",
       "    }\n",
       "\n",
       "    .dataframe tbody tr th {\n",
       "        vertical-align: top;\n",
       "    }\n",
       "\n",
       "    .dataframe thead th {\n",
       "        text-align: right;\n",
       "    }\n",
       "</style>\n",
       "<table border=\"1\" class=\"dataframe\">\n",
       "  <thead>\n",
       "    <tr style=\"text-align: right;\">\n",
       "      <th></th>\n",
       "      <th>work_year</th>\n",
       "      <th>experience_level</th>\n",
       "      <th>employment_type</th>\n",
       "      <th>job_title</th>\n",
       "      <th>salary</th>\n",
       "      <th>salary_currency</th>\n",
       "      <th>employee_residence</th>\n",
       "      <th>remote_ratio</th>\n",
       "      <th>company_location</th>\n",
       "      <th>company_size</th>\n",
       "    </tr>\n",
       "  </thead>\n",
       "  <tbody>\n",
       "    <tr>\n",
       "      <th>0</th>\n",
       "      <td>2022</td>\n",
       "      <td>3</td>\n",
       "      <td>2</td>\n",
       "      <td>Data Engineer</td>\n",
       "      <td>140250</td>\n",
       "      <td>USD</td>\n",
       "      <td>US</td>\n",
       "      <td>100</td>\n",
       "      <td>US</td>\n",
       "      <td>M</td>\n",
       "    </tr>\n",
       "    <tr>\n",
       "      <th>1</th>\n",
       "      <td>2022</td>\n",
       "      <td>3</td>\n",
       "      <td>2</td>\n",
       "      <td>Data Engineer</td>\n",
       "      <td>135000</td>\n",
       "      <td>USD</td>\n",
       "      <td>US</td>\n",
       "      <td>100</td>\n",
       "      <td>US</td>\n",
       "      <td>M</td>\n",
       "    </tr>\n",
       "    <tr>\n",
       "      <th>2</th>\n",
       "      <td>2021</td>\n",
       "      <td>2</td>\n",
       "      <td>2</td>\n",
       "      <td>BI Data Analyst</td>\n",
       "      <td>100000</td>\n",
       "      <td>USD</td>\n",
       "      <td>US</td>\n",
       "      <td>100</td>\n",
       "      <td>US</td>\n",
       "      <td>M</td>\n",
       "    </tr>\n",
       "    <tr>\n",
       "      <th>3</th>\n",
       "      <td>2021</td>\n",
       "      <td>2</td>\n",
       "      <td>0</td>\n",
       "      <td>ML Engineer</td>\n",
       "      <td>270000</td>\n",
       "      <td>USD</td>\n",
       "      <td>US</td>\n",
       "      <td>100</td>\n",
       "      <td>US</td>\n",
       "      <td>L</td>\n",
       "    </tr>\n",
       "    <tr>\n",
       "      <th>4</th>\n",
       "      <td>2021</td>\n",
       "      <td>2</td>\n",
       "      <td>2</td>\n",
       "      <td>Data Engineer</td>\n",
       "      <td>22000</td>\n",
       "      <td>EUR</td>\n",
       "      <td>RO</td>\n",
       "      <td>0</td>\n",
       "      <td>US</td>\n",
       "      <td>L</td>\n",
       "    </tr>\n",
       "  </tbody>\n",
       "</table>\n",
       "</div>"
      ],
      "text/plain": [
       "   work_year  experience_level  employment_type        job_title  salary  \\\n",
       "0       2022                 3                2    Data Engineer  140250   \n",
       "1       2022                 3                2    Data Engineer  135000   \n",
       "2       2021                 2                2  BI Data Analyst  100000   \n",
       "3       2021                 2                0      ML Engineer  270000   \n",
       "4       2021                 2                2    Data Engineer   22000   \n",
       "\n",
       "  salary_currency employee_residence  remote_ratio company_location  \\\n",
       "0             USD                 US           100               US   \n",
       "1             USD                 US           100               US   \n",
       "2             USD                 US           100               US   \n",
       "3             USD                 US           100               US   \n",
       "4             EUR                 RO             0               US   \n",
       "\n",
       "  company_size  \n",
       "0            M  \n",
       "1            M  \n",
       "2            M  \n",
       "3            L  \n",
       "4            L  "
      ]
     },
     "execution_count": 11,
     "metadata": {},
     "output_type": "execute_result"
    }
   ],
   "source": [
    "# label encoder\n",
    "\n",
    "from sklearn.preprocessing import LabelEncoder, OrdinalEncoder\n",
    "\n",
    "concat.employment_type=LabelEncoder().fit_transform(concat.employment_type)\n",
    "\n",
    "concat.head(5)"
   ]
  },
  {
   "cell_type": "code",
   "execution_count": 12,
   "id": "bb0f491c",
   "metadata": {},
   "outputs": [
    {
     "data": {
      "text/html": [
       "<div>\n",
       "<style scoped>\n",
       "    .dataframe tbody tr th:only-of-type {\n",
       "        vertical-align: middle;\n",
       "    }\n",
       "\n",
       "    .dataframe tbody tr th {\n",
       "        vertical-align: top;\n",
       "    }\n",
       "\n",
       "    .dataframe thead th {\n",
       "        text-align: right;\n",
       "    }\n",
       "</style>\n",
       "<table border=\"1\" class=\"dataframe\">\n",
       "  <thead>\n",
       "    <tr style=\"text-align: right;\">\n",
       "      <th></th>\n",
       "      <th>work_year</th>\n",
       "      <th>experience_level</th>\n",
       "      <th>employment_type</th>\n",
       "      <th>job_title</th>\n",
       "      <th>salary</th>\n",
       "      <th>salary_currency</th>\n",
       "      <th>employee_residence</th>\n",
       "      <th>remote_ratio</th>\n",
       "      <th>company_location</th>\n",
       "      <th>company_size</th>\n",
       "    </tr>\n",
       "  </thead>\n",
       "  <tbody>\n",
       "    <tr>\n",
       "      <th>0</th>\n",
       "      <td>2022</td>\n",
       "      <td>3</td>\n",
       "      <td>2</td>\n",
       "      <td>Data Engineer</td>\n",
       "      <td>140250</td>\n",
       "      <td>USD</td>\n",
       "      <td>US</td>\n",
       "      <td>100</td>\n",
       "      <td>US</td>\n",
       "      <td>2</td>\n",
       "    </tr>\n",
       "    <tr>\n",
       "      <th>1</th>\n",
       "      <td>2022</td>\n",
       "      <td>3</td>\n",
       "      <td>2</td>\n",
       "      <td>Data Engineer</td>\n",
       "      <td>135000</td>\n",
       "      <td>USD</td>\n",
       "      <td>US</td>\n",
       "      <td>100</td>\n",
       "      <td>US</td>\n",
       "      <td>2</td>\n",
       "    </tr>\n",
       "    <tr>\n",
       "      <th>2</th>\n",
       "      <td>2021</td>\n",
       "      <td>2</td>\n",
       "      <td>2</td>\n",
       "      <td>BI Data Analyst</td>\n",
       "      <td>100000</td>\n",
       "      <td>USD</td>\n",
       "      <td>US</td>\n",
       "      <td>100</td>\n",
       "      <td>US</td>\n",
       "      <td>2</td>\n",
       "    </tr>\n",
       "    <tr>\n",
       "      <th>3</th>\n",
       "      <td>2021</td>\n",
       "      <td>2</td>\n",
       "      <td>0</td>\n",
       "      <td>ML Engineer</td>\n",
       "      <td>270000</td>\n",
       "      <td>USD</td>\n",
       "      <td>US</td>\n",
       "      <td>100</td>\n",
       "      <td>US</td>\n",
       "      <td>0</td>\n",
       "    </tr>\n",
       "    <tr>\n",
       "      <th>4</th>\n",
       "      <td>2021</td>\n",
       "      <td>2</td>\n",
       "      <td>2</td>\n",
       "      <td>Data Engineer</td>\n",
       "      <td>22000</td>\n",
       "      <td>EUR</td>\n",
       "      <td>RO</td>\n",
       "      <td>0</td>\n",
       "      <td>US</td>\n",
       "      <td>2</td>\n",
       "    </tr>\n",
       "  </tbody>\n",
       "</table>\n",
       "</div>"
      ],
      "text/plain": [
       "   work_year  experience_level  employment_type        job_title  salary  \\\n",
       "0       2022                 3                2    Data Engineer  140250   \n",
       "1       2022                 3                2    Data Engineer  135000   \n",
       "2       2021                 2                2  BI Data Analyst  100000   \n",
       "3       2021                 2                0      ML Engineer  270000   \n",
       "4       2021                 2                2    Data Engineer   22000   \n",
       "\n",
       "  salary_currency employee_residence  remote_ratio company_location  \\\n",
       "0             USD                 US           100               US   \n",
       "1             USD                 US           100               US   \n",
       "2             USD                 US           100               US   \n",
       "3             USD                 US           100               US   \n",
       "4             EUR                 RO             0               US   \n",
       "\n",
       "   company_size  \n",
       "0             2  \n",
       "1             2  \n",
       "2             2  \n",
       "3             0  \n",
       "4             2  "
      ]
     },
     "execution_count": 12,
     "metadata": {},
     "output_type": "execute_result"
    }
   ],
   "source": [
    "# label encoder\n",
    "\n",
    "from sklearn.preprocessing import LabelEncoder, OrdinalEncoder\n",
    "\n",
    "concat.company_size=LabelEncoder().fit_transform(concat.employment_type)\n",
    "\n",
    "concat.head(5)"
   ]
  },
  {
   "cell_type": "code",
   "execution_count": 13,
   "id": "509ebe13",
   "metadata": {},
   "outputs": [
    {
     "data": {
      "text/html": [
       "<div>\n",
       "<style scoped>\n",
       "    .dataframe tbody tr th:only-of-type {\n",
       "        vertical-align: middle;\n",
       "    }\n",
       "\n",
       "    .dataframe tbody tr th {\n",
       "        vertical-align: top;\n",
       "    }\n",
       "\n",
       "    .dataframe thead th {\n",
       "        text-align: right;\n",
       "    }\n",
       "</style>\n",
       "<table border=\"1\" class=\"dataframe\">\n",
       "  <thead>\n",
       "    <tr style=\"text-align: right;\">\n",
       "      <th></th>\n",
       "      <th>work_year</th>\n",
       "      <th>experience_level</th>\n",
       "      <th>employment_type</th>\n",
       "      <th>job_title</th>\n",
       "      <th>salary</th>\n",
       "      <th>salary_currency</th>\n",
       "      <th>employee_residence</th>\n",
       "      <th>remote_ratio</th>\n",
       "      <th>company_location</th>\n",
       "      <th>company_size</th>\n",
       "    </tr>\n",
       "  </thead>\n",
       "  <tbody>\n",
       "    <tr>\n",
       "      <th>0</th>\n",
       "      <td>2022</td>\n",
       "      <td>3</td>\n",
       "      <td>2</td>\n",
       "      <td>Data Engineer</td>\n",
       "      <td>140250</td>\n",
       "      <td>USD</td>\n",
       "      <td>US</td>\n",
       "      <td>2</td>\n",
       "      <td>US</td>\n",
       "      <td>2</td>\n",
       "    </tr>\n",
       "    <tr>\n",
       "      <th>1</th>\n",
       "      <td>2022</td>\n",
       "      <td>3</td>\n",
       "      <td>2</td>\n",
       "      <td>Data Engineer</td>\n",
       "      <td>135000</td>\n",
       "      <td>USD</td>\n",
       "      <td>US</td>\n",
       "      <td>2</td>\n",
       "      <td>US</td>\n",
       "      <td>2</td>\n",
       "    </tr>\n",
       "    <tr>\n",
       "      <th>2</th>\n",
       "      <td>2021</td>\n",
       "      <td>2</td>\n",
       "      <td>2</td>\n",
       "      <td>BI Data Analyst</td>\n",
       "      <td>100000</td>\n",
       "      <td>USD</td>\n",
       "      <td>US</td>\n",
       "      <td>2</td>\n",
       "      <td>US</td>\n",
       "      <td>2</td>\n",
       "    </tr>\n",
       "    <tr>\n",
       "      <th>3</th>\n",
       "      <td>2021</td>\n",
       "      <td>2</td>\n",
       "      <td>0</td>\n",
       "      <td>ML Engineer</td>\n",
       "      <td>270000</td>\n",
       "      <td>USD</td>\n",
       "      <td>US</td>\n",
       "      <td>0</td>\n",
       "      <td>US</td>\n",
       "      <td>0</td>\n",
       "    </tr>\n",
       "    <tr>\n",
       "      <th>4</th>\n",
       "      <td>2021</td>\n",
       "      <td>2</td>\n",
       "      <td>2</td>\n",
       "      <td>Data Engineer</td>\n",
       "      <td>22000</td>\n",
       "      <td>EUR</td>\n",
       "      <td>RO</td>\n",
       "      <td>2</td>\n",
       "      <td>US</td>\n",
       "      <td>2</td>\n",
       "    </tr>\n",
       "  </tbody>\n",
       "</table>\n",
       "</div>"
      ],
      "text/plain": [
       "   work_year  experience_level  employment_type        job_title  salary  \\\n",
       "0       2022                 3                2    Data Engineer  140250   \n",
       "1       2022                 3                2    Data Engineer  135000   \n",
       "2       2021                 2                2  BI Data Analyst  100000   \n",
       "3       2021                 2                0      ML Engineer  270000   \n",
       "4       2021                 2                2    Data Engineer   22000   \n",
       "\n",
       "  salary_currency employee_residence  remote_ratio company_location  \\\n",
       "0             USD                 US             2               US   \n",
       "1             USD                 US             2               US   \n",
       "2             USD                 US             2               US   \n",
       "3             USD                 US             0               US   \n",
       "4             EUR                 RO             2               US   \n",
       "\n",
       "   company_size  \n",
       "0             2  \n",
       "1             2  \n",
       "2             2  \n",
       "3             0  \n",
       "4             2  "
      ]
     },
     "execution_count": 13,
     "metadata": {},
     "output_type": "execute_result"
    }
   ],
   "source": [
    "# label encoder\n",
    "\n",
    "from sklearn.preprocessing import LabelEncoder, OrdinalEncoder\n",
    "\n",
    "concat.remote_ratio=LabelEncoder().fit_transform(concat.employment_type)\n",
    "\n",
    "concat.head(5)"
   ]
  },
  {
   "cell_type": "code",
   "execution_count": 14,
   "id": "d269384e",
   "metadata": {},
   "outputs": [
    {
     "data": {
      "text/plain": [
       "2    588\n",
       "3     10\n",
       "0      5\n",
       "1      4\n",
       "Name: remote_ratio, dtype: int64"
      ]
     },
     "execution_count": 14,
     "metadata": {},
     "output_type": "execute_result"
    }
   ],
   "source": [
    "concat.remote_ratio.value_counts()"
   ]
  },
  {
   "cell_type": "code",
   "execution_count": 15,
   "id": "dd79ac1d",
   "metadata": {},
   "outputs": [
    {
     "data": {
      "text/html": [
       "<div>\n",
       "<style scoped>\n",
       "    .dataframe tbody tr th:only-of-type {\n",
       "        vertical-align: middle;\n",
       "    }\n",
       "\n",
       "    .dataframe tbody tr th {\n",
       "        vertical-align: top;\n",
       "    }\n",
       "\n",
       "    .dataframe thead th {\n",
       "        text-align: right;\n",
       "    }\n",
       "</style>\n",
       "<table border=\"1\" class=\"dataframe\">\n",
       "  <thead>\n",
       "    <tr style=\"text-align: right;\">\n",
       "      <th></th>\n",
       "      <th>work_year</th>\n",
       "      <th>experience_level</th>\n",
       "      <th>employment_type</th>\n",
       "      <th>job_title</th>\n",
       "      <th>salary</th>\n",
       "      <th>salary_currency</th>\n",
       "      <th>employee_residence</th>\n",
       "      <th>remote_ratio</th>\n",
       "      <th>company_location</th>\n",
       "      <th>company_size</th>\n",
       "    </tr>\n",
       "  </thead>\n",
       "  <tbody>\n",
       "    <tr>\n",
       "      <th>0</th>\n",
       "      <td>2022</td>\n",
       "      <td>3</td>\n",
       "      <td>2</td>\n",
       "      <td>Data Engineer</td>\n",
       "      <td>140250</td>\n",
       "      <td>USD</td>\n",
       "      <td>US</td>\n",
       "      <td>2</td>\n",
       "      <td>US</td>\n",
       "      <td>2</td>\n",
       "    </tr>\n",
       "    <tr>\n",
       "      <th>1</th>\n",
       "      <td>2022</td>\n",
       "      <td>3</td>\n",
       "      <td>2</td>\n",
       "      <td>Data Engineer</td>\n",
       "      <td>135000</td>\n",
       "      <td>USD</td>\n",
       "      <td>US</td>\n",
       "      <td>2</td>\n",
       "      <td>US</td>\n",
       "      <td>2</td>\n",
       "    </tr>\n",
       "    <tr>\n",
       "      <th>2</th>\n",
       "      <td>2021</td>\n",
       "      <td>2</td>\n",
       "      <td>2</td>\n",
       "      <td>BI Data Analyst</td>\n",
       "      <td>100000</td>\n",
       "      <td>USD</td>\n",
       "      <td>US</td>\n",
       "      <td>2</td>\n",
       "      <td>US</td>\n",
       "      <td>2</td>\n",
       "    </tr>\n",
       "    <tr>\n",
       "      <th>3</th>\n",
       "      <td>2021</td>\n",
       "      <td>2</td>\n",
       "      <td>0</td>\n",
       "      <td>ML Engineer</td>\n",
       "      <td>270000</td>\n",
       "      <td>USD</td>\n",
       "      <td>US</td>\n",
       "      <td>0</td>\n",
       "      <td>US</td>\n",
       "      <td>0</td>\n",
       "    </tr>\n",
       "    <tr>\n",
       "      <th>4</th>\n",
       "      <td>2021</td>\n",
       "      <td>2</td>\n",
       "      <td>2</td>\n",
       "      <td>Data Engineer</td>\n",
       "      <td>22000</td>\n",
       "      <td>EUR</td>\n",
       "      <td>RO</td>\n",
       "      <td>2</td>\n",
       "      <td>US</td>\n",
       "      <td>2</td>\n",
       "    </tr>\n",
       "  </tbody>\n",
       "</table>\n",
       "</div>"
      ],
      "text/plain": [
       "   work_year  experience_level  employment_type        job_title  salary  \\\n",
       "0       2022                 3                2    Data Engineer  140250   \n",
       "1       2022                 3                2    Data Engineer  135000   \n",
       "2       2021                 2                2  BI Data Analyst  100000   \n",
       "3       2021                 2                0      ML Engineer  270000   \n",
       "4       2021                 2                2    Data Engineer   22000   \n",
       "\n",
       "  salary_currency employee_residence  remote_ratio company_location  \\\n",
       "0             USD                 US             2               US   \n",
       "1             USD                 US             2               US   \n",
       "2             USD                 US             2               US   \n",
       "3             USD                 US             0               US   \n",
       "4             EUR                 RO             2               US   \n",
       "\n",
       "   company_size  \n",
       "0             2  \n",
       "1             2  \n",
       "2             2  \n",
       "3             0  \n",
       "4             2  "
      ]
     },
     "execution_count": 15,
     "metadata": {},
     "output_type": "execute_result"
    }
   ],
   "source": [
    "# label encoder\n",
    "\n",
    "from sklearn.preprocessing import LabelEncoder, OrdinalEncoder\n",
    "\n",
    "concat.remote_ratio=LabelEncoder().fit_transform(concat.employment_type)\n",
    "\n",
    "concat.head(5)"
   ]
  },
  {
   "cell_type": "code",
   "execution_count": 16,
   "id": "49a2f511",
   "metadata": {},
   "outputs": [],
   "source": [
    "from sklearn.preprocessing import LabelEncoder, OrdinalEncoder"
   ]
  },
  {
   "cell_type": "code",
   "execution_count": 17,
   "id": "20d96e0c",
   "metadata": {},
   "outputs": [
    {
     "data": {
      "text/html": [
       "<div>\n",
       "<style scoped>\n",
       "    .dataframe tbody tr th:only-of-type {\n",
       "        vertical-align: middle;\n",
       "    }\n",
       "\n",
       "    .dataframe tbody tr th {\n",
       "        vertical-align: top;\n",
       "    }\n",
       "\n",
       "    .dataframe thead th {\n",
       "        text-align: right;\n",
       "    }\n",
       "</style>\n",
       "<table border=\"1\" class=\"dataframe\">\n",
       "  <thead>\n",
       "    <tr style=\"text-align: right;\">\n",
       "      <th></th>\n",
       "      <th>work_year</th>\n",
       "      <th>experience_level</th>\n",
       "      <th>employment_type</th>\n",
       "      <th>job_title</th>\n",
       "      <th>salary</th>\n",
       "      <th>salary_currency</th>\n",
       "      <th>employee_residence</th>\n",
       "      <th>remote_ratio</th>\n",
       "      <th>company_location</th>\n",
       "      <th>company_size</th>\n",
       "    </tr>\n",
       "  </thead>\n",
       "  <tbody>\n",
       "    <tr>\n",
       "      <th>0</th>\n",
       "      <td>2022</td>\n",
       "      <td>3</td>\n",
       "      <td>2</td>\n",
       "      <td>17</td>\n",
       "      <td>140250</td>\n",
       "      <td>16</td>\n",
       "      <td>55</td>\n",
       "      <td>2</td>\n",
       "      <td>48</td>\n",
       "      <td>2</td>\n",
       "    </tr>\n",
       "    <tr>\n",
       "      <th>1</th>\n",
       "      <td>2022</td>\n",
       "      <td>3</td>\n",
       "      <td>2</td>\n",
       "      <td>17</td>\n",
       "      <td>135000</td>\n",
       "      <td>16</td>\n",
       "      <td>55</td>\n",
       "      <td>2</td>\n",
       "      <td>48</td>\n",
       "      <td>2</td>\n",
       "    </tr>\n",
       "    <tr>\n",
       "      <th>2</th>\n",
       "      <td>2021</td>\n",
       "      <td>2</td>\n",
       "      <td>2</td>\n",
       "      <td>5</td>\n",
       "      <td>100000</td>\n",
       "      <td>16</td>\n",
       "      <td>55</td>\n",
       "      <td>2</td>\n",
       "      <td>48</td>\n",
       "      <td>2</td>\n",
       "    </tr>\n",
       "    <tr>\n",
       "      <th>3</th>\n",
       "      <td>2021</td>\n",
       "      <td>2</td>\n",
       "      <td>0</td>\n",
       "      <td>36</td>\n",
       "      <td>270000</td>\n",
       "      <td>16</td>\n",
       "      <td>55</td>\n",
       "      <td>0</td>\n",
       "      <td>48</td>\n",
       "      <td>0</td>\n",
       "    </tr>\n",
       "    <tr>\n",
       "      <th>4</th>\n",
       "      <td>2021</td>\n",
       "      <td>2</td>\n",
       "      <td>2</td>\n",
       "      <td>17</td>\n",
       "      <td>22000</td>\n",
       "      <td>7</td>\n",
       "      <td>47</td>\n",
       "      <td>2</td>\n",
       "      <td>48</td>\n",
       "      <td>2</td>\n",
       "    </tr>\n",
       "  </tbody>\n",
       "</table>\n",
       "</div>"
      ],
      "text/plain": [
       "   work_year  experience_level  employment_type  job_title  salary  \\\n",
       "0       2022                 3                2         17  140250   \n",
       "1       2022                 3                2         17  135000   \n",
       "2       2021                 2                2          5  100000   \n",
       "3       2021                 2                0         36  270000   \n",
       "4       2021                 2                2         17   22000   \n",
       "\n",
       "   salary_currency  employee_residence  remote_ratio  company_location  \\\n",
       "0               16                  55             2                48   \n",
       "1               16                  55             2                48   \n",
       "2               16                  55             2                48   \n",
       "3               16                  55             0                48   \n",
       "4                7                  47             2                48   \n",
       "\n",
       "   company_size  \n",
       "0             2  \n",
       "1             2  \n",
       "2             2  \n",
       "3             0  \n",
       "4             2  "
      ]
     },
     "execution_count": 17,
     "metadata": {},
     "output_type": "execute_result"
    }
   ],
   "source": [
    "cols_label = ['job_title','salary_currency', 'employee_residence','company_location']\n",
    "\n",
    "for i in cols_label:\n",
    "    concat[i]=LabelEncoder().fit_transform(concat[i])\n",
    "    \n",
    "concat.head()"
   ]
  },
  {
   "cell_type": "code",
   "execution_count": 18,
   "id": "473d800d",
   "metadata": {},
   "outputs": [
    {
     "name": "stdout",
     "output_type": "stream",
     "text": [
      "<class 'pandas.core.frame.DataFrame'>\n",
      "Int64Index: 607 entries, 0 to 106\n",
      "Data columns (total 10 columns):\n",
      " #   Column              Non-Null Count  Dtype\n",
      "---  ------              --------------  -----\n",
      " 0   work_year           607 non-null    int64\n",
      " 1   experience_level    607 non-null    int32\n",
      " 2   employment_type     607 non-null    int32\n",
      " 3   job_title           607 non-null    int32\n",
      " 4   salary              607 non-null    int64\n",
      " 5   salary_currency     607 non-null    int32\n",
      " 6   employee_residence  607 non-null    int32\n",
      " 7   remote_ratio        607 non-null    int64\n",
      " 8   company_location    607 non-null    int32\n",
      " 9   company_size        607 non-null    int64\n",
      "dtypes: int32(6), int64(4)\n",
      "memory usage: 37.9 KB\n"
     ]
    }
   ],
   "source": [
    "concat.info()"
   ]
  },
  {
   "cell_type": "code",
   "execution_count": 19,
   "id": "2590de8c",
   "metadata": {
    "scrolled": true
   },
   "outputs": [
    {
     "name": "stdout",
     "output_type": "stream",
     "text": [
      "Requirement already satisfied: lazypredict in c:\\users\\pablo\\anaconda3\\lib\\site-packages (0.2.12)\n",
      "Requirement already satisfied: click in c:\\users\\pablo\\anaconda3\\lib\\site-packages (from lazypredict) (8.0.4)\n",
      "Requirement already satisfied: scikit-learn in c:\\users\\pablo\\anaconda3\\lib\\site-packages (from lazypredict) (1.0.2)\n",
      "Requirement already satisfied: pandas in c:\\users\\pablo\\anaconda3\\lib\\site-packages (from lazypredict) (1.4.2)\n",
      "Requirement already satisfied: xgboost in c:\\users\\pablo\\anaconda3\\lib\\site-packages (from lazypredict) (1.7.1)\n",
      "Requirement already satisfied: lightgbm in c:\\users\\pablo\\anaconda3\\lib\\site-packages (from lazypredict) (3.3.3)\n",
      "Requirement already satisfied: joblib in c:\\users\\pablo\\anaconda3\\lib\\site-packages (from lazypredict) (1.1.0)\n",
      "Requirement already satisfied: tqdm in c:\\users\\pablo\\anaconda3\\lib\\site-packages (from lazypredict) (4.64.0)\n",
      "Requirement already satisfied: colorama in c:\\users\\pablo\\anaconda3\\lib\\site-packages (from click->lazypredict) (0.4.4)\n",
      "Requirement already satisfied: wheel in c:\\users\\pablo\\anaconda3\\lib\\site-packages (from lightgbm->lazypredict) (0.37.1)\n",
      "Requirement already satisfied: numpy in c:\\users\\pablo\\anaconda3\\lib\\site-packages (from lightgbm->lazypredict) (1.21.5)\n",
      "Requirement already satisfied: scipy in c:\\users\\pablo\\anaconda3\\lib\\site-packages (from lightgbm->lazypredict) (1.7.3)\n",
      "Requirement already satisfied: threadpoolctl>=2.0.0 in c:\\users\\pablo\\anaconda3\\lib\\site-packages (from scikit-learn->lazypredict) (2.2.0)\n",
      "Requirement already satisfied: python-dateutil>=2.8.1 in c:\\users\\pablo\\anaconda3\\lib\\site-packages (from pandas->lazypredict) (2.8.2)\n",
      "Requirement already satisfied: pytz>=2020.1 in c:\\users\\pablo\\anaconda3\\lib\\site-packages (from pandas->lazypredict) (2021.3)\n",
      "Requirement already satisfied: six>=1.5 in c:\\users\\pablo\\anaconda3\\lib\\site-packages (from python-dateutil>=2.8.1->pandas->lazypredict) (1.16.0)\n",
      "Note: you may need to restart the kernel to use updated packages.\n"
     ]
    }
   ],
   "source": [
    "%pip install lazypredict"
   ]
  },
  {
   "cell_type": "code",
   "execution_count": 20,
   "id": "0914d801",
   "metadata": {},
   "outputs": [],
   "source": [
    "from lazypredict.Supervised import LazyRegressor\n",
    "\n",
    "from sklearn import datasets\n",
    "\n",
    "from sklearn.utils import shuffle\n",
    "\n",
    "import numpy as np"
   ]
  },
  {
   "cell_type": "code",
   "execution_count": 21,
   "id": "01d5cfc4",
   "metadata": {},
   "outputs": [],
   "source": [
    "X_testeo = concat[-107:] # previamente hemos dropeado la columna objetivo salary_in_usd, antes de concat TESTEO\n",
    "X = concat[:-107] # viene del archivo testeo donde no existe la columna salary_in_usd, antes de concat TRAIN"
   ]
  },
  {
   "cell_type": "code",
   "execution_count": 22,
   "id": "321eba4c",
   "metadata": {},
   "outputs": [
    {
     "data": {
      "text/plain": [
       "500"
      ]
     },
     "execution_count": 22,
     "metadata": {},
     "output_type": "execute_result"
    }
   ],
   "source": [
    "len(X)"
   ]
  },
  {
   "cell_type": "code",
   "execution_count": 23,
   "id": "7de0562c",
   "metadata": {},
   "outputs": [
    {
     "data": {
      "text/plain": [
       "107"
      ]
     },
     "execution_count": 23,
     "metadata": {},
     "output_type": "execute_result"
    }
   ],
   "source": [
    "len(X_testeo)"
   ]
  },
  {
   "cell_type": "markdown",
   "id": "4add69c5",
   "metadata": {},
   "source": [
    "### 1º DETERMINAMOS X y Y"
   ]
  },
  {
   "cell_type": "code",
   "execution_count": 24,
   "id": "9409293a",
   "metadata": {},
   "outputs": [],
   "source": [
    "y = salary_data.salary_in_usd"
   ]
  },
  {
   "cell_type": "code",
   "execution_count": 25,
   "id": "d23922ed",
   "metadata": {},
   "outputs": [
    {
     "data": {
      "text/html": [
       "<div>\n",
       "<style scoped>\n",
       "    .dataframe tbody tr th:only-of-type {\n",
       "        vertical-align: middle;\n",
       "    }\n",
       "\n",
       "    .dataframe tbody tr th {\n",
       "        vertical-align: top;\n",
       "    }\n",
       "\n",
       "    .dataframe thead th {\n",
       "        text-align: right;\n",
       "    }\n",
       "</style>\n",
       "<table border=\"1\" class=\"dataframe\">\n",
       "  <thead>\n",
       "    <tr style=\"text-align: right;\">\n",
       "      <th></th>\n",
       "      <th>work_year</th>\n",
       "      <th>experience_level</th>\n",
       "      <th>employment_type</th>\n",
       "      <th>job_title</th>\n",
       "      <th>salary</th>\n",
       "      <th>salary_currency</th>\n",
       "      <th>employee_residence</th>\n",
       "      <th>remote_ratio</th>\n",
       "      <th>company_location</th>\n",
       "      <th>company_size</th>\n",
       "    </tr>\n",
       "  </thead>\n",
       "  <tbody>\n",
       "    <tr>\n",
       "      <th>0</th>\n",
       "      <td>2022</td>\n",
       "      <td>3</td>\n",
       "      <td>2</td>\n",
       "      <td>17</td>\n",
       "      <td>140250</td>\n",
       "      <td>16</td>\n",
       "      <td>55</td>\n",
       "      <td>2</td>\n",
       "      <td>48</td>\n",
       "      <td>2</td>\n",
       "    </tr>\n",
       "    <tr>\n",
       "      <th>1</th>\n",
       "      <td>2022</td>\n",
       "      <td>3</td>\n",
       "      <td>2</td>\n",
       "      <td>17</td>\n",
       "      <td>135000</td>\n",
       "      <td>16</td>\n",
       "      <td>55</td>\n",
       "      <td>2</td>\n",
       "      <td>48</td>\n",
       "      <td>2</td>\n",
       "    </tr>\n",
       "    <tr>\n",
       "      <th>2</th>\n",
       "      <td>2021</td>\n",
       "      <td>2</td>\n",
       "      <td>2</td>\n",
       "      <td>5</td>\n",
       "      <td>100000</td>\n",
       "      <td>16</td>\n",
       "      <td>55</td>\n",
       "      <td>2</td>\n",
       "      <td>48</td>\n",
       "      <td>2</td>\n",
       "    </tr>\n",
       "    <tr>\n",
       "      <th>3</th>\n",
       "      <td>2021</td>\n",
       "      <td>2</td>\n",
       "      <td>0</td>\n",
       "      <td>36</td>\n",
       "      <td>270000</td>\n",
       "      <td>16</td>\n",
       "      <td>55</td>\n",
       "      <td>0</td>\n",
       "      <td>48</td>\n",
       "      <td>0</td>\n",
       "    </tr>\n",
       "    <tr>\n",
       "      <th>4</th>\n",
       "      <td>2021</td>\n",
       "      <td>2</td>\n",
       "      <td>2</td>\n",
       "      <td>17</td>\n",
       "      <td>22000</td>\n",
       "      <td>7</td>\n",
       "      <td>47</td>\n",
       "      <td>2</td>\n",
       "      <td>48</td>\n",
       "      <td>2</td>\n",
       "    </tr>\n",
       "    <tr>\n",
       "      <th>...</th>\n",
       "      <td>...</td>\n",
       "      <td>...</td>\n",
       "      <td>...</td>\n",
       "      <td>...</td>\n",
       "      <td>...</td>\n",
       "      <td>...</td>\n",
       "      <td>...</td>\n",
       "      <td>...</td>\n",
       "      <td>...</td>\n",
       "      <td>...</td>\n",
       "    </tr>\n",
       "    <tr>\n",
       "      <th>495</th>\n",
       "      <td>2022</td>\n",
       "      <td>3</td>\n",
       "      <td>2</td>\n",
       "      <td>17</td>\n",
       "      <td>100000</td>\n",
       "      <td>16</td>\n",
       "      <td>55</td>\n",
       "      <td>2</td>\n",
       "      <td>48</td>\n",
       "      <td>2</td>\n",
       "    </tr>\n",
       "    <tr>\n",
       "      <th>496</th>\n",
       "      <td>2021</td>\n",
       "      <td>0</td>\n",
       "      <td>2</td>\n",
       "      <td>7</td>\n",
       "      <td>435000</td>\n",
       "      <td>10</td>\n",
       "      <td>27</td>\n",
       "      <td>2</td>\n",
       "      <td>7</td>\n",
       "      <td>2</td>\n",
       "    </tr>\n",
       "    <tr>\n",
       "      <th>497</th>\n",
       "      <td>2022</td>\n",
       "      <td>3</td>\n",
       "      <td>2</td>\n",
       "      <td>16</td>\n",
       "      <td>90700</td>\n",
       "      <td>16</td>\n",
       "      <td>8</td>\n",
       "      <td>2</td>\n",
       "      <td>6</td>\n",
       "      <td>2</td>\n",
       "    </tr>\n",
       "    <tr>\n",
       "      <th>498</th>\n",
       "      <td>2021</td>\n",
       "      <td>2</td>\n",
       "      <td>2</td>\n",
       "      <td>17</td>\n",
       "      <td>60000</td>\n",
       "      <td>8</td>\n",
       "      <td>20</td>\n",
       "      <td>2</td>\n",
       "      <td>18</td>\n",
       "      <td>2</td>\n",
       "    </tr>\n",
       "    <tr>\n",
       "      <th>499</th>\n",
       "      <td>2021</td>\n",
       "      <td>0</td>\n",
       "      <td>2</td>\n",
       "      <td>11</td>\n",
       "      <td>70000</td>\n",
       "      <td>16</td>\n",
       "      <td>55</td>\n",
       "      <td>2</td>\n",
       "      <td>48</td>\n",
       "      <td>2</td>\n",
       "    </tr>\n",
       "  </tbody>\n",
       "</table>\n",
       "<p>500 rows × 10 columns</p>\n",
       "</div>"
      ],
      "text/plain": [
       "     work_year  experience_level  employment_type  job_title  salary  \\\n",
       "0         2022                 3                2         17  140250   \n",
       "1         2022                 3                2         17  135000   \n",
       "2         2021                 2                2          5  100000   \n",
       "3         2021                 2                0         36  270000   \n",
       "4         2021                 2                2         17   22000   \n",
       "..         ...               ...              ...        ...     ...   \n",
       "495       2022                 3                2         17  100000   \n",
       "496       2021                 0                2          7  435000   \n",
       "497       2022                 3                2         16   90700   \n",
       "498       2021                 2                2         17   60000   \n",
       "499       2021                 0                2         11   70000   \n",
       "\n",
       "     salary_currency  employee_residence  remote_ratio  company_location  \\\n",
       "0                 16                  55             2                48   \n",
       "1                 16                  55             2                48   \n",
       "2                 16                  55             2                48   \n",
       "3                 16                  55             0                48   \n",
       "4                  7                  47             2                48   \n",
       "..               ...                 ...           ...               ...   \n",
       "495               16                  55             2                48   \n",
       "496               10                  27             2                 7   \n",
       "497               16                   8             2                 6   \n",
       "498                8                  20             2                18   \n",
       "499               16                  55             2                48   \n",
       "\n",
       "     company_size  \n",
       "0               2  \n",
       "1               2  \n",
       "2               2  \n",
       "3               0  \n",
       "4               2  \n",
       "..            ...  \n",
       "495             2  \n",
       "496             2  \n",
       "497             2  \n",
       "498             2  \n",
       "499             2  \n",
       "\n",
       "[500 rows x 10 columns]"
      ]
     },
     "execution_count": 25,
     "metadata": {},
     "output_type": "execute_result"
    }
   ],
   "source": [
    "X # salary_data"
   ]
  },
  {
   "cell_type": "markdown",
   "id": "74f29415",
   "metadata": {},
   "source": [
    "### 2º SPLITEAMOS X y Y TRAIN, TEST"
   ]
  },
  {
   "cell_type": "code",
   "execution_count": 26,
   "id": "7fc7a469",
   "metadata": {},
   "outputs": [],
   "source": [
    "from sklearn.model_selection import train_test_split as tts "
   ]
  },
  {
   "cell_type": "code",
   "execution_count": 27,
   "id": "937b8a85",
   "metadata": {},
   "outputs": [
    {
     "data": {
      "text/plain": [
       "((400, 10), (100, 10), (400,), (100,))"
      ]
     },
     "execution_count": 27,
     "metadata": {},
     "output_type": "execute_result"
    }
   ],
   "source": [
    "X_train, X_test, y_train, y_test = tts(X, y, train_size=0.8, test_size=0.2, random_state=22)\n",
    "\n",
    "X_train.shape, X_test.shape, y_train.shape, y_test.shape"
   ]
  },
  {
   "cell_type": "markdown",
   "id": "a5ea2b1e",
   "metadata": {},
   "source": [
    "### 3º INICIAMOS MODELO"
   ]
  },
  {
   "cell_type": "code",
   "execution_count": 28,
   "id": "30c8b8aa",
   "metadata": {},
   "outputs": [],
   "source": [
    "reg = LazyRegressor(verbose=0, ignore_warnings=False, custom_metric=None) "
   ]
  },
  {
   "cell_type": "markdown",
   "id": "b72916e4",
   "metadata": {},
   "source": [
    "### 4º ENTRENAMOS"
   ]
  },
  {
   "cell_type": "code",
   "execution_count": 29,
   "id": "3159cd62",
   "metadata": {},
   "outputs": [
    {
     "name": "stderr",
     "output_type": "stream",
     "text": [
      "100%|██████████| 42/42 [00:09<00:00,  4.60it/s]"
     ]
    },
    {
     "name": "stdout",
     "output_type": "stream",
     "text": [
      "                               Adjusted R-Squared  R-Squared      RMSE  \\\n",
      "Model                                                                    \n",
      "GradientBoostingRegressor                    0.95       0.96  11610.13   \n",
      "RandomForestRegressor                        0.95       0.95  12046.43   \n",
      "BaggingRegressor                             0.95       0.95  12217.32   \n",
      "XGBRegressor                                 0.94       0.95  12581.35   \n",
      "HistGradientBoostingRegressor                0.94       0.95  12602.94   \n",
      "LGBMRegressor                                0.94       0.95  12947.56   \n",
      "DecisionTreeRegressor                        0.93       0.94  14306.18   \n",
      "ExtraTreesRegressor                          0.93       0.94  14364.63   \n",
      "AdaBoostRegressor                            0.91       0.92  15729.52   \n",
      "ExtraTreeRegressor                           0.76       0.79  26013.52   \n",
      "KNeighborsRegressor                          0.55       0.60  35777.36   \n",
      "PoissonRegressor                             0.33       0.40  43642.90   \n",
      "PassiveAggressiveRegressor                   0.33       0.40  43832.46   \n",
      "GaussianProcessRegressor                     0.33       0.39  43923.47   \n",
      "GammaRegressor                               0.30       0.37  44660.36   \n",
      "HuberRegressor                               0.30       0.37  44810.46   \n",
      "BayesianRidge                                0.29       0.36  45010.09   \n",
      "RidgeCV                                      0.29       0.36  45069.12   \n",
      "SGDRegressor                                 0.29       0.36  45156.62   \n",
      "Ridge                                        0.29       0.36  45175.57   \n",
      "Lasso                                        0.29       0.36  45194.12   \n",
      "TransformedTargetRegressor                   0.29       0.36  45194.54   \n",
      "LinearRegression                             0.29       0.36  45194.54   \n",
      "Lars                                         0.28       0.36  45263.98   \n",
      "LassoLars                                    0.28       0.36  45265.96   \n",
      "LassoLarsIC                                  0.28       0.36  45289.02   \n",
      "LassoCV                                      0.28       0.36  45312.90   \n",
      "LassoLarsCV                                  0.28       0.35  45358.85   \n",
      "LarsCV                                       0.28       0.35  45358.85   \n",
      "ElasticNet                                   0.28       0.35  45459.75   \n",
      "TweedieRegressor                             0.25       0.33  46178.92   \n",
      "OrthogonalMatchingPursuitCV                  0.25       0.32  46380.54   \n",
      "OrthogonalMatchingPursuit                    0.07       0.17  51502.60   \n",
      "ElasticNetCV                                -0.07       0.04  55422.00   \n",
      "SVR                                         -0.11       0.00  56409.11   \n",
      "NuSVR                                       -0.11      -0.00  56429.92   \n",
      "QuantileRegressor                           -0.11      -0.00  56432.66   \n",
      "DummyRegressor                              -0.14      -0.03  57158.06   \n",
      "KernelRidge                                 -3.52      -3.06 113739.25   \n",
      "LinearSVR                                   -3.99      -3.48 119456.81   \n",
      "MLPRegressor                                -4.01      -3.50 119732.05   \n",
      "RANSACRegressor                            -13.73     -12.24 205342.73   \n",
      "\n",
      "                               Time Taken  \n",
      "Model                                      \n",
      "GradientBoostingRegressor            0.07  \n",
      "RandomForestRegressor                0.24  \n",
      "BaggingRegressor                     0.07  \n",
      "XGBRegressor                         0.60  \n",
      "HistGradientBoostingRegressor        0.67  \n",
      "LGBMRegressor                        0.16  \n",
      "DecisionTreeRegressor                0.01  \n",
      "ExtraTreesRegressor                  0.15  \n",
      "AdaBoostRegressor                    0.49  \n",
      "ExtraTreeRegressor                   0.01  \n",
      "KNeighborsRegressor                  0.11  \n",
      "PoissonRegressor                     0.06  \n",
      "PassiveAggressiveRegressor           0.11  \n",
      "GaussianProcessRegressor             0.36  \n",
      "GammaRegressor                       0.18  \n",
      "HuberRegressor                       0.03  \n",
      "BayesianRidge                        2.09  \n",
      "RidgeCV                              0.02  \n",
      "SGDRegressor                         0.01  \n",
      "Ridge                                0.01  \n",
      "Lasso                                0.02  \n",
      "TransformedTargetRegressor           0.01  \n",
      "LinearRegression                     0.01  \n",
      "Lars                                 0.05  \n",
      "LassoLars                            0.01  \n",
      "LassoLarsIC                          0.17  \n",
      "LassoCV                              0.09  \n",
      "LassoLarsCV                          0.02  \n",
      "LarsCV                               0.07  \n",
      "ElasticNet                           0.07  \n",
      "TweedieRegressor                     0.01  \n",
      "OrthogonalMatchingPursuitCV          0.03  \n",
      "OrthogonalMatchingPursuit            0.01  \n",
      "ElasticNetCV                         0.45  \n",
      "SVR                                  0.03  \n",
      "NuSVR                                0.06  \n",
      "QuantileRegressor                    1.45  \n",
      "DummyRegressor                       0.01  \n",
      "KernelRidge                          0.17  \n",
      "LinearSVR                            0.05  \n",
      "MLPRegressor                         0.42  \n",
      "RANSACRegressor                      0.39  \n"
     ]
    },
    {
     "name": "stderr",
     "output_type": "stream",
     "text": [
      "\n"
     ]
    }
   ],
   "source": [
    "models, predictions = reg.fit(X_train, X_test, y_train, y_test)\n",
    "print(models)"
   ]
  },
  {
   "cell_type": "markdown",
   "id": "3d0cd8e9",
   "metadata": {},
   "source": [
    "### MODELO : RANDOM FOREST REGRETION"
   ]
  },
  {
   "cell_type": "code",
   "execution_count": 30,
   "id": "52613964",
   "metadata": {},
   "outputs": [],
   "source": [
    "from sklearn.ensemble import RandomForestRegressor as Rfr"
   ]
  },
  {
   "cell_type": "code",
   "execution_count": 31,
   "id": "6c778e15",
   "metadata": {},
   "outputs": [
    {
     "data": {
      "text/html": [
       "<div>\n",
       "<style scoped>\n",
       "    .dataframe tbody tr th:only-of-type {\n",
       "        vertical-align: middle;\n",
       "    }\n",
       "\n",
       "    .dataframe tbody tr th {\n",
       "        vertical-align: top;\n",
       "    }\n",
       "\n",
       "    .dataframe thead th {\n",
       "        text-align: right;\n",
       "    }\n",
       "</style>\n",
       "<table border=\"1\" class=\"dataframe\">\n",
       "  <thead>\n",
       "    <tr style=\"text-align: right;\">\n",
       "      <th></th>\n",
       "      <th>work_year</th>\n",
       "      <th>experience_level</th>\n",
       "      <th>employment_type</th>\n",
       "      <th>job_title</th>\n",
       "      <th>salary</th>\n",
       "      <th>salary_currency</th>\n",
       "      <th>employee_residence</th>\n",
       "      <th>remote_ratio</th>\n",
       "      <th>company_location</th>\n",
       "      <th>company_size</th>\n",
       "    </tr>\n",
       "  </thead>\n",
       "  <tbody>\n",
       "    <tr>\n",
       "      <th>94</th>\n",
       "      <td>2022</td>\n",
       "      <td>3</td>\n",
       "      <td>2</td>\n",
       "      <td>17</td>\n",
       "      <td>181940</td>\n",
       "      <td>16</td>\n",
       "      <td>55</td>\n",
       "      <td>2</td>\n",
       "      <td>48</td>\n",
       "      <td>2</td>\n",
       "    </tr>\n",
       "    <tr>\n",
       "      <th>350</th>\n",
       "      <td>2020</td>\n",
       "      <td>0</td>\n",
       "      <td>2</td>\n",
       "      <td>12</td>\n",
       "      <td>10000</td>\n",
       "      <td>16</td>\n",
       "      <td>39</td>\n",
       "      <td>2</td>\n",
       "      <td>36</td>\n",
       "      <td>2</td>\n",
       "    </tr>\n",
       "    <tr>\n",
       "      <th>288</th>\n",
       "      <td>2021</td>\n",
       "      <td>1</td>\n",
       "      <td>0</td>\n",
       "      <td>46</td>\n",
       "      <td>416000</td>\n",
       "      <td>16</td>\n",
       "      <td>55</td>\n",
       "      <td>0</td>\n",
       "      <td>48</td>\n",
       "      <td>0</td>\n",
       "    </tr>\n",
       "    <tr>\n",
       "      <th>420</th>\n",
       "      <td>2021</td>\n",
       "      <td>1</td>\n",
       "      <td>2</td>\n",
       "      <td>25</td>\n",
       "      <td>110000</td>\n",
       "      <td>7</td>\n",
       "      <td>14</td>\n",
       "      <td>2</td>\n",
       "      <td>12</td>\n",
       "      <td>2</td>\n",
       "    </tr>\n",
       "    <tr>\n",
       "      <th>163</th>\n",
       "      <td>2020</td>\n",
       "      <td>0</td>\n",
       "      <td>2</td>\n",
       "      <td>19</td>\n",
       "      <td>423000</td>\n",
       "      <td>10</td>\n",
       "      <td>27</td>\n",
       "      <td>2</td>\n",
       "      <td>25</td>\n",
       "      <td>2</td>\n",
       "    </tr>\n",
       "    <tr>\n",
       "      <th>...</th>\n",
       "      <td>...</td>\n",
       "      <td>...</td>\n",
       "      <td>...</td>\n",
       "      <td>...</td>\n",
       "      <td>...</td>\n",
       "      <td>...</td>\n",
       "      <td>...</td>\n",
       "      <td>...</td>\n",
       "      <td>...</td>\n",
       "      <td>...</td>\n",
       "    </tr>\n",
       "    <tr>\n",
       "      <th>356</th>\n",
       "      <td>2021</td>\n",
       "      <td>2</td>\n",
       "      <td>2</td>\n",
       "      <td>48</td>\n",
       "      <td>53000</td>\n",
       "      <td>7</td>\n",
       "      <td>19</td>\n",
       "      <td>2</td>\n",
       "      <td>17</td>\n",
       "      <td>2</td>\n",
       "    </tr>\n",
       "    <tr>\n",
       "      <th>448</th>\n",
       "      <td>2020</td>\n",
       "      <td>2</td>\n",
       "      <td>2</td>\n",
       "      <td>17</td>\n",
       "      <td>88000</td>\n",
       "      <td>8</td>\n",
       "      <td>20</td>\n",
       "      <td>2</td>\n",
       "      <td>18</td>\n",
       "      <td>2</td>\n",
       "    </tr>\n",
       "    <tr>\n",
       "      <th>300</th>\n",
       "      <td>2022</td>\n",
       "      <td>3</td>\n",
       "      <td>2</td>\n",
       "      <td>17</td>\n",
       "      <td>60000</td>\n",
       "      <td>8</td>\n",
       "      <td>20</td>\n",
       "      <td>2</td>\n",
       "      <td>18</td>\n",
       "      <td>2</td>\n",
       "    </tr>\n",
       "    <tr>\n",
       "      <th>132</th>\n",
       "      <td>2021</td>\n",
       "      <td>2</td>\n",
       "      <td>2</td>\n",
       "      <td>22</td>\n",
       "      <td>147000</td>\n",
       "      <td>16</td>\n",
       "      <td>55</td>\n",
       "      <td>2</td>\n",
       "      <td>48</td>\n",
       "      <td>2</td>\n",
       "    </tr>\n",
       "    <tr>\n",
       "      <th>373</th>\n",
       "      <td>2021</td>\n",
       "      <td>0</td>\n",
       "      <td>2</td>\n",
       "      <td>8</td>\n",
       "      <td>50000</td>\n",
       "      <td>7</td>\n",
       "      <td>34</td>\n",
       "      <td>2</td>\n",
       "      <td>31</td>\n",
       "      <td>2</td>\n",
       "    </tr>\n",
       "  </tbody>\n",
       "</table>\n",
       "<p>400 rows × 10 columns</p>\n",
       "</div>"
      ],
      "text/plain": [
       "     work_year  experience_level  employment_type  job_title  salary  \\\n",
       "94        2022                 3                2         17  181940   \n",
       "350       2020                 0                2         12   10000   \n",
       "288       2021                 1                0         46  416000   \n",
       "420       2021                 1                2         25  110000   \n",
       "163       2020                 0                2         19  423000   \n",
       "..         ...               ...              ...        ...     ...   \n",
       "356       2021                 2                2         48   53000   \n",
       "448       2020                 2                2         17   88000   \n",
       "300       2022                 3                2         17   60000   \n",
       "132       2021                 2                2         22  147000   \n",
       "373       2021                 0                2          8   50000   \n",
       "\n",
       "     salary_currency  employee_residence  remote_ratio  company_location  \\\n",
       "94                16                  55             2                48   \n",
       "350               16                  39             2                36   \n",
       "288               16                  55             0                48   \n",
       "420                7                  14             2                12   \n",
       "163               10                  27             2                25   \n",
       "..               ...                 ...           ...               ...   \n",
       "356                7                  19             2                17   \n",
       "448                8                  20             2                18   \n",
       "300                8                  20             2                18   \n",
       "132               16                  55             2                48   \n",
       "373                7                  34             2                31   \n",
       "\n",
       "     company_size  \n",
       "94              2  \n",
       "350             2  \n",
       "288             0  \n",
       "420             2  \n",
       "163             2  \n",
       "..            ...  \n",
       "356             2  \n",
       "448             2  \n",
       "300             2  \n",
       "132             2  \n",
       "373             2  \n",
       "\n",
       "[400 rows x 10 columns]"
      ]
     },
     "execution_count": 31,
     "metadata": {},
     "output_type": "execute_result"
    }
   ],
   "source": [
    "X_train"
   ]
  },
  {
   "cell_type": "code",
   "execution_count": 32,
   "id": "d8478f90",
   "metadata": {},
   "outputs": [
    {
     "data": {
      "text/plain": [
       "((400, 10), (100, 10), (400,), (100,))"
      ]
     },
     "execution_count": 32,
     "metadata": {},
     "output_type": "execute_result"
    }
   ],
   "source": [
    "X_train, X_test, y_train, y_test = tts(X, y, train_size=0.8, test_size=0.2, random_state=22)\n",
    "\n",
    "X_train.shape, X_test.shape, y_train.shape, y_test.shape"
   ]
  },
  {
   "cell_type": "markdown",
   "id": "762f6610",
   "metadata": {},
   "source": [
    "### Entrenamos"
   ]
  },
  {
   "cell_type": "code",
   "execution_count": 33,
   "id": "c5f13313",
   "metadata": {},
   "outputs": [],
   "source": [
    "rfr = Rfr()  # iniciamos modelo"
   ]
  },
  {
   "cell_type": "code",
   "execution_count": 34,
   "id": "277d5e85",
   "metadata": {},
   "outputs": [
    {
     "data": {
      "text/plain": [
       "RandomForestRegressor()"
      ]
     },
     "execution_count": 34,
     "metadata": {},
     "output_type": "execute_result"
    }
   ],
   "source": [
    "rfr.fit(X_train, y_train) # 2º ENTRENAR los valores train >>>> modelo.fit(x_train, y_train) ++++ X TRAIN +++++"
   ]
  },
  {
   "cell_type": "code",
   "execution_count": 35,
   "id": "820c61df",
   "metadata": {},
   "outputs": [],
   "source": [
    "y_pred_train=rfr.predict(X_train) # 3º CALCULAR Y PREDECIR  >>>'y_predecida' = modelo.predict(x_train)  ++++ X_Train ++++"
   ]
  },
  {
   "cell_type": "code",
   "execution_count": 36,
   "id": "e4ee7fbc",
   "metadata": {},
   "outputs": [
    {
     "data": {
      "text/plain": [
       "array([182144.4 ,  10398.87, 407300.  , 120673.07,  15450.54, 130117.5 ,\n",
       "       119970.  , 150063.4 ,   5881.5 , 180000.  ])"
      ]
     },
     "execution_count": 36,
     "metadata": {},
     "output_type": "execute_result"
    }
   ],
   "source": [
    "y_pred_train[:10]"
   ]
  },
  {
   "cell_type": "code",
   "execution_count": 37,
   "id": "10c05cad",
   "metadata": {},
   "outputs": [
    {
     "data": {
      "text/plain": [
       "400"
      ]
     },
     "execution_count": 37,
     "metadata": {},
     "output_type": "execute_result"
    }
   ],
   "source": [
    "len(y_pred_train)"
   ]
  },
  {
   "cell_type": "code",
   "execution_count": 38,
   "id": "36cabba6",
   "metadata": {},
   "outputs": [
    {
     "data": {
      "text/plain": [
       "[182144.4,\n",
       " 10398.87,\n",
       " 407300.0,\n",
       " 120673.07,\n",
       " 15450.54,\n",
       " 130117.5,\n",
       " 119970.0,\n",
       " 150063.4,\n",
       " 5881.5,\n",
       " 180000.0]"
      ]
     },
     "execution_count": 38,
     "metadata": {},
     "output_type": "execute_result"
    }
   ],
   "source": [
    "y_pred_train = list(y_pred_train)\n",
    "y_pred_train[:10]"
   ]
  },
  {
   "cell_type": "code",
   "execution_count": 39,
   "id": "16f305c7",
   "metadata": {},
   "outputs": [
    {
     "data": {
      "text/plain": [
       "400"
      ]
     },
     "execution_count": 39,
     "metadata": {},
     "output_type": "execute_result"
    }
   ],
   "source": [
    "len(X_train)"
   ]
  },
  {
   "cell_type": "markdown",
   "id": "e2d94923",
   "metadata": {},
   "source": [
    "### Testeamos"
   ]
  },
  {
   "cell_type": "code",
   "execution_count": 40,
   "id": "3caa3b3e",
   "metadata": {},
   "outputs": [
    {
     "data": {
      "text/plain": [
       "RandomForestRegressor()"
      ]
     },
     "execution_count": 40,
     "metadata": {},
     "output_type": "execute_result"
    }
   ],
   "source": [
    "rfr.fit(X_train, y_train)\n"
   ]
  },
  {
   "cell_type": "code",
   "execution_count": 41,
   "id": "8e7432b9",
   "metadata": {},
   "outputs": [],
   "source": [
    "y_pred_testeo=rfr.predict(X_testeo) # +++++ UTILIZAMOS LA MUESTRA DE TESTEO KAGGLE+++++++"
   ]
  },
  {
   "cell_type": "code",
   "execution_count": 42,
   "id": "a402ecc3",
   "metadata": {},
   "outputs": [
    {
     "data": {
      "text/plain": [
       "array([172943.5 ,  87680.  ,  84892.22, 144349.28,  28957.12,  20198.68,\n",
       "        70789.19,  51775.83,  47824.59, 188846.4 ])"
      ]
     },
     "execution_count": 42,
     "metadata": {},
     "output_type": "execute_result"
    }
   ],
   "source": [
    "y_pred_testeo[:10]"
   ]
  },
  {
   "cell_type": "code",
   "execution_count": 43,
   "id": "166d5c68",
   "metadata": {},
   "outputs": [
    {
     "data": {
      "text/plain": [
       "[172943.5,\n",
       " 87680.0,\n",
       " 84892.22,\n",
       " 144349.28,\n",
       " 28957.12,\n",
       " 20198.68,\n",
       " 70789.19,\n",
       " 51775.83,\n",
       " 47824.59,\n",
       " 188846.4]"
      ]
     },
     "execution_count": 43,
     "metadata": {},
     "output_type": "execute_result"
    }
   ],
   "source": [
    "y_pred_testeo = list(y_pred_testeo)\n",
    "y_pred_testeo[:10]"
   ]
  },
  {
   "cell_type": "code",
   "execution_count": 44,
   "id": "f431de87",
   "metadata": {},
   "outputs": [
    {
     "data": {
      "text/plain": [
       "107"
      ]
     },
     "execution_count": 44,
     "metadata": {},
     "output_type": "execute_result"
    }
   ],
   "source": [
    "len(y_pred_testeo)"
   ]
  },
  {
   "cell_type": "markdown",
   "id": "d93af34f",
   "metadata": {},
   "source": [
    "### Comparamos el valor original en una data frame el valor original, la prediccion dle train y la del test"
   ]
  },
  {
   "cell_type": "code",
   "execution_count": 45,
   "id": "f7e992c4",
   "metadata": {},
   "outputs": [
    {
     "data": {
      "text/plain": [
       "0      140250\n",
       "1      135000\n",
       "2      100000\n",
       "3      270000\n",
       "4       26005\n",
       "        ...  \n",
       "495    100000\n",
       "496      5882\n",
       "497     90700\n",
       "498     82528\n",
       "499     70000\n",
       "Name: salary_in_usd, Length: 500, dtype: int64"
      ]
     },
     "execution_count": 45,
     "metadata": {},
     "output_type": "execute_result"
    }
   ],
   "source": [
    "y"
   ]
  },
  {
   "cell_type": "code",
   "execution_count": 46,
   "id": "913aa446",
   "metadata": {},
   "outputs": [
    {
     "data": {
      "text/plain": [
       "[172943.5,\n",
       " 87680.0,\n",
       " 84892.22,\n",
       " 144349.28,\n",
       " 28957.12,\n",
       " 20198.68,\n",
       " 70789.19,\n",
       " 51775.83,\n",
       " 47824.59,\n",
       " 188846.4]"
      ]
     },
     "execution_count": 46,
     "metadata": {},
     "output_type": "execute_result"
    }
   ],
   "source": [
    "y_pred_testeo[:10]"
   ]
  },
  {
   "cell_type": "code",
   "execution_count": 47,
   "id": "2f3fa186",
   "metadata": {},
   "outputs": [
    {
     "data": {
      "text/html": [
       "<div>\n",
       "<style scoped>\n",
       "    .dataframe tbody tr th:only-of-type {\n",
       "        vertical-align: middle;\n",
       "    }\n",
       "\n",
       "    .dataframe tbody tr th {\n",
       "        vertical-align: top;\n",
       "    }\n",
       "\n",
       "    .dataframe thead th {\n",
       "        text-align: right;\n",
       "    }\n",
       "</style>\n",
       "<table border=\"1\" class=\"dataframe\">\n",
       "  <thead>\n",
       "    <tr style=\"text-align: right;\">\n",
       "      <th></th>\n",
       "      <th>id</th>\n",
       "      <th>salary_in_usd</th>\n",
       "    </tr>\n",
       "  </thead>\n",
       "  <tbody>\n",
       "    <tr>\n",
       "      <th>0</th>\n",
       "      <td>0</td>\n",
       "      <td>70377</td>\n",
       "    </tr>\n",
       "    <tr>\n",
       "      <th>1</th>\n",
       "      <td>1</td>\n",
       "      <td>85839</td>\n",
       "    </tr>\n",
       "    <tr>\n",
       "      <th>2</th>\n",
       "      <td>2</td>\n",
       "      <td>63613</td>\n",
       "    </tr>\n",
       "    <tr>\n",
       "      <th>3</th>\n",
       "      <td>3</td>\n",
       "      <td>88561</td>\n",
       "    </tr>\n",
       "    <tr>\n",
       "      <th>4</th>\n",
       "      <td>4</td>\n",
       "      <td>37621</td>\n",
       "    </tr>\n",
       "    <tr>\n",
       "      <th>...</th>\n",
       "      <td>...</td>\n",
       "      <td>...</td>\n",
       "    </tr>\n",
       "    <tr>\n",
       "      <th>102</th>\n",
       "      <td>102</td>\n",
       "      <td>70639</td>\n",
       "    </tr>\n",
       "    <tr>\n",
       "      <th>103</th>\n",
       "      <td>103</td>\n",
       "      <td>33678</td>\n",
       "    </tr>\n",
       "    <tr>\n",
       "      <th>104</th>\n",
       "      <td>104</td>\n",
       "      <td>19021</td>\n",
       "    </tr>\n",
       "    <tr>\n",
       "      <th>105</th>\n",
       "      <td>105</td>\n",
       "      <td>21175</td>\n",
       "    </tr>\n",
       "    <tr>\n",
       "      <th>106</th>\n",
       "      <td>106</td>\n",
       "      <td>34801</td>\n",
       "    </tr>\n",
       "  </tbody>\n",
       "</table>\n",
       "<p>107 rows × 2 columns</p>\n",
       "</div>"
      ],
      "text/plain": [
       "      id  salary_in_usd\n",
       "0      0          70377\n",
       "1      1          85839\n",
       "2      2          63613\n",
       "3      3          88561\n",
       "4      4          37621\n",
       "..   ...            ...\n",
       "102  102          70639\n",
       "103  103          33678\n",
       "104  104          19021\n",
       "105  105          21175\n",
       "106  106          34801\n",
       "\n",
       "[107 rows x 2 columns]"
      ]
     },
     "execution_count": 47,
     "metadata": {},
     "output_type": "execute_result"
    }
   ],
   "source": [
    "muestra"
   ]
  },
  {
   "cell_type": "markdown",
   "id": "59b8f561",
   "metadata": {},
   "source": [
    "### añadir una columna al dataframe con un valor obtenido"
   ]
  },
  {
   "cell_type": "code",
   "execution_count": 48,
   "id": "8cae5214",
   "metadata": {},
   "outputs": [],
   "source": [
    "muestra['salary_in_usd'] = y_pred_testeo"
   ]
  },
  {
   "cell_type": "code",
   "execution_count": 49,
   "id": "a6a14473",
   "metadata": {},
   "outputs": [
    {
     "data": {
      "text/html": [
       "<div>\n",
       "<style scoped>\n",
       "    .dataframe tbody tr th:only-of-type {\n",
       "        vertical-align: middle;\n",
       "    }\n",
       "\n",
       "    .dataframe tbody tr th {\n",
       "        vertical-align: top;\n",
       "    }\n",
       "\n",
       "    .dataframe thead th {\n",
       "        text-align: right;\n",
       "    }\n",
       "</style>\n",
       "<table border=\"1\" class=\"dataframe\">\n",
       "  <thead>\n",
       "    <tr style=\"text-align: right;\">\n",
       "      <th></th>\n",
       "      <th>id</th>\n",
       "      <th>salary_in_usd</th>\n",
       "    </tr>\n",
       "  </thead>\n",
       "  <tbody>\n",
       "    <tr>\n",
       "      <th>0</th>\n",
       "      <td>0</td>\n",
       "      <td>172943.50</td>\n",
       "    </tr>\n",
       "    <tr>\n",
       "      <th>1</th>\n",
       "      <td>1</td>\n",
       "      <td>87680.00</td>\n",
       "    </tr>\n",
       "    <tr>\n",
       "      <th>2</th>\n",
       "      <td>2</td>\n",
       "      <td>84892.22</td>\n",
       "    </tr>\n",
       "    <tr>\n",
       "      <th>3</th>\n",
       "      <td>3</td>\n",
       "      <td>144349.28</td>\n",
       "    </tr>\n",
       "    <tr>\n",
       "      <th>4</th>\n",
       "      <td>4</td>\n",
       "      <td>28957.12</td>\n",
       "    </tr>\n",
       "    <tr>\n",
       "      <th>...</th>\n",
       "      <td>...</td>\n",
       "      <td>...</td>\n",
       "    </tr>\n",
       "    <tr>\n",
       "      <th>102</th>\n",
       "      <td>102</td>\n",
       "      <td>169980.00</td>\n",
       "    </tr>\n",
       "    <tr>\n",
       "      <th>103</th>\n",
       "      <td>103</td>\n",
       "      <td>190726.00</td>\n",
       "    </tr>\n",
       "    <tr>\n",
       "      <th>104</th>\n",
       "      <td>104</td>\n",
       "      <td>229503.20</td>\n",
       "    </tr>\n",
       "    <tr>\n",
       "      <th>105</th>\n",
       "      <td>105</td>\n",
       "      <td>57216.01</td>\n",
       "    </tr>\n",
       "    <tr>\n",
       "      <th>106</th>\n",
       "      <td>106</td>\n",
       "      <td>129391.25</td>\n",
       "    </tr>\n",
       "  </tbody>\n",
       "</table>\n",
       "<p>107 rows × 2 columns</p>\n",
       "</div>"
      ],
      "text/plain": [
       "      id  salary_in_usd\n",
       "0      0      172943.50\n",
       "1      1       87680.00\n",
       "2      2       84892.22\n",
       "3      3      144349.28\n",
       "4      4       28957.12\n",
       "..   ...            ...\n",
       "102  102      169980.00\n",
       "103  103      190726.00\n",
       "104  104      229503.20\n",
       "105  105       57216.01\n",
       "106  106      129391.25\n",
       "\n",
       "[107 rows x 2 columns]"
      ]
     },
     "execution_count": 49,
     "metadata": {},
     "output_type": "execute_result"
    }
   ],
   "source": [
    "muestra"
   ]
  },
  {
   "cell_type": "code",
   "execution_count": 50,
   "id": "b4a31343",
   "metadata": {},
   "outputs": [
    {
     "data": {
      "text/plain": [
       "(107, 2)"
      ]
     },
     "execution_count": 50,
     "metadata": {},
     "output_type": "execute_result"
    }
   ],
   "source": [
    " muestra.shape"
   ]
  },
  {
   "cell_type": "markdown",
   "id": "b6c0d0de",
   "metadata": {},
   "source": [
    "### MSE & RMSE"
   ]
  },
  {
   "cell_type": "code",
   "execution_count": 51,
   "id": "56bba00f",
   "metadata": {},
   "outputs": [],
   "source": [
    "from sklearn.metrics import mean_squared_error"
   ]
  },
  {
   "cell_type": "code",
   "execution_count": 52,
   "id": "f585fac8",
   "metadata": {},
   "outputs": [],
   "source": [
    "import math"
   ]
  },
  {
   "cell_type": "code",
   "execution_count": 53,
   "id": "61ac0494",
   "metadata": {},
   "outputs": [
    {
     "data": {
      "text/plain": [
       "27167600.93939401"
      ]
     },
     "execution_count": 53,
     "metadata": {},
     "output_type": "execute_result"
    }
   ],
   "source": [
    "MSE = mean_squared_error(y_train, y_pred_train)\n",
    "MSE"
   ]
  },
  {
   "cell_type": "code",
   "execution_count": 54,
   "id": "970c2921",
   "metadata": {},
   "outputs": [
    {
     "data": {
      "text/plain": [
       "5212.254880509395"
      ]
     },
     "execution_count": 54,
     "metadata": {},
     "output_type": "execute_result"
    }
   ],
   "source": [
    "RMSE = math.sqrt(MSE)\n",
    "RMSE"
   ]
  },
  {
   "cell_type": "markdown",
   "id": "e706d830",
   "metadata": {},
   "source": [
    "### MODELO : GradientBoostingRegressor"
   ]
  },
  {
   "cell_type": "code",
   "execution_count": 55,
   "id": "44e33218",
   "metadata": {},
   "outputs": [],
   "source": [
    "from sklearn.datasets import make_regression"
   ]
  },
  {
   "cell_type": "code",
   "execution_count": 56,
   "id": "6b0d81da",
   "metadata": {},
   "outputs": [],
   "source": [
    "from sklearn.ensemble import GradientBoostingRegressor "
   ]
  },
  {
   "cell_type": "markdown",
   "id": "0e31949c",
   "metadata": {},
   "source": [
    "ENTRENAMOS"
   ]
  },
  {
   "cell_type": "code",
   "execution_count": 57,
   "id": "aa658efd",
   "metadata": {},
   "outputs": [],
   "source": [
    "boo = GradientBoostingRegressor() # INICIAMOS"
   ]
  },
  {
   "cell_type": "code",
   "execution_count": 58,
   "id": "b2d6b34b",
   "metadata": {},
   "outputs": [
    {
     "data": {
      "text/plain": [
       "GradientBoostingRegressor()"
      ]
     },
     "execution_count": 58,
     "metadata": {},
     "output_type": "execute_result"
    }
   ],
   "source": [
    "boo.fit(X_train, y_train) # ENTRENAMOS el train"
   ]
  },
  {
   "cell_type": "code",
   "execution_count": 59,
   "id": "42d40f33",
   "metadata": {},
   "outputs": [],
   "source": [
    "y_pred_train=boo.predict(X_train) # PREDECIMOS el train"
   ]
  },
  {
   "cell_type": "code",
   "execution_count": 60,
   "id": "f5812b33",
   "metadata": {},
   "outputs": [
    {
     "data": {
      "text/plain": [
       "array([181519.8300701 ,  10997.42672529, 415980.01865258, 131421.99813875,\n",
       "        13714.24665712, 135554.16119802, 119031.24946791, 153457.03369915,\n",
       "         7601.61642066, 174595.97917352])"
      ]
     },
     "execution_count": 60,
     "metadata": {},
     "output_type": "execute_result"
    }
   ],
   "source": [
    "y_pred_train[:10]"
   ]
  },
  {
   "cell_type": "code",
   "execution_count": 61,
   "id": "7e74173f",
   "metadata": {},
   "outputs": [
    {
     "data": {
      "text/plain": [
       "400"
      ]
     },
     "execution_count": 61,
     "metadata": {},
     "output_type": "execute_result"
    }
   ],
   "source": [
    "len(y_pred_train)"
   ]
  },
  {
   "cell_type": "code",
   "execution_count": 62,
   "id": "917f2989",
   "metadata": {},
   "outputs": [
    {
     "data": {
      "text/plain": [
       "400"
      ]
     },
     "execution_count": 62,
     "metadata": {},
     "output_type": "execute_result"
    }
   ],
   "source": [
    "len(X_train)"
   ]
  },
  {
   "cell_type": "markdown",
   "id": "22cf7dba",
   "metadata": {},
   "source": [
    "TESTEAMOS"
   ]
  },
  {
   "cell_type": "code",
   "execution_count": 63,
   "id": "9080e294",
   "metadata": {},
   "outputs": [
    {
     "data": {
      "text/plain": [
       "GradientBoostingRegressor()"
      ]
     },
     "execution_count": 63,
     "metadata": {},
     "output_type": "execute_result"
    }
   ],
   "source": [
    "boo.fit(X_train, y_train) "
   ]
  },
  {
   "cell_type": "code",
   "execution_count": 64,
   "id": "231d7af0",
   "metadata": {},
   "outputs": [],
   "source": [
    "y_pred_testeo=boo.predict(X_testeo) # PREDECIMOS el TESTEO"
   ]
  },
  {
   "cell_type": "code",
   "execution_count": 65,
   "id": "4322ae9a",
   "metadata": {},
   "outputs": [
    {
     "data": {
      "text/plain": [
       "array([227465.99648244,  92321.42454372,  91674.71991892,  99571.03396191,\n",
       "        44717.59328292,  13711.40674381,  72332.24479953,  51170.40094856,\n",
       "        40312.75700411, 188545.45030845])"
      ]
     },
     "execution_count": 65,
     "metadata": {},
     "output_type": "execute_result"
    }
   ],
   "source": [
    "y_pred_testeo[:10]"
   ]
  },
  {
   "cell_type": "code",
   "execution_count": 66,
   "id": "7370cf86",
   "metadata": {},
   "outputs": [
    {
     "data": {
      "text/plain": [
       "107"
      ]
     },
     "execution_count": 66,
     "metadata": {},
     "output_type": "execute_result"
    }
   ],
   "source": [
    "len(y_pred_testeo)"
   ]
  },
  {
   "cell_type": "markdown",
   "id": "6a7c2326",
   "metadata": {},
   "source": [
    "### DATAFRAME COMPARACION Y_TRAIN, Y_PRED_TRAIN"
   ]
  },
  {
   "cell_type": "code",
   "execution_count": 69,
   "id": "67bc4fb2",
   "metadata": {},
   "outputs": [
    {
     "data": {
      "text/plain": [
       "15305650.018972795"
      ]
     },
     "execution_count": 69,
     "metadata": {},
     "output_type": "execute_result"
    }
   ],
   "source": [
    "MSE = mean_squared_error(y_train, y_pred_train)\n",
    "MSE"
   ]
  },
  {
   "cell_type": "code",
   "execution_count": 70,
   "id": "456701ae",
   "metadata": {},
   "outputs": [
    {
     "data": {
      "text/plain": [
       "3912.243604247158"
      ]
     },
     "execution_count": 70,
     "metadata": {},
     "output_type": "execute_result"
    }
   ],
   "source": [
    "RMSE = math.sqrt(MSE)\n",
    "RMSE"
   ]
  },
  {
   "cell_type": "code",
   "execution_count": null,
   "id": "b34f44f8",
   "metadata": {},
   "outputs": [],
   "source": []
  }
 ],
 "metadata": {
  "kernelspec": {
   "display_name": "Python 3 (ipykernel)",
   "language": "python",
   "name": "python3"
  },
  "language_info": {
   "codemirror_mode": {
    "name": "ipython",
    "version": 3
   },
   "file_extension": ".py",
   "mimetype": "text/x-python",
   "name": "python",
   "nbconvert_exporter": "python",
   "pygments_lexer": "ipython3",
   "version": "3.9.12"
  }
 },
 "nbformat": 4,
 "nbformat_minor": 5
}
